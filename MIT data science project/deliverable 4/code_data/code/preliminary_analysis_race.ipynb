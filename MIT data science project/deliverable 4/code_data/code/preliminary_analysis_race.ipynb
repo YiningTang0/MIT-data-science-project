{
 "cells": [
  {
   "cell_type": "markdown",
   "metadata": {
    "collapsed": true,
    "pycharm": {
     "name": "#%% md\n"
    }
   },
   "source": [
    "# Preliminary Analysis and Deliverable 2\n",
    "\n",
    "**Introduction**\n",
    "\n",
    "In this preliminary analysis, we are going to focus on the shape of data regarding the race difference.\n",
    "We are going to examine the disparity between different race.\n",
    "\n",
    "**Question to be answered:**\n",
    "\n",
    "Has this disparity changed over time and, if so, in what way?\n",
    "\n",
    "- Visualize the change in number of articles, conference proceedings, grants, and patents over time by gender and by race\n",
    "\n",
    "**Initial Exploration**\n",
    "\n",
    "1. Data visualization of all faculties we have in number of articles, conference proceedings, grants, and patents by race;\n",
    "2. Data visualization of number of articles, conference proceedings, grants, and patents between departments.\n"
   ]
  },
  {
   "cell_type": "markdown",
   "metadata": {
    "pycharm": {
     "name": "#%% md\n"
    }
   },
   "source": [
    "**Import Libraries**"
   ]
  },
  {
   "cell_type": "code",
   "execution_count": 2,
   "metadata": {
    "pycharm": {
     "name": "#%%\n"
    }
   },
   "outputs": [],
   "source": [
    "import pandas as pd\n",
    "import numpy as np\n",
    "import matplotlib.pyplot as plt\n",
    "import seaborn as sns"
   ]
  },
  {
   "cell_type": "markdown",
   "metadata": {
    "pycharm": {
     "name": "#%% md\n"
    }
   },
   "source": [
    "### Preliminary Analysis on Race"
   ]
  },
  {
   "cell_type": "code",
   "execution_count": 5,
   "metadata": {
    "pycharm": {
     "name": "#%%\n"
    }
   },
   "outputs": [
    {
     "name": "stdout",
     "output_type": "stream",
     "text": [
      "(749, 13)\n"
     ]
    },
    {
     "data": {
      "text/html": [
       "<div>\n",
       "<style scoped>\n",
       "    .dataframe tbody tr th:only-of-type {\n",
       "        vertical-align: middle;\n",
       "    }\n",
       "\n",
       "    .dataframe tbody tr th {\n",
       "        vertical-align: top;\n",
       "    }\n",
       "\n",
       "    .dataframe thead th {\n",
       "        text-align: right;\n",
       "    }\n",
       "</style>\n",
       "<table border=\"1\" class=\"dataframe\">\n",
       "  <thead>\n",
       "    <tr style=\"text-align: right;\">\n",
       "      <th></th>\n",
       "      <th>Id</th>\n",
       "      <th>Name</th>\n",
       "      <th>LastName</th>\n",
       "      <th>FirstName</th>\n",
       "      <th>Gender</th>\n",
       "      <th>RankName</th>\n",
       "      <th>Department</th>\n",
       "      <th>TotalArticleCount</th>\n",
       "      <th>TotalConfProcCount</th>\n",
       "      <th>TotalGrantCount</th>\n",
       "      <th>TotalPatentCount</th>\n",
       "      <th>TotalCourseCount</th>\n",
       "      <th>Race</th>\n",
       "    </tr>\n",
       "  </thead>\n",
       "  <tbody>\n",
       "    <tr>\n",
       "      <th>0</th>\n",
       "      <td>1485</td>\n",
       "      <td>BALAKRISHNAN, HAMSA</td>\n",
       "      <td>BALAKRISHNAN</td>\n",
       "      <td>HAMSA</td>\n",
       "      <td>Male</td>\n",
       "      <td>Professor</td>\n",
       "      <td>Aeronautics and Astronautics</td>\n",
       "      <td>46</td>\n",
       "      <td>63</td>\n",
       "      <td>15</td>\n",
       "      <td>1</td>\n",
       "      <td>2</td>\n",
       "      <td>PCTAPI</td>\n",
       "    </tr>\n",
       "    <tr>\n",
       "      <th>1</th>\n",
       "      <td>2030</td>\n",
       "      <td>BARRETT, STEVEN R. H</td>\n",
       "      <td>BARRETT</td>\n",
       "      <td>STEVEN</td>\n",
       "      <td>Male</td>\n",
       "      <td>Associate</td>\n",
       "      <td>Aeronautics and Astronautics</td>\n",
       "      <td>87</td>\n",
       "      <td>7</td>\n",
       "      <td>11</td>\n",
       "      <td>1</td>\n",
       "      <td>2</td>\n",
       "      <td>PCTWHITE</td>\n",
       "    </tr>\n",
       "  </tbody>\n",
       "</table>\n",
       "</div>"
      ],
      "text/plain": [
       "     Id                  Name      LastName FirstName Gender   RankName  \\\n",
       "0  1485   BALAKRISHNAN, HAMSA  BALAKRISHNAN     HAMSA   Male  Professor   \n",
       "1  2030  BARRETT, STEVEN R. H       BARRETT    STEVEN   Male  Associate   \n",
       "\n",
       "                     Department  TotalArticleCount  TotalConfProcCount  \\\n",
       "0  Aeronautics and Astronautics                 46                  63   \n",
       "1  Aeronautics and Astronautics                 87                   7   \n",
       "\n",
       "   TotalGrantCount  TotalPatentCount  TotalCourseCount      Race  \n",
       "0               15                 1                 2    PCTAPI  \n",
       "1               11                 1                 2  PCTWHITE  "
      ]
     },
     "execution_count": 5,
     "metadata": {},
     "output_type": "execute_result"
    }
   ],
   "source": [
    "df = pd.read_csv(\"/Users/jennywong/Documents/Senior I 2021 Fall/CS506/final_proj/CS506_private/data_important/faculties_gender_race.csv\")\n",
    "print(df.shape)\n",
    "df.head(2)"
   ]
  },
  {
   "cell_type": "code",
   "execution_count": 6,
   "metadata": {
    "pycharm": {
     "name": "#%%\n"
    }
   },
   "outputs": [
    {
     "data": {
      "text/plain": [
       "array(['PCTAPI', 'PCTWHITE', 'PCTHISPANIC', 'PCTBLACK'], dtype=object)"
      ]
     },
     "execution_count": 6,
     "metadata": {},
     "output_type": "execute_result"
    }
   ],
   "source": [
    "race_type = df['Race'].unique()\n",
    "race_type"
   ]
  },
  {
   "cell_type": "code",
   "execution_count": 8,
   "metadata": {},
   "outputs": [
    {
     "data": {
      "text/plain": [
       "(692, 12)"
      ]
     },
     "execution_count": 8,
     "metadata": {},
     "output_type": "execute_result"
    }
   ],
   "source": [
    "df_overall = df.drop(columns=['Department']).drop_duplicates()\n",
    "df_overall.shape"
   ]
  },
  {
   "cell_type": "code",
   "execution_count": 7,
   "metadata": {
    "pycharm": {
     "name": "#%%\n"
    }
   },
   "outputs": [
    {
     "data": {
      "text/plain": [
       "PCTWHITE       624\n",
       "PCTAPI         107\n",
       "PCTHISPANIC     15\n",
       "PCTBLACK         3\n",
       "Name: Race, dtype: int64"
      ]
     },
     "execution_count": 7,
     "metadata": {},
     "output_type": "execute_result"
    }
   ],
   "source": [
    "x = df['Race'].value_counts()\n",
    "x"
   ]
  },
  {
   "cell_type": "code",
   "execution_count": 30,
   "metadata": {},
   "outputs": [
    {
     "data": {
      "text/plain": [
       "PCTWHITE       577\n",
       "PCTAPI          97\n",
       "PCTHISPANIC     15\n",
       "PCTBLACK         3\n",
       "Name: Race, dtype: int64"
      ]
     },
     "execution_count": 30,
     "metadata": {},
     "output_type": "execute_result"
    }
   ],
   "source": [
    "x = df_overall['Race'].value_counts()\n",
    "x"
   ]
  },
  {
   "cell_type": "code",
   "execution_count": 38,
   "metadata": {},
   "outputs": [
    {
     "data": {
      "text/plain": [
       "array([577,  97,  15,   3])"
      ]
     },
     "execution_count": 38,
     "metadata": {},
     "output_type": "execute_result"
    }
   ],
   "source": [
    "x.to_numpy()"
   ]
  },
  {
   "cell_type": "code",
   "execution_count": 51,
   "metadata": {},
   "outputs": [
    {
     "data": {
      "image/png": "[encoded data removed]",
      "text/plain": [
       "<Figure size 360x360 with 1 Axes>"
      ]
     },
     "metadata": {},
     "output_type": "display_data"
    }
   ],
   "source": [
    "# a, b, c = plt.pie(x, labels=['WHITE', 'API', 'HISPANIC', 'BLACK'], autopct='%1.1f%%', textprops = {\"fontsize\":12})\n",
    "plt.figure(figsize=(5, 5))\n",
    "\n",
    "labels = ['WHITE', 'API', 'HISPANIC', 'BLACK']\n",
    "plt.pie(x)\n",
    "y = x.to_numpy()\n",
    "porcent = 100.*y/y.sum()\n",
    "labels = ['{0} - {1:1.2f} %'.format(i,j) for i,j in zip(labels, porcent)]\n",
    "plt.legend(labels, loc='center right', bbox_to_anchor=(1.3, 0.8))\n",
    "a = plt.title(\"Race Distribution of Whole Dataset\")"
   ]
  },
  {
   "cell_type": "code",
   "execution_count": 10,
   "metadata": {
    "pycharm": {
     "name": "#%%\n"
    }
   },
   "outputs": [
    {
     "name": "stderr",
     "output_type": "stream",
     "text": [
      "/Library/Frameworks/Python.framework/Versions/3.8/lib/python3.8/site-packages/seaborn/_decorators.py:36: FutureWarning: Pass the following variables as keyword args: x, y. From version 0.12, the only valid positional argument will be `data`, and passing other arguments without an explicit keyword will result in an error or misinterpretation.\n",
      "  warnings.warn(\n"
     ]
    },
    {
     "data": {
      "text/plain": [
       "Text(0.5, 1.0, 'Number of People in Race')"
      ]
     },
     "execution_count": 10,
     "metadata": {},
     "output_type": "execute_result"
    },
    {
     "data": {
      "image/png": "[encoded data removed]",
      "text/plain": [
       "<Figure size 432x288 with 1 Axes>"
      ]
     },
     "metadata": {
      "needs_background": "light"
     },
     "output_type": "display_data"
    }
   ],
   "source": [
    "sns.barplot(x.index,x).set_title(\"Number of People in Race\")"
   ]
  },
  {
   "cell_type": "markdown",
   "metadata": {
    "pycharm": {
     "name": "#%% md\n"
    }
   },
   "source": [
    "**Patent by Race**"
   ]
  },
  {
   "cell_type": "code",
   "execution_count": 53,
   "metadata": {
    "pycharm": {
     "name": "#%%\n"
    }
   },
   "outputs": [
    {
     "data": {
      "text/plain": [
       "Race\n",
       "PCTAPI         1194\n",
       "PCTBLACK         79\n",
       "PCTHISPANIC      81\n",
       "PCTWHITE       6751\n",
       "Name: TotalPatentCount, dtype: int64"
      ]
     },
     "execution_count": 53,
     "metadata": {},
     "output_type": "execute_result"
    }
   ],
   "source": [
    "df_Patent_count = df.groupby('Race')['TotalPatentCount'].sum()\n",
    "df_Patent_count"
   ]
  },
  {
   "cell_type": "code",
   "execution_count": 55,
   "metadata": {},
   "outputs": [],
   "source": [
    "def addlabels(x,y):\n",
    "    for i in range(len(x)):\n",
    "        plt.text(i, y[i], y[i], fontsize=12, ha = 'center',\n",
    "                Bbox = dict(facecolor = 'white', alpha =.8))"
   ]
  },
  {
   "cell_type": "code",
   "execution_count": 56,
   "metadata": {},
   "outputs": [
    {
     "name": "stdout",
     "output_type": "stream",
     "text": [
      "Race\n",
      "PCTAPI         1037\n",
      "PCTBLACK         79\n",
      "PCTHISPANIC      81\n",
      "PCTWHITE       5612\n",
      "Name: TotalPatentCount, dtype: int64\n"
     ]
    },
    {
     "name": "stderr",
     "output_type": "stream",
     "text": [
      "<ipython-input-55-17feecca167e>:3: MatplotlibDeprecationWarning: Case-insensitive properties were deprecated in 3.3 and support will be removed two minor releases later\n",
      "  plt.text(i, y[i], y[i], fontsize=12, ha = 'center',\n"
     ]
    },
    {
     "data": {
      "text/plain": [
       "Text(0.5, 0, 'Race')"
      ]
     },
     "execution_count": 56,
     "metadata": {},
     "output_type": "execute_result"
    },
    {
     "data": {
      "image/png": "[encoded data removed]",
      "text/plain": [
       "<Figure size 432x288 with 1 Axes>"
      ]
     },
     "metadata": {
      "needs_background": "light"
     },
     "output_type": "display_data"
    }
   ],
   "source": [
    "df_Patent_count = df_overall.groupby('Race')['TotalPatentCount'].sum()\n",
    "print(df_Patent_count)\n",
    "plt.bar(df_Patent_count.index,df_Patent_count, color=['tab:blue', 'tab:orange', 'tab:green', 'tab:red'])\n",
    "addlabels(df_Patent_count.index,df_Patent_count)\n",
    "plt.title(\"Race Distribution of Patent\")\n",
    "plt.ylabel(\"Number of Total Patent Count\")\n",
    "plt.xlabel(\"Race\")"
   ]
  },
  {
   "cell_type": "code",
   "execution_count": null,
   "metadata": {},
   "outputs": [],
   "source": []
  },
  {
   "cell_type": "markdown",
   "metadata": {
    "pycharm": {
     "name": "#%% md\n"
    }
   },
   "source": [
    "**Article by Race**"
   ]
  },
  {
   "cell_type": "code",
   "execution_count": 14,
   "metadata": {
    "pycharm": {
     "name": "#%%\n"
    }
   },
   "outputs": [
    {
     "data": {
      "text/plain": [
       "Race\n",
       "PCTAPI         15239\n",
       "PCTBLACK         216\n",
       "PCTHISPANIC     1484\n",
       "PCTWHITE       74925\n",
       "Name: TotalArticleCount, dtype: int64"
      ]
     },
     "execution_count": 14,
     "metadata": {},
     "output_type": "execute_result"
    }
   ],
   "source": [
    "df_Article_count = df.groupby('Race')['TotalArticleCount'].sum()\n",
    "df_Article_count"
   ]
  },
  {
   "cell_type": "code",
   "execution_count": 57,
   "metadata": {},
   "outputs": [
    {
     "name": "stdout",
     "output_type": "stream",
     "text": [
      "Race\n",
      "PCTAPI         13050\n",
      "PCTBLACK         216\n",
      "PCTHISPANIC     1484\n",
      "PCTWHITE       67222\n",
      "Name: TotalArticleCount, dtype: int64\n"
     ]
    },
    {
     "name": "stderr",
     "output_type": "stream",
     "text": [
      "<ipython-input-55-17feecca167e>:3: MatplotlibDeprecationWarning: Case-insensitive properties were deprecated in 3.3 and support will be removed two minor releases later\n",
      "  plt.text(i, y[i], y[i], fontsize=12, ha = 'center',\n"
     ]
    },
    {
     "data": {
      "text/plain": [
       "Text(0.5, 0, 'Race')"
      ]
     },
     "execution_count": 57,
     "metadata": {},
     "output_type": "execute_result"
    },
    {
     "data": {
      "image/png": "[encoded data removed]",
      "text/plain": [
       "<Figure size 432x288 with 1 Axes>"
      ]
     },
     "metadata": {
      "needs_background": "light"
     },
     "output_type": "display_data"
    }
   ],
   "source": [
    "df_Article_count = df_overall.groupby('Race')['TotalArticleCount'].sum()\n",
    "print(df_Article_count)\n",
    "plt.bar(df_Article_count.index,df_Article_count, color=['tab:blue', 'tab:orange', 'tab:green', 'tab:red'])\n",
    "addlabels(df_Article_count.index,df_Article_count)\n",
    "plt.title(\"Race Distribution of Article\")\n",
    "plt.ylabel(\"Number of Total Article Count\")\n",
    "plt.xlabel(\"Race\")"
   ]
  },
  {
   "cell_type": "markdown",
   "metadata": {
    "pycharm": {
     "name": "#%% md\n"
    }
   },
   "source": [
    "**Conference Proceeding by Race**"
   ]
  },
  {
   "cell_type": "code",
   "execution_count": 16,
   "metadata": {
    "pycharm": {
     "name": "#%%\n"
    }
   },
   "outputs": [
    {
     "data": {
      "text/plain": [
       "Race\n",
       "PCTAPI          3605\n",
       "PCTBLACK         432\n",
       "PCTHISPANIC      557\n",
       "PCTWHITE       15491\n",
       "Name: TotalConfProcCount, dtype: int64"
      ]
     },
     "execution_count": 16,
     "metadata": {},
     "output_type": "execute_result"
    }
   ],
   "source": [
    "df_Conf_count = df.groupby('Race')['TotalConfProcCount'].sum()\n",
    "df_Conf_count"
   ]
  },
  {
   "cell_type": "code",
   "execution_count": 58,
   "metadata": {},
   "outputs": [
    {
     "name": "stdout",
     "output_type": "stream",
     "text": [
      "Race\n",
      "PCTAPI          3406\n",
      "PCTBLACK         432\n",
      "PCTHISPANIC      557\n",
      "PCTWHITE       14923\n",
      "Name: TotalConfProcCount, dtype: int64\n"
     ]
    },
    {
     "name": "stderr",
     "output_type": "stream",
     "text": [
      "<ipython-input-55-17feecca167e>:3: MatplotlibDeprecationWarning: Case-insensitive properties were deprecated in 3.3 and support will be removed two minor releases later\n",
      "  plt.text(i, y[i], y[i], fontsize=12, ha = 'center',\n"
     ]
    },
    {
     "data": {
      "text/plain": [
       "Text(0.5, 0, 'Race')"
      ]
     },
     "execution_count": 58,
     "metadata": {},
     "output_type": "execute_result"
    },
    {
     "data": {
      "image/png": "[encoded data removed]",
      "text/plain": [
       "<Figure size 432x288 with 1 Axes>"
      ]
     },
     "metadata": {
      "needs_background": "light"
     },
     "output_type": "display_data"
    }
   ],
   "source": [
    "df_Conf_count = df_overall.groupby('Race')['TotalConfProcCount'].sum()\n",
    "print(df_Conf_count)\n",
    "plt.bar(df_Conf_count.index,df_Conf_count, color=['tab:blue', 'tab:orange', 'tab:green', 'tab:red'])\n",
    "addlabels(df_Conf_count.index,df_Conf_count)\n",
    "plt.title(\"Race Distribution of Conference Proceeding\")\n",
    "plt.ylabel(\"Number of Total Conference Proceeding Count\")\n",
    "plt.xlabel(\"Race\")"
   ]
  },
  {
   "cell_type": "markdown",
   "metadata": {
    "pycharm": {
     "name": "#%% md\n"
    }
   },
   "source": [
    "**Grant by Race**"
   ]
  },
  {
   "cell_type": "code",
   "execution_count": 18,
   "metadata": {
    "pycharm": {
     "name": "#%%\n"
    }
   },
   "outputs": [
    {
     "data": {
      "text/plain": [
       "Race\n",
       "PCTAPI         1374\n",
       "PCTBLACK         66\n",
       "PCTHISPANIC     217\n",
       "PCTWHITE       9121\n",
       "Name: TotalGrantCount, dtype: int64"
      ]
     },
     "execution_count": 18,
     "metadata": {},
     "output_type": "execute_result"
    }
   ],
   "source": [
    "df_Grant_count = df.groupby('Race')['TotalGrantCount'].sum()\n",
    "df_Grant_count"
   ]
  },
  {
   "cell_type": "code",
   "execution_count": 60,
   "metadata": {},
   "outputs": [
    {
     "name": "stdout",
     "output_type": "stream",
     "text": [
      "Race\n",
      "PCTAPI         1199\n",
      "PCTBLACK         66\n",
      "PCTHISPANIC     217\n",
      "PCTWHITE       8014\n",
      "Name: TotalGrantCount, dtype: int64\n"
     ]
    },
    {
     "name": "stderr",
     "output_type": "stream",
     "text": [
      "<ipython-input-55-17feecca167e>:3: MatplotlibDeprecationWarning: Case-insensitive properties were deprecated in 3.3 and support will be removed two minor releases later\n",
      "  plt.text(i, y[i], y[i], fontsize=12, ha = 'center',\n"
     ]
    },
    {
     "data": {
      "text/plain": [
       "Text(0.5, 0, 'Race')"
      ]
     },
     "execution_count": 60,
     "metadata": {},
     "output_type": "execute_result"
    },
    {
     "data": {
      "image/png": "[encoded data removed]",
      "text/plain": [
       "<Figure size 432x288 with 1 Axes>"
      ]
     },
     "metadata": {
      "needs_background": "light"
     },
     "output_type": "display_data"
    }
   ],
   "source": [
    "df_Grant_count = df_overall.groupby('Race')['TotalGrantCount'].sum()\n",
    "print(df_Grant_count)\n",
    "plt.bar(df_Grant_count.index,df_Grant_count, color=['tab:blue', 'tab:orange', 'tab:green', 'tab:red'])\n",
    "addlabels(df_Grant_count.index,df_Grant_count)\n",
    "plt.title(\"Race Distribution of Grant\")\n",
    "plt.ylabel(\"Number of Total Grant Count\")\n",
    "plt.xlabel(\"Race\")"
   ]
  },
  {
   "cell_type": "markdown",
   "metadata": {
    "pycharm": {
     "name": "#%% md\n"
    }
   },
   "source": [
    "**Preliminary Summary Data by Race**"
   ]
  },
  {
   "cell_type": "code",
   "execution_count": 21,
   "metadata": {
    "pycharm": {
     "name": "#%%\n"
    }
   },
   "outputs": [
    {
     "data": {
      "text/html": [
       "<div>\n",
       "<style scoped>\n",
       "    .dataframe tbody tr th:only-of-type {\n",
       "        vertical-align: middle;\n",
       "    }\n",
       "\n",
       "    .dataframe tbody tr th {\n",
       "        vertical-align: top;\n",
       "    }\n",
       "\n",
       "    .dataframe thead th {\n",
       "        text-align: right;\n",
       "    }\n",
       "</style>\n",
       "<table border=\"1\" class=\"dataframe\">\n",
       "  <thead>\n",
       "    <tr style=\"text-align: right;\">\n",
       "      <th></th>\n",
       "      <th></th>\n",
       "      <th></th>\n",
       "      <th>0</th>\n",
       "    </tr>\n",
       "    <tr>\n",
       "      <th>Department</th>\n",
       "      <th>Race</th>\n",
       "      <th>Gender</th>\n",
       "      <th></th>\n",
       "    </tr>\n",
       "  </thead>\n",
       "  <tbody>\n",
       "    <tr>\n",
       "      <th rowspan=\"5\" valign=\"top\">Aeronautics and Astronautics</th>\n",
       "      <th rowspan=\"2\" valign=\"top\">PCTAPI</th>\n",
       "      <th>Female</th>\n",
       "      <td>6</td>\n",
       "    </tr>\n",
       "    <tr>\n",
       "      <th>Male</th>\n",
       "      <td>1</td>\n",
       "    </tr>\n",
       "    <tr>\n",
       "      <th>PCTHISPANIC</th>\n",
       "      <th>Male</th>\n",
       "      <td>3</td>\n",
       "    </tr>\n",
       "    <tr>\n",
       "      <th rowspan=\"2\" valign=\"top\">PCTWHITE</th>\n",
       "      <th>Female</th>\n",
       "      <td>14</td>\n",
       "    </tr>\n",
       "    <tr>\n",
       "      <th>Male</th>\n",
       "      <td>27</td>\n",
       "    </tr>\n",
       "    <tr>\n",
       "      <th>...</th>\n",
       "      <th>...</th>\n",
       "      <th>...</th>\n",
       "      <td>...</td>\n",
       "    </tr>\n",
       "    <tr>\n",
       "      <th rowspan=\"5\" valign=\"top\">Physics</th>\n",
       "      <th>PCTAPI</th>\n",
       "      <th>Male</th>\n",
       "      <td>3</td>\n",
       "    </tr>\n",
       "    <tr>\n",
       "      <th rowspan=\"2\" valign=\"top\">PCTHISPANIC</th>\n",
       "      <th>Female</th>\n",
       "      <td>1</td>\n",
       "    </tr>\n",
       "    <tr>\n",
       "      <th>Male</th>\n",
       "      <td>1</td>\n",
       "    </tr>\n",
       "    <tr>\n",
       "      <th rowspan=\"2\" valign=\"top\">PCTWHITE</th>\n",
       "      <th>Female</th>\n",
       "      <td>37</td>\n",
       "    </tr>\n",
       "    <tr>\n",
       "      <th>Male</th>\n",
       "      <td>52</td>\n",
       "    </tr>\n",
       "  </tbody>\n",
       "</table>\n",
       "<p>64 rows × 1 columns</p>\n",
       "</div>"
      ],
      "text/plain": [
       "                                                  0\n",
       "Department                   Race        Gender    \n",
       "Aeronautics and Astronautics PCTAPI      Female   6\n",
       "                                         Male     1\n",
       "                             PCTHISPANIC Male     3\n",
       "                             PCTWHITE    Female  14\n",
       "                                         Male    27\n",
       "...                                              ..\n",
       "Physics                      PCTAPI      Male     3\n",
       "                             PCTHISPANIC Female   1\n",
       "                                         Male     1\n",
       "                             PCTWHITE    Female  37\n",
       "                                         Male    52\n",
       "\n",
       "[64 rows x 1 columns]"
      ]
     },
     "execution_count": 21,
     "metadata": {},
     "output_type": "execute_result"
    }
   ],
   "source": [
    "z=df[['Department','Race','Gender']]\n",
    "df_dp_count = pd.DataFrame(z.groupby(['Department','Race','Gender']).size())\n",
    "df_dp_count"
   ]
  },
  {
   "cell_type": "markdown",
   "metadata": {
    "pycharm": {
     "name": "#%% md\n"
    }
   },
   "source": [
    "### Disparity Over Time"
   ]
  },
  {
   "cell_type": "code",
   "execution_count": 22,
   "metadata": {
    "pycharm": {
     "name": "#%%\n"
    }
   },
   "outputs": [
    {
     "data": {
      "text/html": [
       "<div>\n",
       "<style scoped>\n",
       "    .dataframe tbody tr th:only-of-type {\n",
       "        vertical-align: middle;\n",
       "    }\n",
       "\n",
       "    .dataframe tbody tr th {\n",
       "        vertical-align: top;\n",
       "    }\n",
       "\n",
       "    .dataframe thead th {\n",
       "        text-align: right;\n",
       "    }\n",
       "</style>\n",
       "<table border=\"1\" class=\"dataframe\">\n",
       "  <thead>\n",
       "    <tr style=\"text-align: right;\">\n",
       "      <th></th>\n",
       "      <th>Name</th>\n",
       "      <th>Department_x</th>\n",
       "      <th>Year</th>\n",
       "      <th>ArticleCount</th>\n",
       "      <th>ConfProcCount</th>\n",
       "      <th>GrantCount</th>\n",
       "      <th>PatentCount</th>\n",
       "      <th>Id</th>\n",
       "      <th>Gender</th>\n",
       "    </tr>\n",
       "  </thead>\n",
       "  <tbody>\n",
       "    <tr>\n",
       "      <th>0</th>\n",
       "      <td>BALAKRISHNAN, HAMSA</td>\n",
       "      <td>Aeronautics and Astronautics</td>\n",
       "      <td>2004</td>\n",
       "      <td>2.0</td>\n",
       "      <td>5.0</td>\n",
       "      <td>0.0</td>\n",
       "      <td>0.0</td>\n",
       "      <td>1485</td>\n",
       "      <td>Male</td>\n",
       "    </tr>\n",
       "    <tr>\n",
       "      <th>1</th>\n",
       "      <td>BALAKRISHNAN, HAMSA</td>\n",
       "      <td>Aeronautics and Astronautics</td>\n",
       "      <td>2005</td>\n",
       "      <td>0.0</td>\n",
       "      <td>1.0</td>\n",
       "      <td>0.0</td>\n",
       "      <td>0.0</td>\n",
       "      <td>1485</td>\n",
       "      <td>Male</td>\n",
       "    </tr>\n",
       "  </tbody>\n",
       "</table>\n",
       "</div>"
      ],
      "text/plain": [
       "                  Name                  Department_x  Year  ArticleCount  \\\n",
       "0  BALAKRISHNAN, HAMSA  Aeronautics and Astronautics  2004           2.0   \n",
       "1  BALAKRISHNAN, HAMSA  Aeronautics and Astronautics  2005           0.0   \n",
       "\n",
       "   ConfProcCount  GrantCount  PatentCount    Id Gender  \n",
       "0            5.0         0.0          0.0  1485   Male  \n",
       "1            1.0         0.0          0.0  1485   Male  "
      ]
     },
     "execution_count": 22,
     "metadata": {},
     "output_type": "execute_result"
    }
   ],
   "source": [
    "df = pd.read_csv(\"/Users/jennywong/Documents/Senior I 2021 Fall/CS506/final_proj/CS506_private/data_important/gender_year.csv\")\n",
    "df.head(2)"
   ]
  },
  {
   "cell_type": "code",
   "execution_count": 33,
   "metadata": {
    "pycharm": {
     "name": "#%%\n"
    }
   },
   "outputs": [
    {
     "data": {
      "text/html": [
       "<div>\n",
       "<style scoped>\n",
       "    .dataframe tbody tr th:only-of-type {\n",
       "        vertical-align: middle;\n",
       "    }\n",
       "\n",
       "    .dataframe tbody tr th {\n",
       "        vertical-align: top;\n",
       "    }\n",
       "\n",
       "    .dataframe thead th {\n",
       "        text-align: right;\n",
       "    }\n",
       "</style>\n",
       "<table border=\"1\" class=\"dataframe\">\n",
       "  <thead>\n",
       "    <tr style=\"text-align: right;\">\n",
       "      <th></th>\n",
       "      <th>Year</th>\n",
       "      <th>GrantCount</th>\n",
       "      <th>Gender</th>\n",
       "    </tr>\n",
       "  </thead>\n",
       "  <tbody>\n",
       "    <tr>\n",
       "      <th>20459</th>\n",
       "      <td>1900</td>\n",
       "      <td>0.0</td>\n",
       "      <td>Male</td>\n",
       "    </tr>\n",
       "    <tr>\n",
       "      <th>20957</th>\n",
       "      <td>1917</td>\n",
       "      <td>0.0</td>\n",
       "      <td>Female</td>\n",
       "    </tr>\n",
       "    <tr>\n",
       "      <th>553</th>\n",
       "      <td>1958</td>\n",
       "      <td>0.0</td>\n",
       "      <td>Female</td>\n",
       "    </tr>\n",
       "    <tr>\n",
       "      <th>19782</th>\n",
       "      <td>1959</td>\n",
       "      <td>0.0</td>\n",
       "      <td>Female</td>\n",
       "    </tr>\n",
       "    <tr>\n",
       "      <th>19783</th>\n",
       "      <td>1960</td>\n",
       "      <td>0.0</td>\n",
       "      <td>Female</td>\n",
       "    </tr>\n",
       "    <tr>\n",
       "      <th>...</th>\n",
       "      <td>...</td>\n",
       "      <td>...</td>\n",
       "      <td>...</td>\n",
       "    </tr>\n",
       "    <tr>\n",
       "      <th>13628</th>\n",
       "      <td>2021</td>\n",
       "      <td>0.0</td>\n",
       "      <td>Male</td>\n",
       "    </tr>\n",
       "    <tr>\n",
       "      <th>10738</th>\n",
       "      <td>2021</td>\n",
       "      <td>0.0</td>\n",
       "      <td>Female</td>\n",
       "    </tr>\n",
       "    <tr>\n",
       "      <th>10205</th>\n",
       "      <td>2021</td>\n",
       "      <td>0.0</td>\n",
       "      <td>Male</td>\n",
       "    </tr>\n",
       "    <tr>\n",
       "      <th>10739</th>\n",
       "      <td>2021</td>\n",
       "      <td>0.0</td>\n",
       "      <td>Female</td>\n",
       "    </tr>\n",
       "    <tr>\n",
       "      <th>13642</th>\n",
       "      <td>2021</td>\n",
       "      <td>0.0</td>\n",
       "      <td>Male</td>\n",
       "    </tr>\n",
       "  </tbody>\n",
       "</table>\n",
       "<p>23122 rows × 3 columns</p>\n",
       "</div>"
      ],
      "text/plain": [
       "       Year  GrantCount  Gender\n",
       "20459  1900         0.0    Male\n",
       "20957  1917         0.0  Female\n",
       "553    1958         0.0  Female\n",
       "19782  1959         0.0  Female\n",
       "19783  1960         0.0  Female\n",
       "...     ...         ...     ...\n",
       "13628  2021         0.0    Male\n",
       "10738  2021         0.0  Female\n",
       "10205  2021         0.0    Male\n",
       "10739  2021         0.0  Female\n",
       "13642  2021         0.0    Male\n",
       "\n",
       "[23122 rows x 3 columns]"
      ]
     },
     "execution_count": 33,
     "metadata": {},
     "output_type": "execute_result"
    }
   ],
   "source": [
    "dg=df.drop(columns=['Name','Department_x','ConfProcCount','ArticleCount','PatentCount','Id']).sort_values(by=['Year'])\n",
    "dg = dg.iloc[1: -1, :]\n",
    "dg = dg[dg.Year != 'No Issue']\n",
    "dg = dg.iloc[: -1, :]\n",
    "dg"
   ]
  },
  {
   "cell_type": "code",
   "execution_count": 45,
   "metadata": {
    "pycharm": {
     "name": "#%%\n"
    }
   },
   "outputs": [
    {
     "data": {
      "text/html": [
       "<div>\n",
       "<style scoped>\n",
       "    .dataframe tbody tr th:only-of-type {\n",
       "        vertical-align: middle;\n",
       "    }\n",
       "\n",
       "    .dataframe tbody tr th {\n",
       "        vertical-align: top;\n",
       "    }\n",
       "\n",
       "    .dataframe thead th {\n",
       "        text-align: right;\n",
       "    }\n",
       "</style>\n",
       "<table border=\"1\" class=\"dataframe\">\n",
       "  <thead>\n",
       "    <tr style=\"text-align: right;\">\n",
       "      <th></th>\n",
       "      <th>Year</th>\n",
       "      <th>Gender</th>\n",
       "      <th>GrantCount</th>\n",
       "    </tr>\n",
       "  </thead>\n",
       "  <tbody>\n",
       "    <tr>\n",
       "      <th>19</th>\n",
       "      <td>1979</td>\n",
       "      <td>Male</td>\n",
       "      <td>28.0</td>\n",
       "    </tr>\n",
       "    <tr>\n",
       "      <th>39</th>\n",
       "      <td>1990</td>\n",
       "      <td>Male</td>\n",
       "      <td>17.0</td>\n",
       "    </tr>\n",
       "  </tbody>\n",
       "</table>\n",
       "</div>"
      ],
      "text/plain": [
       "    Year Gender  GrantCount\n",
       "19  1979   Male        28.0\n",
       "39  1990   Male        17.0"
      ]
     },
     "execution_count": 45,
     "metadata": {},
     "output_type": "execute_result"
    }
   ],
   "source": [
    "dh=dg.groupby([\"Year\", \"Gender\"])[\"GrantCount\"].sum()\n",
    "dk=dh.reset_index(name = 'GrantCount')\n",
    "dp = dk[dk[\"GrantCount\"] > 10]\n",
    "dp.head(2)"
   ]
  },
  {
   "cell_type": "code",
   "execution_count": 51,
   "metadata": {
    "pycharm": {
     "name": "#%%\n"
    }
   },
   "outputs": [
    {
     "data": {
      "text/html": [
       "<div>\n",
       "<style scoped>\n",
       "    .dataframe tbody tr th:only-of-type {\n",
       "        vertical-align: middle;\n",
       "    }\n",
       "\n",
       "    .dataframe tbody tr th {\n",
       "        vertical-align: top;\n",
       "    }\n",
       "\n",
       "    .dataframe thead th {\n",
       "        text-align: right;\n",
       "    }\n",
       "</style>\n",
       "<table border=\"1\" class=\"dataframe\">\n",
       "  <thead>\n",
       "    <tr style=\"text-align: right;\">\n",
       "      <th></th>\n",
       "      <th>Year</th>\n",
       "      <th>Gender</th>\n",
       "      <th>ConfProcCount</th>\n",
       "    </tr>\n",
       "  </thead>\n",
       "  <tbody>\n",
       "    <tr>\n",
       "      <th>15</th>\n",
       "      <td>1976</td>\n",
       "      <td>Male</td>\n",
       "      <td>1.0</td>\n",
       "    </tr>\n",
       "    <tr>\n",
       "      <th>17</th>\n",
       "      <td>1977</td>\n",
       "      <td>Male</td>\n",
       "      <td>1.0</td>\n",
       "    </tr>\n",
       "  </tbody>\n",
       "</table>\n",
       "</div>"
      ],
      "text/plain": [
       "    Year Gender  ConfProcCount\n",
       "15  1976   Male            1.0\n",
       "17  1977   Male            1.0"
      ]
     },
     "execution_count": 51,
     "metadata": {},
     "output_type": "execute_result"
    }
   ],
   "source": [
    "dConf=df.drop(columns=['Name','Department_x','GrantCount','ArticleCount','PatentCount','Id'])\n",
    "dconf=dConf.groupby([\"Year\", \"Gender\"])[\"ConfProcCount\"].sum()\n",
    "dc=dconf.reset_index(name = 'ConfProcCount')\n",
    "dC=dc[dc[\"ConfProcCount\"] > 0]\n",
    "dC.head(2)"
   ]
  },
  {
   "cell_type": "code",
   "execution_count": 53,
   "metadata": {
    "pycharm": {
     "name": "#%%\n"
    }
   },
   "outputs": [
    {
     "data": {
      "text/html": [
       "<div>\n",
       "<style scoped>\n",
       "    .dataframe tbody tr th:only-of-type {\n",
       "        vertical-align: middle;\n",
       "    }\n",
       "\n",
       "    .dataframe tbody tr th {\n",
       "        vertical-align: top;\n",
       "    }\n",
       "\n",
       "    .dataframe thead th {\n",
       "        text-align: right;\n",
       "    }\n",
       "</style>\n",
       "<table border=\"1\" class=\"dataframe\">\n",
       "  <thead>\n",
       "    <tr style=\"text-align: right;\">\n",
       "      <th></th>\n",
       "      <th>Year</th>\n",
       "      <th>Gender</th>\n",
       "      <th>ArticleCount</th>\n",
       "    </tr>\n",
       "  </thead>\n",
       "  <tbody>\n",
       "    <tr>\n",
       "      <th>64</th>\n",
       "      <td>2001</td>\n",
       "      <td>Male</td>\n",
       "      <td>111.0</td>\n",
       "    </tr>\n",
       "    <tr>\n",
       "      <th>66</th>\n",
       "      <td>2002</td>\n",
       "      <td>Male</td>\n",
       "      <td>136.0</td>\n",
       "    </tr>\n",
       "  </tbody>\n",
       "</table>\n",
       "</div>"
      ],
      "text/plain": [
       "    Year Gender  ArticleCount\n",
       "64  2001   Male         111.0\n",
       "66  2002   Male         136.0"
      ]
     },
     "execution_count": 53,
     "metadata": {},
     "output_type": "execute_result"
    }
   ],
   "source": [
    "d_article=df.drop(columns=['Name','Department_x','ConfProcCount','GrantCount','PatentCount','Id'])\n",
    "da=d_article.groupby([\"Year\", \"Gender\"])[\"ArticleCount\"].sum().reset_index(name = 'ArticleCount')\n",
    "dA=da[da[\"ArticleCount\"] > 80]\n",
    "dA.head(2)"
   ]
  },
  {
   "cell_type": "code",
   "execution_count": 55,
   "metadata": {
    "pycharm": {
     "name": "#%%\n"
    }
   },
   "outputs": [
    {
     "data": {
      "text/html": [
       "<div>\n",
       "<style scoped>\n",
       "    .dataframe tbody tr th:only-of-type {\n",
       "        vertical-align: middle;\n",
       "    }\n",
       "\n",
       "    .dataframe tbody tr th {\n",
       "        vertical-align: top;\n",
       "    }\n",
       "\n",
       "    .dataframe thead th {\n",
       "        text-align: right;\n",
       "    }\n",
       "</style>\n",
       "<table border=\"1\" class=\"dataframe\">\n",
       "  <thead>\n",
       "    <tr style=\"text-align: right;\">\n",
       "      <th></th>\n",
       "      <th>Year</th>\n",
       "      <th>Gender</th>\n",
       "      <th>PatentCount</th>\n",
       "    </tr>\n",
       "  </thead>\n",
       "  <tbody>\n",
       "    <tr>\n",
       "      <th>26</th>\n",
       "      <td>1983</td>\n",
       "      <td>Male</td>\n",
       "      <td>57.0</td>\n",
       "    </tr>\n",
       "    <tr>\n",
       "      <th>28</th>\n",
       "      <td>1984</td>\n",
       "      <td>Male</td>\n",
       "      <td>32.0</td>\n",
       "    </tr>\n",
       "  </tbody>\n",
       "</table>\n",
       "</div>"
      ],
      "text/plain": [
       "    Year Gender  PatentCount\n",
       "26  1983   Male         57.0\n",
       "28  1984   Male         32.0"
      ]
     },
     "execution_count": 55,
     "metadata": {},
     "output_type": "execute_result"
    }
   ],
   "source": [
    "d_patent=df.drop(columns=['Name','Department_x','ConfProcCount','GrantCount','ArticleCount','Id'])\n",
    "dP=d_patent.groupby([\"Year\", \"Gender\"])[\"PatentCount\"].sum().reset_index(name = 'PatentCount')\n",
    "dpa=dP[dP[\"PatentCount\"] > 30]\n",
    "dpa.head(2)"
   ]
  },
  {
   "cell_type": "code",
   "execution_count": null,
   "metadata": {
    "pycharm": {
     "name": "#%%\n"
    }
   },
   "outputs": [],
   "source": []
  }
 ],
 "metadata": {
  "kernelspec": {
   "display_name": "Python 3",
   "language": "python",
   "name": "python3"
  },
  "language_info": {
   "codemirror_mode": {
    "name": "ipython",
    "version": 3
   },
   "file_extension": ".py",
   "mimetype": "text/x-python",
   "name": "python",
   "nbconvert_exporter": "python",
   "pygments_lexer": "ipython3",
   "version": "3.8.4"
  }
 },
 "nbformat": 4,
 "nbformat_minor": 1
}
