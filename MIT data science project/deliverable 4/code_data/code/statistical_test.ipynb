{
 "cells": [
  {
   "cell_type": "markdown",
   "metadata": {},
   "source": [
    "H_0: Male and Female have same average count on Article\n",
    "\n",
    "H_1: Male and Female have different average count on Article"
   ]
  },
  {
   "cell_type": "code",
   "execution_count": 1,
   "metadata": {},
   "outputs": [],
   "source": [
    "import pandas as pd\n",
    "import numpy as np\n",
    "import matplotlib.pyplot as plt\n",
    "import matplotlib.mlab as mlab\n",
    "from scipy import stats\n",
    "from statsmodels.stats.multicomp import pairwise_tukeyhsd\n",
    "from statsmodels.stats.multicomp import MultiComparison"
   ]
  },
  {
   "cell_type": "code",
   "execution_count": 3,
   "metadata": {},
   "outputs": [
    {
     "name": "stdout",
     "output_type": "stream",
     "text": [
      "faculties_gender_race.csv       gender_year.csv\r\n",
      "faculties_gender_race_year.csv  professor_id.csv\r\n",
      "faculties_with_gender.csv\r\n"
     ]
    }
   ],
   "source": [
    "ls ./data_important"
   ]
  },
  {
   "cell_type": "code",
   "execution_count": 4,
   "metadata": {},
   "outputs": [
    {
     "name": "stdout",
     "output_type": "stream",
     "text": [
      "(749, 13)\n"
     ]
    },
    {
     "data": {
      "text/html": [
       "<div>\n",
       "<style scoped>\n",
       "    .dataframe tbody tr th:only-of-type {\n",
       "        vertical-align: middle;\n",
       "    }\n",
       "\n",
       "    .dataframe tbody tr th {\n",
       "        vertical-align: top;\n",
       "    }\n",
       "\n",
       "    .dataframe thead th {\n",
       "        text-align: right;\n",
       "    }\n",
       "</style>\n",
       "<table border=\"1\" class=\"dataframe\">\n",
       "  <thead>\n",
       "    <tr style=\"text-align: right;\">\n",
       "      <th></th>\n",
       "      <th>Id</th>\n",
       "      <th>Name</th>\n",
       "      <th>LastName</th>\n",
       "      <th>FirstName</th>\n",
       "      <th>Gender</th>\n",
       "      <th>RankName</th>\n",
       "      <th>Department</th>\n",
       "      <th>TotalArticleCount</th>\n",
       "      <th>TotalConfProcCount</th>\n",
       "      <th>TotalGrantCount</th>\n",
       "      <th>TotalPatentCount</th>\n",
       "      <th>TotalCourseCount</th>\n",
       "      <th>Race</th>\n",
       "    </tr>\n",
       "  </thead>\n",
       "  <tbody>\n",
       "    <tr>\n",
       "      <th>0</th>\n",
       "      <td>1485</td>\n",
       "      <td>BALAKRISHNAN, HAMSA</td>\n",
       "      <td>BALAKRISHNAN</td>\n",
       "      <td>HAMSA</td>\n",
       "      <td>Male</td>\n",
       "      <td>Professor</td>\n",
       "      <td>Aeronautics and Astronautics</td>\n",
       "      <td>46</td>\n",
       "      <td>63</td>\n",
       "      <td>15</td>\n",
       "      <td>1</td>\n",
       "      <td>2</td>\n",
       "      <td>PCTAPI</td>\n",
       "    </tr>\n",
       "    <tr>\n",
       "      <th>1</th>\n",
       "      <td>2030</td>\n",
       "      <td>BARRETT, STEVEN R. H</td>\n",
       "      <td>BARRETT</td>\n",
       "      <td>STEVEN</td>\n",
       "      <td>Male</td>\n",
       "      <td>Associate</td>\n",
       "      <td>Aeronautics and Astronautics</td>\n",
       "      <td>87</td>\n",
       "      <td>7</td>\n",
       "      <td>11</td>\n",
       "      <td>1</td>\n",
       "      <td>2</td>\n",
       "      <td>PCTWHITE</td>\n",
       "    </tr>\n",
       "  </tbody>\n",
       "</table>\n",
       "</div>"
      ],
      "text/plain": [
       "     Id                  Name      LastName FirstName Gender   RankName  \\\n",
       "0  1485   BALAKRISHNAN, HAMSA  BALAKRISHNAN     HAMSA   Male  Professor   \n",
       "1  2030  BARRETT, STEVEN R. H       BARRETT    STEVEN   Male  Associate   \n",
       "\n",
       "                     Department  TotalArticleCount  TotalConfProcCount  \\\n",
       "0  Aeronautics and Astronautics                 46                  63   \n",
       "1  Aeronautics and Astronautics                 87                   7   \n",
       "\n",
       "   TotalGrantCount  TotalPatentCount  TotalCourseCount      Race  \n",
       "0               15                 1                 2    PCTAPI  \n",
       "1               11                 1                 2  PCTWHITE  "
      ]
     },
     "execution_count": 4,
     "metadata": {},
     "output_type": "execute_result"
    }
   ],
   "source": [
    "df = pd.read_csv(\"./data_important/faculties_gender_race.csv\")\n",
    "print(df.shape)\n",
    "df.head(2)"
   ]
  },
  {
   "cell_type": "markdown",
   "metadata": {},
   "source": [
    "# Article by Gender"
   ]
  },
  {
   "cell_type": "code",
   "execution_count": 5,
   "metadata": {},
   "outputs": [
    {
     "name": "stdout",
     "output_type": "stream",
     "text": [
      "(692, 4)\n"
     ]
    },
    {
     "data": {
      "text/html": [
       "<div>\n",
       "<style scoped>\n",
       "    .dataframe tbody tr th:only-of-type {\n",
       "        vertical-align: middle;\n",
       "    }\n",
       "\n",
       "    .dataframe tbody tr th {\n",
       "        vertical-align: top;\n",
       "    }\n",
       "\n",
       "    .dataframe thead th {\n",
       "        text-align: right;\n",
       "    }\n",
       "</style>\n",
       "<table border=\"1\" class=\"dataframe\">\n",
       "  <thead>\n",
       "    <tr style=\"text-align: right;\">\n",
       "      <th></th>\n",
       "      <th>Id</th>\n",
       "      <th>Name</th>\n",
       "      <th>Gender</th>\n",
       "      <th>TotalArticleCount</th>\n",
       "    </tr>\n",
       "  </thead>\n",
       "  <tbody>\n",
       "    <tr>\n",
       "      <th>0</th>\n",
       "      <td>1485</td>\n",
       "      <td>BALAKRISHNAN, HAMSA</td>\n",
       "      <td>Male</td>\n",
       "      <td>46</td>\n",
       "    </tr>\n",
       "    <tr>\n",
       "      <th>1</th>\n",
       "      <td>2030</td>\n",
       "      <td>BARRETT, STEVEN R. H</td>\n",
       "      <td>Male</td>\n",
       "      <td>87</td>\n",
       "    </tr>\n",
       "  </tbody>\n",
       "</table>\n",
       "</div>"
      ],
      "text/plain": [
       "     Id                  Name Gender  TotalArticleCount\n",
       "0  1485   BALAKRISHNAN, HAMSA   Male                 46\n",
       "1  2030  BARRETT, STEVEN R. H   Male                 87"
      ]
     },
     "execution_count": 5,
     "metadata": {},
     "output_type": "execute_result"
    }
   ],
   "source": [
    "df_article = df[['Id', 'Name', 'Gender', 'TotalArticleCount']].drop_duplicates()\n",
    "print(df_article.shape)\n",
    "df_article.head(2)"
   ]
  },
  {
   "cell_type": "code",
   "execution_count": 72,
   "metadata": {},
   "outputs": [
    {
     "name": "stdout",
     "output_type": "stream",
     "text": [
      "(367, 4)\n"
     ]
    },
    {
     "data": {
      "text/plain": [
       "Text(0.5, 1.0, 'Distribution of Male Faculty on TotalArticleCount')"
      ]
     },
     "execution_count": 72,
     "metadata": {},
     "output_type": "execute_result"
    },
    {
     "data": {
      "image/png": "[encoded data removed]",
      "text/plain": [
       "<Figure size 432x288 with 1 Axes>"
      ]
     },
     "metadata": {
      "needs_background": "light"
     },
     "output_type": "display_data"
    }
   ],
   "source": [
    "df_tmale = df_article[df_article.Gender == 'Male']\n",
    "print(df_tmale.shape)\n",
    "tmale = np.array(df_tmale.TotalArticleCount)\n",
    "\n",
    "plt.hist(tmale, bins=30, density=False, stacked=True, alpha=0.7)\n",
    "plt.xlabel(\"Count of Article\")\n",
    "plt.ylabel(\"Frequency\")\n",
    "plt.title(\"Distribution of Male Faculty on TotalArticleCount\")\n"
   ]
  },
  {
   "cell_type": "code",
   "execution_count": 75,
   "metadata": {},
   "outputs": [
    {
     "data": {
      "text/plain": [
       "Text(0.5, 1.0, 'Square Root Transformed Distribution of Male Faculty on Article Count')"
      ]
     },
     "execution_count": 75,
     "metadata": {},
     "output_type": "execute_result"
    },
    {
     "data": {
      "image/png": "[encoded data removed]",
      "text/plain": [
       "<Figure size 432x288 with 1 Axes>"
      ]
     },
     "metadata": {
      "needs_background": "light"
     },
     "output_type": "display_data"
    }
   ],
   "source": [
    "plt.hist(np.sqrt(tmale), bins=30, density=False, stacked=True, alpha=0.7)\n",
    "plt.xlabel(\"Count of Article\")\n",
    "plt.ylabel(\"Frequency\")\n",
    "plt.title(\"Square Root Transformed Distribution of Male Faculty on Article Count\")"
   ]
  },
  {
   "cell_type": "code",
   "execution_count": 7,
   "metadata": {},
   "outputs": [
    {
     "name": "stdout",
     "output_type": "stream",
     "text": [
      "(325, 4)\n"
     ]
    },
    {
     "data": {
      "text/plain": [
       "Text(0.5, 1.0, 'Distribution of Female Faculty on TotalArticleCount')"
      ]
     },
     "execution_count": 7,
     "metadata": {},
     "output_type": "execute_result"
    },
    {
     "data": {
      "image/png": "[encoded data removed]",
      "text/plain": [
       "<Figure size 432x288 with 1 Axes>"
      ]
     },
     "metadata": {
      "needs_background": "light"
     },
     "output_type": "display_data"
    }
   ],
   "source": [
    "df_tfemale = df_article[df_article.Gender == 'Female']\n",
    "print(df_tfemale.shape)\n",
    "tfemale = np.array(df_tfemale.TotalArticleCount)\n",
    "plt.hist(tfemale, bins=30, density=False, stacked=True, alpha=0.7)\n",
    "plt.xlabel(\"Count of Article\")\n",
    "plt.ylabel(\"Frequency\")\n",
    "plt.title(\"Distribution of Female Faculty on TotalArticleCount\")"
   ]
  },
  {
   "cell_type": "code",
   "execution_count": 76,
   "metadata": {},
   "outputs": [
    {
     "name": "stdout",
     "output_type": "stream",
     "text": [
      "(325, 4)\n"
     ]
    },
    {
     "data": {
      "text/plain": [
       "Text(0.5, 1.0, 'Square Root Transformed Distribution of Female Faculty on Article Count')"
      ]
     },
     "execution_count": 76,
     "metadata": {},
     "output_type": "execute_result"
    },
    {
     "data": {
      "image/png": "[encoded data removed]",
      "text/plain": [
       "<Figure size 432x288 with 1 Axes>"
      ]
     },
     "metadata": {
      "needs_background": "light"
     },
     "output_type": "display_data"
    }
   ],
   "source": [
    "df_tfemale = df_article[df_article.Gender == 'Female']\n",
    "print(df_tfemale.shape)\n",
    "tfemale = np.array(df_tfemale.TotalArticleCount)\n",
    "plt.hist(np.sqrt(tfemale), bins=30, density=False, stacked=True, alpha=0.7)\n",
    "plt.xlabel(\"Count of Article\")\n",
    "plt.ylabel(\"Frequency\")\n",
    "plt.title(\"Square Root Transformed Distribution of Female Faculty on Article Count\")"
   ]
  },
  {
   "cell_type": "code",
   "execution_count": 77,
   "metadata": {},
   "outputs": [
    {
     "data": {
      "text/plain": [
       "(LeveneResult(statistic=0.10812154531697046, pvalue=0.7423927210549519),\n",
       " LeveneResult(statistic=0.6103017437080361, pvalue=0.43494217181612294))"
      ]
     },
     "execution_count": 77,
     "metadata": {},
     "output_type": "execute_result"
    }
   ],
   "source": [
    "stats.levene(tmale, tfemale),stats.levene(np.sqrt(tmale), np.sqrt(tfemale))"
   ]
  },
  {
   "cell_type": "markdown",
   "metadata": {},
   "source": [
    "Since we have pvalue > 0.05, we believe the two samples have equal variances."
   ]
  },
  {
   "cell_type": "code",
   "execution_count": 78,
   "metadata": {},
   "outputs": [
    {
     "data": {
      "text/plain": [
       "(Ttest_indResult(statistic=0.18117063656896693, pvalue=0.8562868448619722),\n",
       " Ttest_indResult(statistic=0.24043537165969942, pvalue=0.8100641766217664))"
      ]
     },
     "execution_count": 78,
     "metadata": {},
     "output_type": "execute_result"
    }
   ],
   "source": [
    "stats.ttest_ind(tmale, tfemale, equal_var = True),stats.ttest_ind(np.sqrt(tmale), np.sqrt(tfemale), equal_var = True)"
   ]
  },
  {
   "cell_type": "code",
   "execution_count": 10,
   "metadata": {},
   "outputs": [
    {
     "data": {
      "text/plain": [
       "(119.4550408719346, 117.32923076923078)"
      ]
     },
     "execution_count": 10,
     "metadata": {},
     "output_type": "execute_result"
    }
   ],
   "source": [
    "np.mean(tmale), np.mean(tfemale)"
   ]
  },
  {
   "cell_type": "markdown",
   "metadata": {},
   "source": [
    "# Conference by Gender"
   ]
  },
  {
   "cell_type": "code",
   "execution_count": 84,
   "metadata": {},
   "outputs": [
    {
     "name": "stdout",
     "output_type": "stream",
     "text": [
      "(692, 4)\n"
     ]
    },
    {
     "data": {
      "text/html": [
       "<div>\n",
       "<style scoped>\n",
       "    .dataframe tbody tr th:only-of-type {\n",
       "        vertical-align: middle;\n",
       "    }\n",
       "\n",
       "    .dataframe tbody tr th {\n",
       "        vertical-align: top;\n",
       "    }\n",
       "\n",
       "    .dataframe thead th {\n",
       "        text-align: right;\n",
       "    }\n",
       "</style>\n",
       "<table border=\"1\" class=\"dataframe\">\n",
       "  <thead>\n",
       "    <tr style=\"text-align: right;\">\n",
       "      <th></th>\n",
       "      <th>Id</th>\n",
       "      <th>Name</th>\n",
       "      <th>Gender</th>\n",
       "      <th>TotalConfProcCount</th>\n",
       "    </tr>\n",
       "  </thead>\n",
       "  <tbody>\n",
       "    <tr>\n",
       "      <th>0</th>\n",
       "      <td>1485</td>\n",
       "      <td>BALAKRISHNAN, HAMSA</td>\n",
       "      <td>Male</td>\n",
       "      <td>63</td>\n",
       "    </tr>\n",
       "    <tr>\n",
       "      <th>1</th>\n",
       "      <td>2030</td>\n",
       "      <td>BARRETT, STEVEN R. H</td>\n",
       "      <td>Male</td>\n",
       "      <td>7</td>\n",
       "    </tr>\n",
       "  </tbody>\n",
       "</table>\n",
       "</div>"
      ],
      "text/plain": [
       "     Id                  Name Gender  TotalConfProcCount\n",
       "0  1485   BALAKRISHNAN, HAMSA   Male                  63\n",
       "1  2030  BARRETT, STEVEN R. H   Male                   7"
      ]
     },
     "execution_count": 84,
     "metadata": {},
     "output_type": "execute_result"
    }
   ],
   "source": [
    "df_conf = df[['Id', 'Name', 'Gender', 'TotalConfProcCount']].drop_duplicates()\n",
    "print(df_conf.shape)\n",
    "df_conf.head(2)"
   ]
  },
  {
   "cell_type": "code",
   "execution_count": 116,
   "metadata": {},
   "outputs": [
    {
     "name": "stdout",
     "output_type": "stream",
     "text": [
      "(367, 4)\n"
     ]
    },
    {
     "data": {
      "text/plain": [
       "Text(0.5, 1.0, 'Distribution of Male Faculty on TotalConfProcCount')"
      ]
     },
     "execution_count": 116,
     "metadata": {},
     "output_type": "execute_result"
    },
    {
     "data": {
      "image/png": "[encoded data removed]",
      "text/plain": [
       "<Figure size 432x288 with 1 Axes>"
      ]
     },
     "metadata": {
      "needs_background": "light"
     },
     "output_type": "display_data"
    }
   ],
   "source": [
    "df_tmale = df_conf[df_conf.Gender == 'Male']\n",
    "print(df_tmale.shape)\n",
    "tmale = np.array(df_tmale.TotalConfProcCount)\n",
    "plt.hist(tmale, bins=30, density=False, stacked=True, alpha=0.7)\n",
    "plt.xlabel(\"Count of Conference Proceeding\")\n",
    "plt.ylabel(\"Frequency\")\n",
    "plt.title(\"Distribution of Male Faculty on TotalConfProcCount\")"
   ]
  },
  {
   "cell_type": "code",
   "execution_count": 117,
   "metadata": {},
   "outputs": [
    {
     "data": {
      "text/plain": [
       "Text(0.5, 1.0, 'Square Root Transformed Distribution of Male Faculty on TotalConfProcCount')"
      ]
     },
     "execution_count": 117,
     "metadata": {},
     "output_type": "execute_result"
    },
    {
     "data": {
      "image/png": "[encoded data removed]",
      "text/plain": [
       "<Figure size 432x288 with 1 Axes>"
      ]
     },
     "metadata": {
      "needs_background": "light"
     },
     "output_type": "display_data"
    }
   ],
   "source": [
    "plt.hist(np.sqrt(tmale), bins=30, density=False, stacked=True, alpha=0.7)\n",
    "plt.xlabel(\"Count of Conference Proceeding\")\n",
    "plt.ylabel(\"Frequency\")\n",
    "plt.title(\"Square Root Transformed Distribution of Male Faculty on TotalConfProcCount\")"
   ]
  },
  {
   "cell_type": "code",
   "execution_count": 103,
   "metadata": {},
   "outputs": [
    {
     "name": "stdout",
     "output_type": "stream",
     "text": [
      "(325, 4)\n"
     ]
    },
    {
     "data": {
      "text/plain": [
       "Text(0.5, 1.0, 'Distribution of Female Faculty on TotalConfProcCount')"
      ]
     },
     "execution_count": 103,
     "metadata": {},
     "output_type": "execute_result"
    },
    {
     "data": {
      "image/png": "[encoded data removed]",
      "text/plain": [
       "<Figure size 432x288 with 1 Axes>"
      ]
     },
     "metadata": {
      "needs_background": "light"
     },
     "output_type": "display_data"
    }
   ],
   "source": [
    "df_tfemale = df_conf[df_conf.Gender == 'Female']\n",
    "print(df_tfemale.shape)\n",
    "tfemale = np.array(df_tfemale.TotalConfProcCount)\n",
    "plt.hist(tfemale, bins=30, density=False, stacked=True, alpha=0.7)\n",
    "plt.xlabel(\"Count of Conference Proceeding\")\n",
    "plt.ylabel(\"Frequency\")\n",
    "plt.title(\"Distribution of Female Faculty on TotalConfProcCount\")"
   ]
  },
  {
   "cell_type": "code",
   "execution_count": 104,
   "metadata": {},
   "outputs": [
    {
     "data": {
      "text/plain": [
       "Text(0.5, 1.0, 'Square Root Transformed Distribution of Female Faculty on TotalConfProcCount')"
      ]
     },
     "execution_count": 104,
     "metadata": {},
     "output_type": "execute_result"
    },
    {
     "data": {
      "image/png": "[encoded data removed]",
      "text/plain": [
       "<Figure size 432x288 with 1 Axes>"
      ]
     },
     "metadata": {
      "needs_background": "light"
     },
     "output_type": "display_data"
    }
   ],
   "source": [
    "plt.hist(np.sqrt(tfemale), bins=30, density=False, stacked=True, alpha=0.7)\n",
    "plt.xlabel(\"Count of Conference Proceeding\")\n",
    "plt.ylabel(\"Frequency\")\n",
    "plt.title(\"Square Root Transformed Distribution of Female Faculty on TotalConfProcCount\")"
   ]
  },
  {
   "cell_type": "code",
   "execution_count": 82,
   "metadata": {},
   "outputs": [
    {
     "data": {
      "text/plain": [
       "(LeveneResult(statistic=0.10812154531697046, pvalue=0.7423927210549519),\n",
       " LeveneResult(statistic=0.6103017437080361, pvalue=0.43494217181612294))"
      ]
     },
     "execution_count": 82,
     "metadata": {},
     "output_type": "execute_result"
    }
   ],
   "source": [
    "stats.levene(tmale, tfemale),stats.levene(np.sqrt(tmale), np.sqrt(tfemale))"
   ]
  },
  {
   "cell_type": "markdown",
   "metadata": {},
   "source": [
    "Since we have pvalue > 0.05, we believe the two samples have equal variances."
   ]
  },
  {
   "cell_type": "code",
   "execution_count": 83,
   "metadata": {},
   "outputs": [
    {
     "data": {
      "text/plain": [
       "(Ttest_indResult(statistic=0.18117063656896693, pvalue=0.8562868448619722),\n",
       " Ttest_indResult(statistic=0.24043537165969942, pvalue=0.8100641766217664))"
      ]
     },
     "execution_count": 83,
     "metadata": {},
     "output_type": "execute_result"
    }
   ],
   "source": [
    "stats.ttest_ind(tmale, tfemale, equal_var = True),stats.ttest_ind(np.sqrt(tmale), np.sqrt(tfemale), equal_var = True)"
   ]
  },
  {
   "cell_type": "code",
   "execution_count": 16,
   "metadata": {},
   "outputs": [
    {
     "data": {
      "text/plain": [
       "(28.70299727520436, 27.02769230769231)"
      ]
     },
     "execution_count": 16,
     "metadata": {},
     "output_type": "execute_result"
    }
   ],
   "source": [
    "np.mean(tmale), np.mean(tfemale)"
   ]
  },
  {
   "cell_type": "markdown",
   "metadata": {},
   "source": [
    "# Grant by Gender"
   ]
  },
  {
   "cell_type": "code",
   "execution_count": 123,
   "metadata": {},
   "outputs": [
    {
     "name": "stdout",
     "output_type": "stream",
     "text": [
      "(692, 4)\n"
     ]
    },
    {
     "data": {
      "text/html": [
       "<div>\n",
       "<style scoped>\n",
       "    .dataframe tbody tr th:only-of-type {\n",
       "        vertical-align: middle;\n",
       "    }\n",
       "\n",
       "    .dataframe tbody tr th {\n",
       "        vertical-align: top;\n",
       "    }\n",
       "\n",
       "    .dataframe thead th {\n",
       "        text-align: right;\n",
       "    }\n",
       "</style>\n",
       "<table border=\"1\" class=\"dataframe\">\n",
       "  <thead>\n",
       "    <tr style=\"text-align: right;\">\n",
       "      <th></th>\n",
       "      <th>Id</th>\n",
       "      <th>Name</th>\n",
       "      <th>Gender</th>\n",
       "      <th>TotalGrantCount</th>\n",
       "    </tr>\n",
       "  </thead>\n",
       "  <tbody>\n",
       "    <tr>\n",
       "      <th>0</th>\n",
       "      <td>1485</td>\n",
       "      <td>BALAKRISHNAN, HAMSA</td>\n",
       "      <td>Male</td>\n",
       "      <td>15</td>\n",
       "    </tr>\n",
       "    <tr>\n",
       "      <th>1</th>\n",
       "      <td>2030</td>\n",
       "      <td>BARRETT, STEVEN R. H</td>\n",
       "      <td>Male</td>\n",
       "      <td>11</td>\n",
       "    </tr>\n",
       "  </tbody>\n",
       "</table>\n",
       "</div>"
      ],
      "text/plain": [
       "     Id                  Name Gender  TotalGrantCount\n",
       "0  1485   BALAKRISHNAN, HAMSA   Male               15\n",
       "1  2030  BARRETT, STEVEN R. H   Male               11"
      ]
     },
     "execution_count": 123,
     "metadata": {},
     "output_type": "execute_result"
    }
   ],
   "source": [
    "df_grant = df[['Id', 'Name', 'Gender', 'TotalGrantCount']].drop_duplicates()\n",
    "print(df_grant.shape)\n",
    "df_grant.head(2)"
   ]
  },
  {
   "cell_type": "code",
   "execution_count": 124,
   "metadata": {},
   "outputs": [
    {
     "name": "stdout",
     "output_type": "stream",
     "text": [
      "(367, 4)\n"
     ]
    },
    {
     "data": {
      "text/plain": [
       "Text(0.5, 1.0, 'Distribution of Male Faculty on TotalGrantCount')"
      ]
     },
     "execution_count": 124,
     "metadata": {},
     "output_type": "execute_result"
    },
    {
     "data": {
      "image/png": "[encoded data removed]",
      "text/plain": [
       "<Figure size 432x288 with 1 Axes>"
      ]
     },
     "metadata": {
      "needs_background": "light"
     },
     "output_type": "display_data"
    }
   ],
   "source": [
    "df_tmale = df_grant[df_grant.Gender == 'Male']\n",
    "print(df_tmale.shape)\n",
    "tmale = np.array(df_tmale.TotalGrantCount)\n",
    "plt.hist(tmale, bins=30, density=False, stacked=True, alpha=0.7)\n",
    "plt.xlabel(\"Count of Grant\")\n",
    "plt.ylabel(\"Frequency\")\n",
    "plt.title(\"Distribution of Male Faculty on TotalGrantCount\")"
   ]
  },
  {
   "cell_type": "code",
   "execution_count": 125,
   "metadata": {},
   "outputs": [
    {
     "data": {
      "text/plain": [
       "Text(0.5, 1.0, 'Square Root Transformed Distribution of Male Faculty on TotalGrantCount')"
      ]
     },
     "execution_count": 125,
     "metadata": {},
     "output_type": "execute_result"
    },
    {
     "data": {
      "image/png": "[encoded data removed]",
      "text/plain": [
       "<Figure size 432x288 with 1 Axes>"
      ]
     },
     "metadata": {
      "needs_background": "light"
     },
     "output_type": "display_data"
    }
   ],
   "source": [
    "plt.hist(np.sqrt(tmale), bins=30, density=False, stacked=True, alpha=0.7)\n",
    "plt.xlabel(\"Count of Grant\")\n",
    "plt.ylabel(\"Frequency\")\n",
    "plt.title(\"Square Root Transformed Distribution of Male Faculty on TotalGrantCount\")"
   ]
  },
  {
   "cell_type": "code",
   "execution_count": 126,
   "metadata": {},
   "outputs": [
    {
     "name": "stdout",
     "output_type": "stream",
     "text": [
      "(325, 4)\n"
     ]
    },
    {
     "data": {
      "text/plain": [
       "Text(0.5, 1.0, 'Distribution of Female Faculty on TotalGrantCount')"
      ]
     },
     "execution_count": 126,
     "metadata": {},
     "output_type": "execute_result"
    },
    {
     "data": {
      "image/png": "[encoded data removed]",
      "text/plain": [
       "<Figure size 432x288 with 1 Axes>"
      ]
     },
     "metadata": {
      "needs_background": "light"
     },
     "output_type": "display_data"
    }
   ],
   "source": [
    "df_tfemale = df_grant[df_grant.Gender == 'Female']\n",
    "print(df_tfemale.shape)\n",
    "tfemale = np.array(df_tfemale.TotalGrantCount)\n",
    "plt.hist(tfemale, bins=30, density=False, stacked=True, alpha=0.7)\n",
    "plt.xlabel(\"Count of Grant\")\n",
    "plt.ylabel(\"Frequency\")\n",
    "plt.title(\"Distribution of Female Faculty on TotalGrantCount\")"
   ]
  },
  {
   "cell_type": "code",
   "execution_count": 127,
   "metadata": {},
   "outputs": [
    {
     "data": {
      "text/plain": [
       "Text(0.5, 1.0, 'Square Root Transformed Distribution of Female Faculty on TotalGrantCount')"
      ]
     },
     "execution_count": 127,
     "metadata": {},
     "output_type": "execute_result"
    },
    {
     "data": {
      "image/png": "[encoded data removed]",
      "text/plain": [
       "<Figure size 432x288 with 1 Axes>"
      ]
     },
     "metadata": {
      "needs_background": "light"
     },
     "output_type": "display_data"
    }
   ],
   "source": [
    "plt.hist(np.sqrt(tfemale), bins=30, density=False, stacked=True, alpha=0.7)\n",
    "plt.xlabel(\"Count of Grant\")\n",
    "plt.ylabel(\"Frequency\")\n",
    "plt.title(\"Square Root Transformed Distribution of Female Faculty on TotalGrantCount\")"
   ]
  },
  {
   "cell_type": "code",
   "execution_count": 128,
   "metadata": {},
   "outputs": [
    {
     "data": {
      "text/plain": [
       "(LeveneResult(statistic=5.005536815173139, pvalue=0.025584874938834008),\n",
       " LeveneResult(statistic=3.385802756223844, pvalue=0.06618947721026375))"
      ]
     },
     "execution_count": 128,
     "metadata": {},
     "output_type": "execute_result"
    }
   ],
   "source": [
    "stats.levene(tmale, tfemale),stats.levene(np.sqrt(tmale), np.sqrt(tfemale))"
   ]
  },
  {
   "cell_type": "markdown",
   "metadata": {},
   "source": [
    "Since we have pvalue < 0.05, we believe the two samples do not have equal variances."
   ]
  },
  {
   "cell_type": "code",
   "execution_count": 130,
   "metadata": {},
   "outputs": [
    {
     "data": {
      "text/plain": [
       "(Ttest_indResult(statistic=1.9857549647424195, pvalue=0.04745675316793936),\n",
       " Ttest_indResult(statistic=1.6201188230486179, pvalue=0.10566365547781693))"
      ]
     },
     "execution_count": 130,
     "metadata": {},
     "output_type": "execute_result"
    }
   ],
   "source": [
    "stats.ttest_ind(tmale, tfemale, equal_var = False),stats.ttest_ind(np.sqrt(tmale), np.sqrt(tfemale), equal_var = True)"
   ]
  },
  {
   "cell_type": "code",
   "execution_count": 131,
   "metadata": {},
   "outputs": [
    {
     "data": {
      "text/plain": [
       "(14.69482288828338, 12.624615384615385)"
      ]
     },
     "execution_count": 131,
     "metadata": {},
     "output_type": "execute_result"
    }
   ],
   "source": [
    "np.mean(tmale),np.mean(tfemale)"
   ]
  },
  {
   "cell_type": "markdown",
   "metadata": {},
   "source": [
    "# Patent by Gender"
   ]
  },
  {
   "cell_type": "code",
   "execution_count": 133,
   "metadata": {},
   "outputs": [
    {
     "name": "stdout",
     "output_type": "stream",
     "text": [
      "(692, 4)\n"
     ]
    },
    {
     "data": {
      "text/html": [
       "<div>\n",
       "<style scoped>\n",
       "    .dataframe tbody tr th:only-of-type {\n",
       "        vertical-align: middle;\n",
       "    }\n",
       "\n",
       "    .dataframe tbody tr th {\n",
       "        vertical-align: top;\n",
       "    }\n",
       "\n",
       "    .dataframe thead th {\n",
       "        text-align: right;\n",
       "    }\n",
       "</style>\n",
       "<table border=\"1\" class=\"dataframe\">\n",
       "  <thead>\n",
       "    <tr style=\"text-align: right;\">\n",
       "      <th></th>\n",
       "      <th>Id</th>\n",
       "      <th>Name</th>\n",
       "      <th>Gender</th>\n",
       "      <th>TotalPatentCount</th>\n",
       "    </tr>\n",
       "  </thead>\n",
       "  <tbody>\n",
       "    <tr>\n",
       "      <th>0</th>\n",
       "      <td>1485</td>\n",
       "      <td>BALAKRISHNAN, HAMSA</td>\n",
       "      <td>Male</td>\n",
       "      <td>1</td>\n",
       "    </tr>\n",
       "    <tr>\n",
       "      <th>1</th>\n",
       "      <td>2030</td>\n",
       "      <td>BARRETT, STEVEN R. H</td>\n",
       "      <td>Male</td>\n",
       "      <td>1</td>\n",
       "    </tr>\n",
       "  </tbody>\n",
       "</table>\n",
       "</div>"
      ],
      "text/plain": [
       "     Id                  Name Gender  TotalPatentCount\n",
       "0  1485   BALAKRISHNAN, HAMSA   Male                 1\n",
       "1  2030  BARRETT, STEVEN R. H   Male                 1"
      ]
     },
     "execution_count": 133,
     "metadata": {},
     "output_type": "execute_result"
    }
   ],
   "source": [
    "df_patent = df[['Id', 'Name', 'Gender', 'TotalPatentCount']].drop_duplicates()\n",
    "print(df_patent.shape)\n",
    "df_patent.head(2)"
   ]
  },
  {
   "cell_type": "code",
   "execution_count": 134,
   "metadata": {},
   "outputs": [
    {
     "name": "stdout",
     "output_type": "stream",
     "text": [
      "(367, 4)\n"
     ]
    },
    {
     "data": {
      "text/plain": [
       "Text(0.5, 1.0, 'Distribution of Male Faculty on TotalPatentCount')"
      ]
     },
     "execution_count": 134,
     "metadata": {},
     "output_type": "execute_result"
    },
    {
     "data": {
      "image/png": "[encoded data removed]",
      "text/plain": [
       "<Figure size 432x288 with 1 Axes>"
      ]
     },
     "metadata": {
      "needs_background": "light"
     },
     "output_type": "display_data"
    }
   ],
   "source": [
    "df_tmale = df_patent[df_patent.Gender == 'Male']\n",
    "print(df_tmale.shape)\n",
    "tmale = np.array(df_tmale.TotalPatentCount)\n",
    "plt.hist(tmale, bins=30, density=False, stacked=True, alpha=0.7)\n",
    "plt.xlabel(\"Count of Patent\")\n",
    "plt.ylabel(\"Frequency\")\n",
    "plt.title(\"Distribution of Male Faculty on TotalPatentCount\")"
   ]
  },
  {
   "cell_type": "code",
   "execution_count": 24,
   "metadata": {},
   "outputs": [
    {
     "name": "stdout",
     "output_type": "stream",
     "text": [
      "(325, 4)\n"
     ]
    },
    {
     "data": {
      "text/plain": [
       "Text(0.5, 1.0, 'Distribution of Female Faculty on TotalPatentCount')"
      ]
     },
     "execution_count": 24,
     "metadata": {},
     "output_type": "execute_result"
    },
    {
     "data": {
      "image/png": "[encoded data removed]",
      "text/plain": [
       "<Figure size 432x288 with 1 Axes>"
      ]
     },
     "metadata": {
      "needs_background": "light"
     },
     "output_type": "display_data"
    }
   ],
   "source": [
    "df_tfemale = df_patent[df_patent.Gender == 'Female']\n",
    "print(df_tfemale.shape)\n",
    "tfemale = np.array(df_tfemale.TotalPatentCount)\n",
    "plt.hist(tfemale, bins=30, density=False, stacked=True, alpha=0.7)\n",
    "plt.xlabel(\"Count of Patent\")\n",
    "plt.ylabel(\"Frequency\")\n",
    "plt.title(\"Distribution of Female Faculty on TotalPatentCount\")"
   ]
  },
  {
   "cell_type": "code",
   "execution_count": 25,
   "metadata": {},
   "outputs": [
    {
     "data": {
      "text/plain": [
       "LeveneResult(statistic=1.8008123967892433, pvalue=0.18005572579593374)"
      ]
     },
     "execution_count": 25,
     "metadata": {},
     "output_type": "execute_result"
    }
   ],
   "source": [
    "stats.levene(tmale, tfemale)"
   ]
  },
  {
   "cell_type": "markdown",
   "metadata": {},
   "source": [
    "Since we have pvalue > 0.05, we believe the two samples have equal variances."
   ]
  },
  {
   "cell_type": "code",
   "execution_count": 26,
   "metadata": {},
   "outputs": [
    {
     "data": {
      "text/plain": [
       "Ttest_indResult(statistic=1.4296964029605437, pvalue=0.1532567817622131)"
      ]
     },
     "execution_count": 26,
     "metadata": {},
     "output_type": "execute_result"
    }
   ],
   "source": [
    "stats.ttest_ind(tmale, tfemale, equal_var = True)"
   ]
  },
  {
   "cell_type": "code",
   "execution_count": 27,
   "metadata": {},
   "outputs": [
    {
     "data": {
      "text/plain": [
       "(11.021798365122615, 8.504615384615384)"
      ]
     },
     "execution_count": 27,
     "metadata": {},
     "output_type": "execute_result"
    }
   ],
   "source": [
    "np.mean(tmale), np.mean(tfemale)"
   ]
  },
  {
   "cell_type": "markdown",
   "metadata": {},
   "source": [
    "# Article by Race"
   ]
  },
  {
   "cell_type": "code",
   "execution_count": 140,
   "metadata": {},
   "outputs": [
    {
     "data": {
      "text/plain": [
       "array(['PCTAPI', 'PCTWHITE', 'PCTHISPANIC', 'PCTBLACK'], dtype=object)"
      ]
     },
     "execution_count": 140,
     "metadata": {},
     "output_type": "execute_result"
    }
   ],
   "source": [
    "dfr_article = df[['Id', 'Name', 'Race', 'TotalArticleCount']].drop_duplicates()\n",
    "dfr_article.Race.unique()"
   ]
  },
  {
   "cell_type": "code",
   "execution_count": 173,
   "metadata": {
    "scrolled": true
   },
   "outputs": [
    {
     "data": {
      "text/plain": [
       "Text(0.5, 1.0, 'Square Root Transformed Box Plot of Article Count by Race')"
      ]
     },
     "execution_count": 173,
     "metadata": {},
     "output_type": "execute_result"
    },
    {
     "data": {
      "image/png": "[encoded data removed]",
      "text/plain": [
       "<Figure size 432x288 with 1 Axes>"
      ]
     },
     "metadata": {
      "needs_background": "light"
     },
     "output_type": "display_data"
    }
   ],
   "source": [
    "(r1, r2, r3, r4) = (dfr_article[dfr_article.Race == 'PCTWHITE'].TotalArticleCount,\n",
    "                    dfr_article[dfr_article.Race == 'PCTAPI'].TotalArticleCount,\n",
    "                    dfr_article[dfr_article.Race == 'PCTHISPANIC'].TotalArticleCount,\n",
    "                    dfr_article[dfr_article.Race == 'PCTBLACK'].TotalArticleCount)\n",
    "sqr1, sqr2, sqr3, sqr4 = np.sqrt(r1), np.sqrt(r2),np.sqrt(r3),np.sqrt(r4)\n",
    "fig, ax = plt.subplots()\n",
    "ax.boxplot([sqr1, sqr2, sqr3, sqr4])\n",
    "ax.set_xticklabels(['White', 'Api', 'Hispanic', 'Black'])\n",
    "ax.set_ylabel('Frequency')\n",
    "ax.set_xlabel('Race')\n",
    "ax.set_title('Square Root Transformed Box Plot of Article Count by Race')"
   ]
  },
  {
   "cell_type": "code",
   "execution_count": 174,
   "metadata": {},
   "outputs": [
    {
     "data": {
      "text/plain": [
       "(LeveneResult(statistic=0.41076396378529945, pvalue=0.7453200439459486),\n",
       " LeveneResult(statistic=0.4201280911676661, pvalue=0.7386179267649983))"
      ]
     },
     "execution_count": 174,
     "metadata": {},
     "output_type": "execute_result"
    }
   ],
   "source": [
    "stats.levene(r1, r2, r3, r4), stats.levene(sqr1, sqr2, sqr3, sqr4)"
   ]
  },
  {
   "cell_type": "code",
   "execution_count": 175,
   "metadata": {},
   "outputs": [
    {
     "data": {
      "text/plain": [
       "(F_onewayResult(statistic=0.5541718622744551, pvalue=0.6454784897561171),\n",
       " F_onewayResult(statistic=0.7012146077228416, pvalue=0.5515164536745916))"
      ]
     },
     "execution_count": 175,
     "metadata": {},
     "output_type": "execute_result"
    }
   ],
   "source": [
    "stats.f_oneway(r1, r2, r3, r4), stats.f_oneway(sqr1, sqr2, sqr3, sqr4)"
   ]
  },
  {
   "cell_type": "code",
   "execution_count": 176,
   "metadata": {},
   "outputs": [
    {
     "name": "stdout",
     "output_type": "stream",
     "text": [
      "     Multiple Comparison of Means - Tukey HSD, FWER=0.05     \n",
      "=============================================================\n",
      "   group1      group2   meandiff p-adj   lower  upper  reject\n",
      "-------------------------------------------------------------\n",
      "     PCTAPI    PCTBLACK  -2.2841 0.8523  -9.911 5.3428  False\n",
      "     PCTAPI PCTHISPANIC   -1.058 0.8616 -4.6677 2.5518  False\n",
      "     PCTAPI    PCTWHITE  -0.7157 0.5609 -2.1434 0.7121  False\n",
      "   PCTBLACK PCTHISPANIC   1.2261    0.9 -7.0025 9.4547  False\n",
      "   PCTBLACK    PCTWHITE   1.5684    0.9 -5.9627 9.0996  False\n",
      "PCTHISPANIC    PCTWHITE   0.3423    0.9 -3.0604  3.745  False\n",
      "-------------------------------------------------------------\n"
     ]
    }
   ],
   "source": [
    "mc = MultiComparison(np.sqrt(dfr_article.TotalArticleCount), dfr_article.Race)\n",
    "result = mc.tukeyhsd()\n",
    "print(result)"
   ]
  },
  {
   "cell_type": "markdown",
   "metadata": {},
   "source": [
    "# Conference by Race"
   ]
  },
  {
   "cell_type": "code",
   "execution_count": 182,
   "metadata": {},
   "outputs": [
    {
     "data": {
      "text/plain": [
       "array(['PCTAPI', 'PCTWHITE', 'PCTHISPANIC', 'PCTBLACK'], dtype=object)"
      ]
     },
     "execution_count": 182,
     "metadata": {},
     "output_type": "execute_result"
    }
   ],
   "source": [
    "dfr_conf = df[['Id', 'Name', 'Race', 'TotalConfProcCount']].drop_duplicates()\n",
    "dfr_conf.Race.unique()"
   ]
  },
  {
   "cell_type": "code",
   "execution_count": 183,
   "metadata": {},
   "outputs": [
    {
     "data": {
      "text/plain": [
       "Text(0.5, 1.0, 'Square Root Transformed Box Plot of Conference Proceeding Count by Race')"
      ]
     },
     "execution_count": 183,
     "metadata": {},
     "output_type": "execute_result"
    },
    {
     "data": {
      "image/png": "[encoded data removed]",
      "text/plain": [
       "<Figure size 432x288 with 1 Axes>"
      ]
     },
     "metadata": {
      "needs_background": "light"
     },
     "output_type": "display_data"
    }
   ],
   "source": [
    "(r1, r2, r3, r4) = (dfr_conf[dfr_conf.Race == 'PCTWHITE'].TotalConfProcCount,\n",
    "                    dfr_conf[dfr_conf.Race == 'PCTAPI'].TotalConfProcCount,\n",
    "                    dfr_conf[dfr_conf.Race == 'PCTHISPANIC'].TotalConfProcCount,\n",
    "                    dfr_conf[dfr_conf.Race == 'PCTBLACK'].TotalConfProcCount)\n",
    "sqr1, sqr2, sqr3, sqr4 = np.sqrt(r1), np.sqrt(r2),np.sqrt(r3),np.sqrt(r4)\n",
    "fig, ax = plt.subplots()\n",
    "ax.boxplot([sqr1, sqr2, sqr3, sqr4])\n",
    "ax.set_xticklabels(['White', 'Api', 'Hispanic', 'Black'])\n",
    "ax.set_ylabel('Frequency')\n",
    "ax.set_xlabel('Race')\n",
    "ax.set_title('Square Root Transformed Box Plot of Conference Proceeding Count by Race')"
   ]
  },
  {
   "cell_type": "code",
   "execution_count": 184,
   "metadata": {},
   "outputs": [
    {
     "data": {
      "text/plain": [
       "(LeveneResult(statistic=3.734986111341774, pvalue=0.011080276895820704),\n",
       " LeveneResult(statistic=1.1462669394655154, pvalue=0.32959275871976085))"
      ]
     },
     "execution_count": 184,
     "metadata": {},
     "output_type": "execute_result"
    }
   ],
   "source": [
    "stats.levene(r1, r2, r3, r4), stats.levene(sqr1, sqr2, sqr3, sqr4)"
   ]
  },
  {
   "cell_type": "code",
   "execution_count": 185,
   "metadata": {},
   "outputs": [
    {
     "data": {
      "text/plain": [
       "(F_onewayResult(statistic=8.488966254482474, pvalue=1.5255881354796384e-05),\n",
       " F_onewayResult(statistic=5.817685258392713, pvalue=0.0006284480992359066))"
      ]
     },
     "execution_count": 185,
     "metadata": {},
     "output_type": "execute_result"
    }
   ],
   "source": [
    "stats.f_oneway(r1, r2, r3, r4), stats.f_oneway(sqr1, sqr2, sqr3, sqr4)"
   ]
  },
  {
   "cell_type": "code",
   "execution_count": 181,
   "metadata": {},
   "outputs": [
    {
     "name": "stdout",
     "output_type": "stream",
     "text": [
      "      Multiple Comparison of Means - Tukey HSD, FWER=0.05      \n",
      "===============================================================\n",
      "   group1      group2   meandiff p-adj   lower    upper  reject\n",
      "---------------------------------------------------------------\n",
      "     PCTAPI    PCTBLACK   6.3064 0.0113   1.0453 11.5674   True\n",
      "     PCTAPI PCTHISPANIC  -0.0776    0.9  -2.5676  2.4124  False\n",
      "     PCTAPI    PCTWHITE  -0.8425 0.1236  -1.8274  0.1424  False\n",
      "   PCTBLACK PCTHISPANIC   -6.384 0.0203 -12.0601 -0.7079   True\n",
      "   PCTBLACK    PCTWHITE  -7.1489 0.0024 -12.3439 -1.9539   True\n",
      "PCTHISPANIC    PCTWHITE  -0.7649 0.8142  -3.1121  1.5823  False\n",
      "---------------------------------------------------------------\n"
     ]
    }
   ],
   "source": [
    "mc = MultiComparison(np.sqrt(dfr_conf.TotalConfProcCount), dfr_conf.Race)\n",
    "result = mc.tukeyhsd()\n",
    "print(result)"
   ]
  },
  {
   "cell_type": "markdown",
   "metadata": {},
   "source": [
    "# Grant by Race"
   ]
  },
  {
   "cell_type": "code",
   "execution_count": 186,
   "metadata": {},
   "outputs": [
    {
     "data": {
      "text/plain": [
       "array(['PCTAPI', 'PCTWHITE', 'PCTHISPANIC', 'PCTBLACK'], dtype=object)"
      ]
     },
     "execution_count": 186,
     "metadata": {},
     "output_type": "execute_result"
    }
   ],
   "source": [
    "dfr_grant = df[['Id', 'Name', 'Race', 'TotalGrantCount']].drop_duplicates()\n",
    "dfr_grant.Race.unique()"
   ]
  },
  {
   "cell_type": "code",
   "execution_count": 187,
   "metadata": {},
   "outputs": [
    {
     "data": {
      "text/plain": [
       "Text(0.5, 1.0, 'Square Root Transformed Box Plot of Grant Count by Race')"
      ]
     },
     "execution_count": 187,
     "metadata": {},
     "output_type": "execute_result"
    },
    {
     "data": {
      "image/png": "[encoded data removed]",
      "text/plain": [
       "<Figure size 432x288 with 1 Axes>"
      ]
     },
     "metadata": {
      "needs_background": "light"
     },
     "output_type": "display_data"
    }
   ],
   "source": [
    "(r1, r2, r3, r4) = (dfr_grant[dfr_grant.Race == 'PCTWHITE'].TotalGrantCount,\n",
    "                    dfr_grant[dfr_grant.Race == 'PCTAPI'].TotalGrantCount,\n",
    "                    dfr_grant[dfr_grant.Race == 'PCTHISPANIC'].TotalGrantCount,\n",
    "                    dfr_grant[dfr_grant.Race == 'PCTBLACK'].TotalGrantCount)\n",
    "sqr1, sqr2, sqr3, sqr4 = np.sqrt(r1), np.sqrt(r2),np.sqrt(r3),np.sqrt(r4)\n",
    "\n",
    "fig, ax = plt.subplots()\n",
    "ax.boxplot([sqr1, sqr2, sqr3, sqr4])\n",
    "ax.set_xticklabels(['White', 'Api', 'Hispanic', 'Black'])\n",
    "ax.set_ylabel('Frequency')\n",
    "ax.set_xlabel('Race')\n",
    "ax.set_title('Square Root Transformed Box Plot of Grant Count by Race')"
   ]
  },
  {
   "cell_type": "code",
   "execution_count": 188,
   "metadata": {
    "scrolled": true
   },
   "outputs": [
    {
     "data": {
      "text/plain": [
       "(LeveneResult(statistic=0.40040127981891843, pvalue=0.7527577658174996),\n",
       " LeveneResult(statistic=2.114427070928006, pvalue=0.09708913350795785))"
      ]
     },
     "execution_count": 188,
     "metadata": {},
     "output_type": "execute_result"
    }
   ],
   "source": [
    "stats.levene(r1, r2, r3, r4), stats.levene(sqr1, sqr2, sqr3, sqr4)"
   ]
  },
  {
   "cell_type": "code",
   "execution_count": 189,
   "metadata": {},
   "outputs": [
    {
     "data": {
      "text/plain": [
       "(F_onewayResult(statistic=0.710533302065215, pvalue=0.5458975517641911),\n",
       " F_onewayResult(statistic=1.9780748090771811, pvalue=0.11591717002459566))"
      ]
     },
     "execution_count": 189,
     "metadata": {},
     "output_type": "execute_result"
    }
   ],
   "source": [
    "stats.f_oneway(r1, r2, r3, r4), stats.f_oneway(sqr1, sqr2, sqr3, sqr4)"
   ]
  },
  {
   "cell_type": "code",
   "execution_count": 190,
   "metadata": {},
   "outputs": [
    {
     "name": "stdout",
     "output_type": "stream",
     "text": [
      "     Multiple Comparison of Means - Tukey HSD, FWER=0.05     \n",
      "=============================================================\n",
      "   group1      group2   meandiff p-adj   lower  upper  reject\n",
      "-------------------------------------------------------------\n",
      "     PCTAPI    PCTBLACK   1.8038 0.3508 -1.0086 4.6162  False\n",
      "     PCTAPI PCTHISPANIC   0.2669    0.9 -1.0642  1.598  False\n",
      "     PCTAPI    PCTWHITE   0.4133 0.1808 -0.1131 0.9398  False\n",
      "   PCTBLACK PCTHISPANIC  -1.5369 0.5533 -4.5712 1.4974  False\n",
      "   PCTBLACK    PCTWHITE  -1.3905 0.5617 -4.1675 1.3866  False\n",
      "PCTHISPANIC    PCTWHITE   0.1464    0.9 -1.1083 1.4012  False\n",
      "-------------------------------------------------------------\n"
     ]
    }
   ],
   "source": [
    "mc = MultiComparison(np.sqrt(dfr_grant.TotalGrantCount), dfr_grant.Race)\n",
    "result = mc.tukeyhsd()\n",
    "print(result)"
   ]
  },
  {
   "cell_type": "markdown",
   "metadata": {},
   "source": [
    "# Patent by Race"
   ]
  },
  {
   "cell_type": "code",
   "execution_count": 196,
   "metadata": {},
   "outputs": [
    {
     "data": {
      "text/plain": [
       "array(['PCTAPI', 'PCTWHITE', 'PCTHISPANIC', 'PCTBLACK'], dtype=object)"
      ]
     },
     "execution_count": 196,
     "metadata": {},
     "output_type": "execute_result"
    }
   ],
   "source": [
    "dfr_patent = df[['Id', 'Name', 'Race', 'TotalPatentCount']].drop_duplicates()\n",
    "dfr_patent.Race.unique()"
   ]
  },
  {
   "cell_type": "code",
   "execution_count": 197,
   "metadata": {},
   "outputs": [
    {
     "data": {
      "text/plain": [
       "Text(0.5, 1.0, 'Square Root Transformed Box Plot of Patent Count by Race')"
      ]
     },
     "execution_count": 197,
     "metadata": {},
     "output_type": "execute_result"
    },
    {
     "data": {
      "image/png": "[encoded data removed]",
      "text/plain": [
       "<Figure size 432x288 with 1 Axes>"
      ]
     },
     "metadata": {
      "needs_background": "light"
     },
     "output_type": "display_data"
    }
   ],
   "source": [
    "(r1, r2, r3, r4) = (dfr_patent[dfr_patent.Race == 'PCTWHITE'].TotalPatentCount,\n",
    "                    dfr_patent[dfr_patent.Race == 'PCTAPI'].TotalPatentCount,\n",
    "                    dfr_patent[dfr_patent.Race == 'PCTHISPANIC'].TotalPatentCount,\n",
    "                    dfr_patent[dfr_patent.Race == 'PCTBLACK'].TotalPatentCount)\n",
    "sqr1, sqr2, sqr3, sqr4 = np.sqrt(r1), np.sqrt(r2),np.sqrt(r3),np.sqrt(r4)\n",
    "\n",
    "fig, ax = plt.subplots()\n",
    "ax.boxplot([sqr1, sqr2, sqr3, sqr4])\n",
    "ax.set_xticklabels(['White', 'Api', 'Hispanic', 'Black'])\n",
    "ax.set_ylabel('Frequency')\n",
    "ax.set_xlabel('Race')\n",
    "ax.set_title('Square Root Transformed Box Plot of Patent Count by Race')"
   ]
  },
  {
   "cell_type": "code",
   "execution_count": 198,
   "metadata": {},
   "outputs": [
    {
     "data": {
      "text/plain": [
       "(LeveneResult(statistic=0.45921269067908216, pvalue=0.7108736513972198),\n",
       " LeveneResult(statistic=0.6268643662897045, pvalue=0.5978127191863649))"
      ]
     },
     "execution_count": 198,
     "metadata": {},
     "output_type": "execute_result"
    }
   ],
   "source": [
    "stats.levene(r1, r2, r3, r4), stats.levene(sqr1, sqr2, sqr3, sqr4)"
   ]
  },
  {
   "cell_type": "code",
   "execution_count": 199,
   "metadata": {},
   "outputs": [
    {
     "data": {
      "text/plain": [
       "(F_onewayResult(statistic=0.7401192954024569, pvalue=0.5283347412336199),\n",
       " F_onewayResult(statistic=1.2846260562540677, pvalue=0.2785904955767165))"
      ]
     },
     "execution_count": 199,
     "metadata": {},
     "output_type": "execute_result"
    }
   ],
   "source": [
    "stats.f_oneway(r1, r2, r3, r4), stats.f_oneway(sqr1, sqr2, sqr3, sqr4)"
   ]
  },
  {
   "cell_type": "code",
   "execution_count": 200,
   "metadata": {},
   "outputs": [
    {
     "name": "stdout",
     "output_type": "stream",
     "text": [
      "     Multiple Comparison of Means - Tukey HSD, FWER=0.05     \n",
      "=============================================================\n",
      "   group1      group2   meandiff p-adj   lower  upper  reject\n",
      "-------------------------------------------------------------\n",
      "     PCTAPI    PCTBLACK   2.1372 0.4355 -1.5159 5.7903  False\n",
      "     PCTAPI PCTHISPANIC  -0.6735 0.7223 -2.4024 1.0555  False\n",
      "     PCTAPI    PCTWHITE  -0.1828 0.8988 -0.8666 0.5011  False\n",
      "   PCTBLACK PCTHISPANIC  -2.8106 0.2571 -6.7519 1.1306  False\n",
      "   PCTBLACK    PCTWHITE    -2.32 0.3483 -5.9272 1.2873  False\n",
      "PCTHISPANIC    PCTWHITE   0.4907 0.8501 -1.1391 2.1205  False\n",
      "-------------------------------------------------------------\n"
     ]
    }
   ],
   "source": [
    "mc = MultiComparison(np.sqrt(dfr_patent.TotalPatentCount), dfr_patent.Race)\n",
    "result = mc.tukeyhsd()\n",
    "print(result)"
   ]
  },
  {
   "cell_type": "code",
   "execution_count": null,
   "metadata": {},
   "outputs": [],
   "source": []
  }
 ],
 "metadata": {
  "kernelspec": {
   "display_name": "Python 3",
   "language": "python",
   "name": "python3"
  },
  "language_info": {
   "codemirror_mode": {
    "name": "ipython",
    "version": 3
   },
   "file_extension": ".py",
   "mimetype": "text/x-python",
   "name": "python",
   "nbconvert_exporter": "python",
   "pygments_lexer": "ipython3",
   "version": "3.8.4"
  }
 },
 "nbformat": 4,
 "nbformat_minor": 4
}
