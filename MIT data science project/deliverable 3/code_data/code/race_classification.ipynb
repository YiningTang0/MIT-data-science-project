{
 "cells": [
  {
   "cell_type": "code",
   "execution_count": 57,
   "metadata": {
    "collapsed": true
   },
   "outputs": [],
   "source": [
    "import pandas as pd\n",
    "import numpy as np\n",
    "import matplotlib.pyplot as plt"
   ]
  },
  {
   "cell_type": "code",
   "execution_count": 484,
   "outputs": [
    {
     "name": "stdout",
     "output_type": "stream",
     "text": [
      "(151671, 9)\n"
     ]
    },
    {
     "data": {
      "text/plain": "   Year   Surname    Count  PCT2PRACE  PCTAIAN  PCTAPI  PCTBLACK  PCTHISPANIC  \\\n0  2000     SMITH  2376206       1.63     0.85    0.40     22.22         1.56   \n1  2000   JOHNSON  1857160       1.82     0.91    0.42     33.80         1.50   \n2  2000  WILLIAMS  1534042       2.01     0.78    0.37     46.72         1.60   \n3  2000     BROWN  1380145       1.86     0.83    0.41     34.54         1.64   \n4  2000     JONES  1362755       1.85     0.94    0.35     37.73         1.44   \n\n   PCTWHITE  \n0     73.35  \n1     61.55  \n2     48.52  \n3     60.71  \n4     57.69  ",
      "text/html": "<div>\n<style scoped>\n    .dataframe tbody tr th:only-of-type {\n        vertical-align: middle;\n    }\n\n    .dataframe tbody tr th {\n        vertical-align: top;\n    }\n\n    .dataframe thead th {\n        text-align: right;\n    }\n</style>\n<table border=\"1\" class=\"dataframe\">\n  <thead>\n    <tr style=\"text-align: right;\">\n      <th></th>\n      <th>Year</th>\n      <th>Surname</th>\n      <th>Count</th>\n      <th>PCT2PRACE</th>\n      <th>PCTAIAN</th>\n      <th>PCTAPI</th>\n      <th>PCTBLACK</th>\n      <th>PCTHISPANIC</th>\n      <th>PCTWHITE</th>\n    </tr>\n  </thead>\n  <tbody>\n    <tr>\n      <th>0</th>\n      <td>2000</td>\n      <td>SMITH</td>\n      <td>2376206</td>\n      <td>1.63</td>\n      <td>0.85</td>\n      <td>0.40</td>\n      <td>22.22</td>\n      <td>1.56</td>\n      <td>73.35</td>\n    </tr>\n    <tr>\n      <th>1</th>\n      <td>2000</td>\n      <td>JOHNSON</td>\n      <td>1857160</td>\n      <td>1.82</td>\n      <td>0.91</td>\n      <td>0.42</td>\n      <td>33.80</td>\n      <td>1.50</td>\n      <td>61.55</td>\n    </tr>\n    <tr>\n      <th>2</th>\n      <td>2000</td>\n      <td>WILLIAMS</td>\n      <td>1534042</td>\n      <td>2.01</td>\n      <td>0.78</td>\n      <td>0.37</td>\n      <td>46.72</td>\n      <td>1.60</td>\n      <td>48.52</td>\n    </tr>\n    <tr>\n      <th>3</th>\n      <td>2000</td>\n      <td>BROWN</td>\n      <td>1380145</td>\n      <td>1.86</td>\n      <td>0.83</td>\n      <td>0.41</td>\n      <td>34.54</td>\n      <td>1.64</td>\n      <td>60.71</td>\n    </tr>\n    <tr>\n      <th>4</th>\n      <td>2000</td>\n      <td>JONES</td>\n      <td>1362755</td>\n      <td>1.85</td>\n      <td>0.94</td>\n      <td>0.35</td>\n      <td>37.73</td>\n      <td>1.44</td>\n      <td>57.69</td>\n    </tr>\n  </tbody>\n</table>\n</div>"
     },
     "execution_count": 484,
     "metadata": {},
     "output_type": "execute_result"
    }
   ],
   "source": [
    "database = pd.read_csv(\"./data/total_2000.csv\")\n",
    "print(database.shape)\n",
    "database.head()"
   ],
   "metadata": {
    "collapsed": false,
    "pycharm": {
     "name": "#%%\n"
    }
   }
  },
  {
   "cell_type": "code",
   "execution_count": 453,
   "outputs": [
    {
     "name": "stdout",
     "output_type": "stream",
     "text": [
      "(692, 2)\n"
     ]
    },
    {
     "data": {
      "text/plain": "     Id      LastName\n0  1485  BALAKRISHNAN\n1  2030       BARRETT\n2  2190      BELOBABA\n3  2695        BINZEL\n4  4030         CAHOY",
      "text/html": "<div>\n<style scoped>\n    .dataframe tbody tr th:only-of-type {\n        vertical-align: middle;\n    }\n\n    .dataframe tbody tr th {\n        vertical-align: top;\n    }\n\n    .dataframe thead th {\n        text-align: right;\n    }\n</style>\n<table border=\"1\" class=\"dataframe\">\n  <thead>\n    <tr style=\"text-align: right;\">\n      <th></th>\n      <th>Id</th>\n      <th>LastName</th>\n    </tr>\n  </thead>\n  <tbody>\n    <tr>\n      <th>0</th>\n      <td>1485</td>\n      <td>BALAKRISHNAN</td>\n    </tr>\n    <tr>\n      <th>1</th>\n      <td>2030</td>\n      <td>BARRETT</td>\n    </tr>\n    <tr>\n      <th>2</th>\n      <td>2190</td>\n      <td>BELOBABA</td>\n    </tr>\n    <tr>\n      <th>3</th>\n      <td>2695</td>\n      <td>BINZEL</td>\n    </tr>\n    <tr>\n      <th>4</th>\n      <td>4030</td>\n      <td>CAHOY</td>\n    </tr>\n  </tbody>\n</table>\n</div>"
     },
     "execution_count": 453,
     "metadata": {},
     "output_type": "execute_result"
    }
   ],
   "source": [
    "faculties = pd.read_csv(\"./data/faculties_with_gender.csv\")[[\"Id\", \"LastName\"]]\n",
    "faculties = faculties.drop_duplicates()\n",
    "print(faculties.shape)\n",
    "faculties.head()"
   ],
   "metadata": {
    "collapsed": false,
    "pycharm": {
     "name": "#%%\n"
    }
   }
  },
  {
   "cell_type": "code",
   "execution_count": 454,
   "outputs": [
    {
     "data": {
      "text/plain": "     Id      LastName Contain\n0  1485  BALAKRISHNAN    True\n1  2030       BARRETT    True\n2  2190      BELOBABA   False\n3  2695        BINZEL   False\n4  4030         CAHOY    True",
      "text/html": "<div>\n<style scoped>\n    .dataframe tbody tr th:only-of-type {\n        vertical-align: middle;\n    }\n\n    .dataframe tbody tr th {\n        vertical-align: top;\n    }\n\n    .dataframe thead th {\n        text-align: right;\n    }\n</style>\n<table border=\"1\" class=\"dataframe\">\n  <thead>\n    <tr style=\"text-align: right;\">\n      <th></th>\n      <th>Id</th>\n      <th>LastName</th>\n      <th>Contain</th>\n    </tr>\n  </thead>\n  <tbody>\n    <tr>\n      <th>0</th>\n      <td>1485</td>\n      <td>BALAKRISHNAN</td>\n      <td>True</td>\n    </tr>\n    <tr>\n      <th>1</th>\n      <td>2030</td>\n      <td>BARRETT</td>\n      <td>True</td>\n    </tr>\n    <tr>\n      <th>2</th>\n      <td>2190</td>\n      <td>BELOBABA</td>\n      <td>False</td>\n    </tr>\n    <tr>\n      <th>3</th>\n      <td>2695</td>\n      <td>BINZEL</td>\n      <td>False</td>\n    </tr>\n    <tr>\n      <th>4</th>\n      <td>4030</td>\n      <td>CAHOY</td>\n      <td>True</td>\n    </tr>\n  </tbody>\n</table>\n</div>"
     },
     "execution_count": 454,
     "metadata": {},
     "output_type": "execute_result"
    }
   ],
   "source": [
    "faculties['Contain'] = faculties.LastName.apply(lambda x: database['Surname'].eq(x).any())\n",
    "faculties[['Contain']] = faculties['Contain'].astype(str)\n",
    "faculties.head()"
   ],
   "metadata": {
    "collapsed": false,
    "pycharm": {
     "name": "#%%\n"
    }
   }
  },
  {
   "cell_type": "code",
   "execution_count": 455,
   "outputs": [
    {
     "name": "stdout",
     "output_type": "stream",
     "text": [
      "Name included: 506, Name not included: 186\n"
     ]
    },
    {
     "data": {
      "text/plain": "([<matplotlib.patches.Wedge at 0x7fe9fba1ce80>,\n  <matplotlib.patches.Wedge at 0x7fea0bca19a0>],\n [Text(-0.7305843398251542, 0.8223420957255222, 'Name included'),\n  Text(0.7305843398251541, -0.8223420957255222, 'Name not included')],\n [Text(-0.3985005489955386, 0.448550234032103, '73.1%'),\n  Text(0.39850054899553855, -0.448550234032103, '26.9%')])"
     },
     "execution_count": 455,
     "metadata": {},
     "output_type": "execute_result"
    },
    {
     "data": {
      "text/plain": "<Figure size 432x288 with 1 Axes>",
      "image/png": "[encoded data removed]"
     },
     "metadata": {},
     "output_type": "display_data"
    }
   ],
   "source": [
    "contain_count = faculties[\"Contain\"].value_counts()[\"True\"]\n",
    "not_contain_count = faculties[\"Contain\"].value_counts()[\"False\"]\n",
    "print(\"Name included: %d, Name not included: %d\" % (contain_count, not_contain_count))\n",
    "plt.pie(x=[contain_count, not_contain_count],\n",
    "        labels=['Name included', 'Name not included'],\n",
    "        autopct='%.1f%%')\n"
   ],
   "metadata": {
    "collapsed": false,
    "pycharm": {
     "name": "#%%\n"
    }
   }
  },
  {
   "cell_type": "markdown",
   "source": [
    "From the pie chart above, we can see that 73.1% of the faculty surnames can be found in this database,\n",
    "and 26.9% of the surnames not found in the database.\n",
    "\n",
    "For the surnames that can be found in the dataset, we are going to select the race with the highest percentage value.\n",
    "\n",
    "For the surnames that cannot be found in the dataset, we are going to fit a model and predict the race."
   ],
   "metadata": {
    "collapsed": false,
    "pycharm": {
     "name": "#%% md\n"
    }
   }
  },
  {
   "cell_type": "markdown",
   "source": [
    "# Surnames included in the database"
   ],
   "metadata": {
    "collapsed": false,
    "pycharm": {
     "name": "#%% md\n"
    }
   }
  },
  {
   "cell_type": "code",
   "execution_count": 458,
   "outputs": [
    {
     "name": "stdout",
     "output_type": "stream",
     "text": [
      "(506, 2)\n"
     ]
    },
    {
     "data": {
      "text/plain": "     Id      LastName\n0  1485  BALAKRISHNAN\n1  2030       BARRETT",
      "text/html": "<div>\n<style scoped>\n    .dataframe tbody tr th:only-of-type {\n        vertical-align: middle;\n    }\n\n    .dataframe tbody tr th {\n        vertical-align: top;\n    }\n\n    .dataframe thead th {\n        text-align: right;\n    }\n</style>\n<table border=\"1\" class=\"dataframe\">\n  <thead>\n    <tr style=\"text-align: right;\">\n      <th></th>\n      <th>Id</th>\n      <th>LastName</th>\n    </tr>\n  </thead>\n  <tbody>\n    <tr>\n      <th>0</th>\n      <td>1485</td>\n      <td>BALAKRISHNAN</td>\n    </tr>\n    <tr>\n      <th>1</th>\n      <td>2030</td>\n      <td>BARRETT</td>\n    </tr>\n  </tbody>\n</table>\n</div>"
     },
     "execution_count": 458,
     "metadata": {},
     "output_type": "execute_result"
    }
   ],
   "source": [
    "col = [\"Id\",\"LastName\",\"PCT2PRACE\",\"PCTAIAN\",\"PCTAPI\",\"PCTBLACK\",\"PCTHISPANIC\",\"PCTWHITE\"]\n",
    "name_include = faculties[faculties.Contain==\"True\"][['Id', 'LastName']]\n",
    "name_include = pd.DataFrame(name_include)\n",
    "print(name_include.shape)\n",
    "name_include.head(2)"
   ],
   "metadata": {
    "collapsed": false,
    "pycharm": {
     "name": "#%%\n"
    }
   }
  },
  {
   "cell_type": "code",
   "execution_count": 459,
   "outputs": [
    {
     "data": {
      "text/plain": "     Id      LastName  Count  PCT2PRACE  PCTAIAN  PCTAPI  PCTBLACK  \\\n0  1485  BALAKRISHNAN    547       4.57     0.00   90.68       NaN   \n1  2030       BARRETT  95896       1.54     0.55    0.57     12.41   \n\n   PCTHISPANIC  PCTWHITE  \n0          NaN      4.39  \n1         1.72     83.22  ",
      "text/html": "<div>\n<style scoped>\n    .dataframe tbody tr th:only-of-type {\n        vertical-align: middle;\n    }\n\n    .dataframe tbody tr th {\n        vertical-align: top;\n    }\n\n    .dataframe thead th {\n        text-align: right;\n    }\n</style>\n<table border=\"1\" class=\"dataframe\">\n  <thead>\n    <tr style=\"text-align: right;\">\n      <th></th>\n      <th>Id</th>\n      <th>LastName</th>\n      <th>Count</th>\n      <th>PCT2PRACE</th>\n      <th>PCTAIAN</th>\n      <th>PCTAPI</th>\n      <th>PCTBLACK</th>\n      <th>PCTHISPANIC</th>\n      <th>PCTWHITE</th>\n    </tr>\n  </thead>\n  <tbody>\n    <tr>\n      <th>0</th>\n      <td>1485</td>\n      <td>BALAKRISHNAN</td>\n      <td>547</td>\n      <td>4.57</td>\n      <td>0.00</td>\n      <td>90.68</td>\n      <td>NaN</td>\n      <td>NaN</td>\n      <td>4.39</td>\n    </tr>\n    <tr>\n      <th>1</th>\n      <td>2030</td>\n      <td>BARRETT</td>\n      <td>95896</td>\n      <td>1.54</td>\n      <td>0.55</td>\n      <td>0.57</td>\n      <td>12.41</td>\n      <td>1.72</td>\n      <td>83.22</td>\n    </tr>\n  </tbody>\n</table>\n</div>"
     },
     "execution_count": 459,
     "metadata": {},
     "output_type": "execute_result"
    }
   ],
   "source": [
    "faculties_include = name_include.merge(database, right_on=['Surname'], left_on=['LastName'], how='left')\n",
    "faculties_include = faculties_include.drop(columns=['Surname', 'Year'])\n",
    "faculties_include.head(2)"
   ],
   "metadata": {
    "collapsed": false,
    "pycharm": {
     "name": "#%%\n"
    }
   }
  },
  {
   "cell_type": "code",
   "execution_count": 460,
   "outputs": [
    {
     "name": "stdout",
     "output_type": "stream",
     "text": [
      "(506, 10)\n"
     ]
    },
    {
     "data": {
      "text/plain": "     Id      LastName  Count  PCT2PRACE  PCTAIAN  PCTAPI  PCTBLACK  \\\n0  1485  BALAKRISHNAN    547       4.57     0.00   90.68       NaN   \n1  2030       BARRETT  95896       1.54     0.55    0.57     12.41   \n\n   PCTHISPANIC  PCTWHITE  max_pct  \n0          NaN      4.39    90.68  \n1         1.72     83.22    83.22  ",
      "text/html": "<div>\n<style scoped>\n    .dataframe tbody tr th:only-of-type {\n        vertical-align: middle;\n    }\n\n    .dataframe tbody tr th {\n        vertical-align: top;\n    }\n\n    .dataframe thead th {\n        text-align: right;\n    }\n</style>\n<table border=\"1\" class=\"dataframe\">\n  <thead>\n    <tr style=\"text-align: right;\">\n      <th></th>\n      <th>Id</th>\n      <th>LastName</th>\n      <th>Count</th>\n      <th>PCT2PRACE</th>\n      <th>PCTAIAN</th>\n      <th>PCTAPI</th>\n      <th>PCTBLACK</th>\n      <th>PCTHISPANIC</th>\n      <th>PCTWHITE</th>\n      <th>max_pct</th>\n    </tr>\n  </thead>\n  <tbody>\n    <tr>\n      <th>0</th>\n      <td>1485</td>\n      <td>BALAKRISHNAN</td>\n      <td>547</td>\n      <td>4.57</td>\n      <td>0.00</td>\n      <td>90.68</td>\n      <td>NaN</td>\n      <td>NaN</td>\n      <td>4.39</td>\n      <td>90.68</td>\n    </tr>\n    <tr>\n      <th>1</th>\n      <td>2030</td>\n      <td>BARRETT</td>\n      <td>95896</td>\n      <td>1.54</td>\n      <td>0.55</td>\n      <td>0.57</td>\n      <td>12.41</td>\n      <td>1.72</td>\n      <td>83.22</td>\n      <td>83.22</td>\n    </tr>\n  </tbody>\n</table>\n</div>"
     },
     "execution_count": 460,
     "metadata": {},
     "output_type": "execute_result"
    }
   ],
   "source": [
    "faculties_include['max_pct'] = faculties_include[col[1:]].max(axis=1)\n",
    "print(faculties_include.shape)\n",
    "faculties_include.head(2)"
   ],
   "metadata": {
    "collapsed": false,
    "pycharm": {
     "name": "#%%\n"
    }
   }
  },
  {
   "cell_type": "code",
   "execution_count": 461,
   "outputs": [
    {
     "name": "stdout",
     "output_type": "stream",
     "text": [
      "(506, 4)\n"
     ]
    },
    {
     "name": "stderr",
     "output_type": "stream",
     "text": [
      "<ipython-input-461-84e7dde77ef0>:2: SettingWithCopyWarning: \n",
      "A value is trying to be set on a copy of a slice from a DataFrame.\n",
      "Try using .loc[row_indexer,col_indexer] = value instead\n",
      "\n",
      "See the caveats in the documentation: https://pandas.pydata.org/pandas-docs/stable/user_guide/indexing.html#returning-a-view-versus-a-copy\n",
      "  pure_pct['max_race'] = pure_pct[col[2:]].idxmax(axis=1)\n"
     ]
    },
    {
     "data": {
      "text/plain": "     Id      LastName  max_race  max_pct\n0  1485  BALAKRISHNAN    PCTAPI    90.68\n1  2030       BARRETT  PCTWHITE    83.22",
      "text/html": "<div>\n<style scoped>\n    .dataframe tbody tr th:only-of-type {\n        vertical-align: middle;\n    }\n\n    .dataframe tbody tr th {\n        vertical-align: top;\n    }\n\n    .dataframe thead th {\n        text-align: right;\n    }\n</style>\n<table border=\"1\" class=\"dataframe\">\n  <thead>\n    <tr style=\"text-align: right;\">\n      <th></th>\n      <th>Id</th>\n      <th>LastName</th>\n      <th>max_race</th>\n      <th>max_pct</th>\n    </tr>\n  </thead>\n  <tbody>\n    <tr>\n      <th>0</th>\n      <td>1485</td>\n      <td>BALAKRISHNAN</td>\n      <td>PCTAPI</td>\n      <td>90.68</td>\n    </tr>\n    <tr>\n      <th>1</th>\n      <td>2030</td>\n      <td>BARRETT</td>\n      <td>PCTWHITE</td>\n      <td>83.22</td>\n    </tr>\n  </tbody>\n</table>\n</div>"
     },
     "execution_count": 461,
     "metadata": {},
     "output_type": "execute_result"
    }
   ],
   "source": [
    "pure_pct = faculties_include[col]\n",
    "pure_pct['max_race'] = pure_pct[col[2:]].idxmax(axis=1)\n",
    "pure_pct['max_pct'] = pure_pct[col[2:]].max(axis=1)\n",
    "pure_pct = pure_pct[['Id', 'LastName', 'max_race', 'max_pct']]\n",
    "\n",
    "faculties_include = faculties_include.merge(pure_pct, on=['Id', 'LastName', 'max_pct'])\n",
    "faculties_include = faculties_include.groupby(by=['Id']).max().reset_index()[['Id', 'LastName', 'max_race']]\n",
    "print(faculties_include.shape)\n",
    "faculties_include.head(2)"
   ],
   "metadata": {
    "collapsed": false,
    "pycharm": {
     "name": "#%%\n"
    }
   }
  },
  {
   "cell_type": "code",
   "execution_count": 463,
   "outputs": [
    {
     "data": {
      "text/plain": "Id          0\nLastName    0\nmax_race    0\ndtype: int64"
     },
     "execution_count": 463,
     "metadata": {},
     "output_type": "execute_result"
    }
   ],
   "source": [
    "# Check if there's null value\n",
    "faculties_include.isnull().sum()"
   ],
   "metadata": {
    "collapsed": false,
    "pycharm": {
     "name": "#%%\n"
    }
   }
  },
  {
   "cell_type": "markdown",
   "source": [
    "# Surnames not included in the database"
   ],
   "metadata": {
    "collapsed": false,
    "pycharm": {
     "name": "#%% md\n"
    }
   }
  },
  {
   "cell_type": "code",
   "execution_count": 464,
   "outputs": [
    {
     "name": "stdout",
     "output_type": "stream",
     "text": [
      "(186, 2)\n"
     ]
    },
    {
     "data": {
      "text/plain": "     Id  LastName\n2  2190  BELOBABA\n3  2695    BINZEL",
      "text/html": "<div>\n<style scoped>\n    .dataframe tbody tr th:only-of-type {\n        vertical-align: middle;\n    }\n\n    .dataframe tbody tr th {\n        vertical-align: top;\n    }\n\n    .dataframe thead th {\n        text-align: right;\n    }\n</style>\n<table border=\"1\" class=\"dataframe\">\n  <thead>\n    <tr style=\"text-align: right;\">\n      <th></th>\n      <th>Id</th>\n      <th>LastName</th>\n    </tr>\n  </thead>\n  <tbody>\n    <tr>\n      <th>2</th>\n      <td>2190</td>\n      <td>BELOBABA</td>\n    </tr>\n    <tr>\n      <th>3</th>\n      <td>2695</td>\n      <td>BINZEL</td>\n    </tr>\n  </tbody>\n</table>\n</div>"
     },
     "execution_count": 464,
     "metadata": {},
     "output_type": "execute_result"
    }
   ],
   "source": [
    "\n",
    "name_not_include = faculties[faculties.Contain==\"False\"][['Id', 'LastName']]\n",
    "name_not_include = pd.DataFrame(name_not_include)\n",
    "print(name_not_include.shape)\n",
    "name_not_include.head(2)"
   ],
   "metadata": {
    "collapsed": false,
    "pycharm": {
     "name": "#%%\n"
    }
   }
  },
  {
   "cell_type": "markdown",
   "source": [
    "**Model Training**"
   ],
   "metadata": {
    "collapsed": false,
    "pycharm": {
     "name": "#%% md\n"
    }
   }
  },
  {
   "cell_type": "code",
   "execution_count": 465,
   "outputs": [
    {
     "data": {
      "text/plain": "   Year   Surname    Count  PCT2PRACE  PCTAIAN  PCTAPI  PCTBLACK  PCTHISPANIC  \\\n0  2000     SMITH  2376206       1.63     0.85    0.40     22.22         1.56   \n1  2000   JOHNSON  1857160       1.82     0.91    0.42     33.80         1.50   \n2  2000  WILLIAMS  1534042       2.01     0.78    0.37     46.72         1.60   \n3  2000     BROWN  1380145       1.86     0.83    0.41     34.54         1.64   \n4  2000     JONES  1362755       1.85     0.94    0.35     37.73         1.44   \n\n   PCTWHITE  \n0     73.35  \n1     61.55  \n2     48.52  \n3     60.71  \n4     57.69  ",
      "text/html": "<div>\n<style scoped>\n    .dataframe tbody tr th:only-of-type {\n        vertical-align: middle;\n    }\n\n    .dataframe tbody tr th {\n        vertical-align: top;\n    }\n\n    .dataframe thead th {\n        text-align: right;\n    }\n</style>\n<table border=\"1\" class=\"dataframe\">\n  <thead>\n    <tr style=\"text-align: right;\">\n      <th></th>\n      <th>Year</th>\n      <th>Surname</th>\n      <th>Count</th>\n      <th>PCT2PRACE</th>\n      <th>PCTAIAN</th>\n      <th>PCTAPI</th>\n      <th>PCTBLACK</th>\n      <th>PCTHISPANIC</th>\n      <th>PCTWHITE</th>\n    </tr>\n  </thead>\n  <tbody>\n    <tr>\n      <th>0</th>\n      <td>2000</td>\n      <td>SMITH</td>\n      <td>2376206</td>\n      <td>1.63</td>\n      <td>0.85</td>\n      <td>0.40</td>\n      <td>22.22</td>\n      <td>1.56</td>\n      <td>73.35</td>\n    </tr>\n    <tr>\n      <th>1</th>\n      <td>2000</td>\n      <td>JOHNSON</td>\n      <td>1857160</td>\n      <td>1.82</td>\n      <td>0.91</td>\n      <td>0.42</td>\n      <td>33.80</td>\n      <td>1.50</td>\n      <td>61.55</td>\n    </tr>\n    <tr>\n      <th>2</th>\n      <td>2000</td>\n      <td>WILLIAMS</td>\n      <td>1534042</td>\n      <td>2.01</td>\n      <td>0.78</td>\n      <td>0.37</td>\n      <td>46.72</td>\n      <td>1.60</td>\n      <td>48.52</td>\n    </tr>\n    <tr>\n      <th>3</th>\n      <td>2000</td>\n      <td>BROWN</td>\n      <td>1380145</td>\n      <td>1.86</td>\n      <td>0.83</td>\n      <td>0.41</td>\n      <td>34.54</td>\n      <td>1.64</td>\n      <td>60.71</td>\n    </tr>\n    <tr>\n      <th>4</th>\n      <td>2000</td>\n      <td>JONES</td>\n      <td>1362755</td>\n      <td>1.85</td>\n      <td>0.94</td>\n      <td>0.35</td>\n      <td>37.73</td>\n      <td>1.44</td>\n      <td>57.69</td>\n    </tr>\n  </tbody>\n</table>\n</div>"
     },
     "execution_count": 465,
     "metadata": {},
     "output_type": "execute_result"
    }
   ],
   "source": [
    "data = pd.read_csv(\"./data/total_2000.csv\")\n",
    "data.head()"
   ],
   "metadata": {
    "collapsed": false,
    "pycharm": {
     "name": "#%%\n"
    }
   }
  },
  {
   "cell_type": "code",
   "execution_count": 466,
   "outputs": [
    {
     "data": {
      "text/plain": "    Surname  max_race  max_pct\n0     SMITH  PCTWHITE    73.35\n1   JOHNSON  PCTWHITE    61.55\n2  WILLIAMS  PCTWHITE    48.52\n3     BROWN  PCTWHITE    60.71\n4     JONES  PCTWHITE    57.69",
      "text/html": "<div>\n<style scoped>\n    .dataframe tbody tr th:only-of-type {\n        vertical-align: middle;\n    }\n\n    .dataframe tbody tr th {\n        vertical-align: top;\n    }\n\n    .dataframe thead th {\n        text-align: right;\n    }\n</style>\n<table border=\"1\" class=\"dataframe\">\n  <thead>\n    <tr style=\"text-align: right;\">\n      <th></th>\n      <th>Surname</th>\n      <th>max_race</th>\n      <th>max_pct</th>\n    </tr>\n  </thead>\n  <tbody>\n    <tr>\n      <th>0</th>\n      <td>SMITH</td>\n      <td>PCTWHITE</td>\n      <td>73.35</td>\n    </tr>\n    <tr>\n      <th>1</th>\n      <td>JOHNSON</td>\n      <td>PCTWHITE</td>\n      <td>61.55</td>\n    </tr>\n    <tr>\n      <th>2</th>\n      <td>WILLIAMS</td>\n      <td>PCTWHITE</td>\n      <td>48.52</td>\n    </tr>\n    <tr>\n      <th>3</th>\n      <td>BROWN</td>\n      <td>PCTWHITE</td>\n      <td>60.71</td>\n    </tr>\n    <tr>\n      <th>4</th>\n      <td>JONES</td>\n      <td>PCTWHITE</td>\n      <td>57.69</td>\n    </tr>\n  </tbody>\n</table>\n</div>"
     },
     "execution_count": 466,
     "metadata": {},
     "output_type": "execute_result"
    }
   ],
   "source": [
    "data['max_race'] = data[col[2:]].idxmax(axis=1)\n",
    "data['max_pct'] = data[col[2:]].max(axis=1)\n",
    "data = data[['Surname', 'max_race', 'max_pct']]\n",
    "data.head()"
   ],
   "metadata": {
    "collapsed": false,
    "pycharm": {
     "name": "#%%\n"
    }
   }
  },
  {
   "cell_type": "code",
   "execution_count": 467,
   "outputs": [
    {
     "data": {
      "text/plain": "Surname     0\nmax_race    0\nmax_pct     0\ndtype: int64"
     },
     "execution_count": 467,
     "metadata": {},
     "output_type": "execute_result"
    }
   ],
   "source": [
    "data = data.dropna()\n",
    "data.isnull().sum()"
   ],
   "metadata": {
    "collapsed": false,
    "pycharm": {
     "name": "#%%\n"
    }
   }
  },
  {
   "cell_type": "code",
   "execution_count": 468,
   "outputs": [
    {
     "data": {
      "text/plain": "<151670x151670 sparse matrix of type '<class 'numpy.int64'>'\n\twith 151670 stored elements in Compressed Sparse Row format>"
     },
     "execution_count": 468,
     "metadata": {},
     "output_type": "execute_result"
    }
   ],
   "source": [
    "X = data.Surname\n",
    "y = data.max_race\n",
    "\n",
    "from sklearn.feature_extraction.text import CountVectorizer\n",
    "cv = CountVectorizer()\n",
    "X_matrix = cv.fit_transform(X)\n",
    "X_matrix"
   ],
   "metadata": {
    "collapsed": false,
    "pycharm": {
     "name": "#%%\n"
    }
   }
  },
  {
   "cell_type": "code",
   "execution_count": 469,
   "outputs": [],
   "source": [
    "from sklearn.model_selection import train_test_split\n",
    "X_train, X_test, y_train, y_test = train_test_split(X_matrix, y, test_size=0.3, random_state=30)"
   ],
   "metadata": {
    "collapsed": false,
    "pycharm": {
     "name": "#%%\n"
    }
   }
  },
  {
   "cell_type": "code",
   "execution_count": 470,
   "outputs": [],
   "source": [
    "from sklearn.naive_bayes import  MultinomialNB\n",
    "clf1 = MultinomialNB()\n",
    "clf1.fit(X_train, y_train)\n",
    "y_pred1 = clf1.predict(X_test)"
   ],
   "metadata": {
    "collapsed": false,
    "pycharm": {
     "name": "#%%\n"
    }
   }
  },
  {
   "cell_type": "code",
   "execution_count": 471,
   "outputs": [
    {
     "name": "stdout",
     "output_type": "stream",
     "text": [
      "Accuracy of Model on training sets:  85.71711139786566 %\n",
      "Accuracy of Model on testing sets:  86.32777301597767 %\n"
     ]
    }
   ],
   "source": [
    "from sklearn.metrics import mean_squared_error\n",
    "print(\"Accuracy of Model on training sets: \", clf1.score(X_train, y_train)*100, \"%\")\n",
    "print(\"Accuracy of Model on testing sets: \", clf1.score(X_test, y_test)*100, \"%\")"
   ],
   "metadata": {
    "collapsed": false,
    "pycharm": {
     "name": "#%%\n"
    }
   }
  },
  {
   "cell_type": "markdown",
   "source": [
    "**Prediction on surnames**"
   ],
   "metadata": {
    "collapsed": false,
    "pycharm": {
     "name": "#%% md\n"
    }
   }
  },
  {
   "cell_type": "code",
   "execution_count": 472,
   "outputs": [
    {
     "name": "stdout",
     "output_type": "stream",
     "text": [
      "(186, 2)\n"
     ]
    },
    {
     "data": {
      "text/plain": "     Id  LastName\n0  2190  BELOBABA\n1  2695    BINZEL",
      "text/html": "<div>\n<style scoped>\n    .dataframe tbody tr th:only-of-type {\n        vertical-align: middle;\n    }\n\n    .dataframe tbody tr th {\n        vertical-align: top;\n    }\n\n    .dataframe thead th {\n        text-align: right;\n    }\n</style>\n<table border=\"1\" class=\"dataframe\">\n  <thead>\n    <tr style=\"text-align: right;\">\n      <th></th>\n      <th>Id</th>\n      <th>LastName</th>\n    </tr>\n  </thead>\n  <tbody>\n    <tr>\n      <th>0</th>\n      <td>2190</td>\n      <td>BELOBABA</td>\n    </tr>\n    <tr>\n      <th>1</th>\n      <td>2695</td>\n      <td>BINZEL</td>\n    </tr>\n  </tbody>\n</table>\n</div>"
     },
     "execution_count": 472,
     "metadata": {},
     "output_type": "execute_result"
    }
   ],
   "source": [
    "name_not_include = faculties[faculties.Contain==\"False\"][['Id', 'LastName']]\n",
    "name_not_include = pd.DataFrame(name_not_include).reset_index().drop(columns=['index'])\n",
    "print(name_not_include.shape)\n",
    "name_not_include.head(2)"
   ],
   "metadata": {
    "collapsed": false,
    "pycharm": {
     "name": "#%%\n"
    }
   }
  },
  {
   "cell_type": "code",
   "execution_count": 473,
   "outputs": [
    {
     "name": "stdout",
     "output_type": "stream",
     "text": [
      "(186, 1)\n"
     ]
    },
    {
     "data": {
      "text/plain": "   LastName\n0  BELOBABA\n1    BINZEL",
      "text/html": "<div>\n<style scoped>\n    .dataframe tbody tr th:only-of-type {\n        vertical-align: middle;\n    }\n\n    .dataframe tbody tr th {\n        vertical-align: top;\n    }\n\n    .dataframe thead th {\n        text-align: right;\n    }\n</style>\n<table border=\"1\" class=\"dataframe\">\n  <thead>\n    <tr style=\"text-align: right;\">\n      <th></th>\n      <th>LastName</th>\n    </tr>\n  </thead>\n  <tbody>\n    <tr>\n      <th>0</th>\n      <td>BELOBABA</td>\n    </tr>\n    <tr>\n      <th>1</th>\n      <td>BINZEL</td>\n    </tr>\n  </tbody>\n</table>\n</div>"
     },
     "execution_count": 473,
     "metadata": {},
     "output_type": "execute_result"
    }
   ],
   "source": [
    "fac_id = name_not_include[['Id']]\n",
    "last_name = name_not_include[['LastName']].reset_index().drop(columns=['index'])\n",
    "print(last_name.shape)\n",
    "last_name.head(2)"
   ],
   "metadata": {
    "collapsed": false,
    "pycharm": {
     "name": "#%%\n"
    }
   }
  },
  {
   "cell_type": "code",
   "execution_count": 474,
   "outputs": [
    {
     "name": "stdout",
     "output_type": "stream",
     "text": [
      "(186, 1)\n"
     ]
    },
    {
     "data": {
      "text/plain": "       Race\n0  PCTWHITE\n1  PCTWHITE",
      "text/html": "<div>\n<style scoped>\n    .dataframe tbody tr th:only-of-type {\n        vertical-align: middle;\n    }\n\n    .dataframe tbody tr th {\n        vertical-align: top;\n    }\n\n    .dataframe thead th {\n        text-align: right;\n    }\n</style>\n<table border=\"1\" class=\"dataframe\">\n  <thead>\n    <tr style=\"text-align: right;\">\n      <th></th>\n      <th>Race</th>\n    </tr>\n  </thead>\n  <tbody>\n    <tr>\n      <th>0</th>\n      <td>PCTWHITE</td>\n    </tr>\n    <tr>\n      <th>1</th>\n      <td>PCTWHITE</td>\n    </tr>\n  </tbody>\n</table>\n</div>"
     },
     "execution_count": 474,
     "metadata": {},
     "output_type": "execute_result"
    }
   ],
   "source": [
    "vect = cv.transform(last_name.LastName).toarray()\n",
    "\n",
    "predict = pd.DataFrame(data=clf1.predict(vect), columns=['Race'])\n",
    "predict['Race'] = predict.Race\n",
    "print(predict.shape)\n",
    "predict.head(2)"
   ],
   "metadata": {
    "collapsed": false,
    "pycharm": {
     "name": "#%%\n"
    }
   }
  },
  {
   "cell_type": "code",
   "execution_count": 475,
   "outputs": [
    {
     "data": {
      "text/plain": "      Id       LastName      Race\n0   2190       BELOBABA  PCTWHITE\n1   2695         BINZEL  PCTWHITE\n2   3910        DE WECK  PCTWHITE\n3   4410          DRELA  PCTWHITE\n4  16865  GUERRA GARCIA  PCTWHITE",
      "text/html": "<div>\n<style scoped>\n    .dataframe tbody tr th:only-of-type {\n        vertical-align: middle;\n    }\n\n    .dataframe tbody tr th {\n        vertical-align: top;\n    }\n\n    .dataframe thead th {\n        text-align: right;\n    }\n</style>\n<table border=\"1\" class=\"dataframe\">\n  <thead>\n    <tr style=\"text-align: right;\">\n      <th></th>\n      <th>Id</th>\n      <th>LastName</th>\n      <th>Race</th>\n    </tr>\n  </thead>\n  <tbody>\n    <tr>\n      <th>0</th>\n      <td>2190</td>\n      <td>BELOBABA</td>\n      <td>PCTWHITE</td>\n    </tr>\n    <tr>\n      <th>1</th>\n      <td>2695</td>\n      <td>BINZEL</td>\n      <td>PCTWHITE</td>\n    </tr>\n    <tr>\n      <th>2</th>\n      <td>3910</td>\n      <td>DE WECK</td>\n      <td>PCTWHITE</td>\n    </tr>\n    <tr>\n      <th>3</th>\n      <td>4410</td>\n      <td>DRELA</td>\n      <td>PCTWHITE</td>\n    </tr>\n    <tr>\n      <th>4</th>\n      <td>16865</td>\n      <td>GUERRA GARCIA</td>\n      <td>PCTWHITE</td>\n    </tr>\n  </tbody>\n</table>\n</div>"
     },
     "execution_count": 475,
     "metadata": {},
     "output_type": "execute_result"
    }
   ],
   "source": [
    "faculties_not_include = pd.concat([name_not_include, predict], axis=1)\n",
    "faculties_not_include.head()"
   ],
   "metadata": {
    "collapsed": false,
    "pycharm": {
     "name": "#%%\n"
    }
   }
  },
  {
   "cell_type": "markdown",
   "source": [
    "# Combine gender and race info"
   ],
   "metadata": {
    "collapsed": false,
    "pycharm": {
     "name": "#%% md\n"
    }
   }
  },
  {
   "cell_type": "code",
   "execution_count": 476,
   "outputs": [
    {
     "name": "stdout",
     "output_type": "stream",
     "text": [
      "(506, 3)\n"
     ]
    },
    {
     "data": {
      "text/plain": "     Id   LastName         Race\n0  1010       FREY     PCTWHITE\n1  1020     DURAND     PCTWHITE\n2  1025    FREEMAN     PCTWHITE\n3  1030  MCDERMOTT     PCTWHITE\n4  1040   TORRALBA  PCTHISPANIC",
      "text/html": "<div>\n<style scoped>\n    .dataframe tbody tr th:only-of-type {\n        vertical-align: middle;\n    }\n\n    .dataframe tbody tr th {\n        vertical-align: top;\n    }\n\n    .dataframe thead th {\n        text-align: right;\n    }\n</style>\n<table border=\"1\" class=\"dataframe\">\n  <thead>\n    <tr style=\"text-align: right;\">\n      <th></th>\n      <th>Id</th>\n      <th>LastName</th>\n      <th>Race</th>\n    </tr>\n  </thead>\n  <tbody>\n    <tr>\n      <th>0</th>\n      <td>1010</td>\n      <td>FREY</td>\n      <td>PCTWHITE</td>\n    </tr>\n    <tr>\n      <th>1</th>\n      <td>1020</td>\n      <td>DURAND</td>\n      <td>PCTWHITE</td>\n    </tr>\n    <tr>\n      <th>2</th>\n      <td>1025</td>\n      <td>FREEMAN</td>\n      <td>PCTWHITE</td>\n    </tr>\n    <tr>\n      <th>3</th>\n      <td>1030</td>\n      <td>MCDERMOTT</td>\n      <td>PCTWHITE</td>\n    </tr>\n    <tr>\n      <th>4</th>\n      <td>1040</td>\n      <td>TORRALBA</td>\n      <td>PCTHISPANIC</td>\n    </tr>\n  </tbody>\n</table>\n</div>"
     },
     "execution_count": 476,
     "metadata": {},
     "output_type": "execute_result"
    }
   ],
   "source": [
    "faculties_include = faculties_include.rename(columns={'max_race': 'Race'})\n",
    "print(faculties_include.shape)\n",
    "faculties_include.head()"
   ],
   "metadata": {
    "collapsed": false,
    "pycharm": {
     "name": "#%%\n"
    }
   }
  },
  {
   "cell_type": "code",
   "execution_count": 477,
   "outputs": [
    {
     "name": "stdout",
     "output_type": "stream",
     "text": [
      "(186, 3)\n"
     ]
    },
    {
     "data": {
      "text/plain": "      Id       LastName      Race\n0   2190       BELOBABA  PCTWHITE\n1   2695         BINZEL  PCTWHITE\n2   3910        DE WECK  PCTWHITE\n3   4410          DRELA  PCTWHITE\n4  16865  GUERRA GARCIA  PCTWHITE",
      "text/html": "<div>\n<style scoped>\n    .dataframe tbody tr th:only-of-type {\n        vertical-align: middle;\n    }\n\n    .dataframe tbody tr th {\n        vertical-align: top;\n    }\n\n    .dataframe thead th {\n        text-align: right;\n    }\n</style>\n<table border=\"1\" class=\"dataframe\">\n  <thead>\n    <tr style=\"text-align: right;\">\n      <th></th>\n      <th>Id</th>\n      <th>LastName</th>\n      <th>Race</th>\n    </tr>\n  </thead>\n  <tbody>\n    <tr>\n      <th>0</th>\n      <td>2190</td>\n      <td>BELOBABA</td>\n      <td>PCTWHITE</td>\n    </tr>\n    <tr>\n      <th>1</th>\n      <td>2695</td>\n      <td>BINZEL</td>\n      <td>PCTWHITE</td>\n    </tr>\n    <tr>\n      <th>2</th>\n      <td>3910</td>\n      <td>DE WECK</td>\n      <td>PCTWHITE</td>\n    </tr>\n    <tr>\n      <th>3</th>\n      <td>4410</td>\n      <td>DRELA</td>\n      <td>PCTWHITE</td>\n    </tr>\n    <tr>\n      <th>4</th>\n      <td>16865</td>\n      <td>GUERRA GARCIA</td>\n      <td>PCTWHITE</td>\n    </tr>\n  </tbody>\n</table>\n</div>"
     },
     "execution_count": 477,
     "metadata": {},
     "output_type": "execute_result"
    }
   ],
   "source": [
    "print(faculties_not_include.shape)\n",
    "faculties_not_include.head()"
   ],
   "metadata": {
    "collapsed": false,
    "pycharm": {
     "name": "#%%\n"
    }
   }
  },
  {
   "cell_type": "code",
   "execution_count": 478,
   "outputs": [
    {
     "name": "stdout",
     "output_type": "stream",
     "text": [
      "(692, 3)\n"
     ]
    },
    {
     "data": {
      "text/plain": "     Id   LastName         Race\n0  1010       FREY     PCTWHITE\n1  1020     DURAND     PCTWHITE\n2  1025    FREEMAN     PCTWHITE\n3  1030  MCDERMOTT     PCTWHITE\n4  1040   TORRALBA  PCTHISPANIC",
      "text/html": "<div>\n<style scoped>\n    .dataframe tbody tr th:only-of-type {\n        vertical-align: middle;\n    }\n\n    .dataframe tbody tr th {\n        vertical-align: top;\n    }\n\n    .dataframe thead th {\n        text-align: right;\n    }\n</style>\n<table border=\"1\" class=\"dataframe\">\n  <thead>\n    <tr style=\"text-align: right;\">\n      <th></th>\n      <th>Id</th>\n      <th>LastName</th>\n      <th>Race</th>\n    </tr>\n  </thead>\n  <tbody>\n    <tr>\n      <th>0</th>\n      <td>1010</td>\n      <td>FREY</td>\n      <td>PCTWHITE</td>\n    </tr>\n    <tr>\n      <th>1</th>\n      <td>1020</td>\n      <td>DURAND</td>\n      <td>PCTWHITE</td>\n    </tr>\n    <tr>\n      <th>2</th>\n      <td>1025</td>\n      <td>FREEMAN</td>\n      <td>PCTWHITE</td>\n    </tr>\n    <tr>\n      <th>3</th>\n      <td>1030</td>\n      <td>MCDERMOTT</td>\n      <td>PCTWHITE</td>\n    </tr>\n    <tr>\n      <th>4</th>\n      <td>1040</td>\n      <td>TORRALBA</td>\n      <td>PCTHISPANIC</td>\n    </tr>\n  </tbody>\n</table>\n</div>"
     },
     "execution_count": 478,
     "metadata": {},
     "output_type": "execute_result"
    }
   ],
   "source": [
    "faculties_with_race = pd.concat([faculties_include, faculties_not_include])\n",
    "print(faculties_with_race.shape)\n",
    "faculties_with_race.head()"
   ],
   "metadata": {
    "collapsed": false,
    "pycharm": {
     "name": "#%%\n"
    }
   }
  },
  {
   "cell_type": "code",
   "execution_count": 479,
   "outputs": [
    {
     "name": "stdout",
     "output_type": "stream",
     "text": [
      "(749, 12)\n"
     ]
    },
    {
     "data": {
      "text/plain": "     Id                  Name      LastName FirstName Gender   RankName  \\\n0  1485   BALAKRISHNAN, HAMSA  BALAKRISHNAN     HAMSA   Male  Professor   \n1  2030  BARRETT, STEVEN R. H       BARRETT    STEVEN   Male  Associate   \n\n                     Department  TotalArticleCount  TotalConfProcCount  \\\n0  Aeronautics and Astronautics                 46                  63   \n1  Aeronautics and Astronautics                 87                   7   \n\n   TotalGrantCount  TotalPatentCount  TotalCourseCount  \n0               15                 1                 2  \n1               11                 1                 2  ",
      "text/html": "<div>\n<style scoped>\n    .dataframe tbody tr th:only-of-type {\n        vertical-align: middle;\n    }\n\n    .dataframe tbody tr th {\n        vertical-align: top;\n    }\n\n    .dataframe thead th {\n        text-align: right;\n    }\n</style>\n<table border=\"1\" class=\"dataframe\">\n  <thead>\n    <tr style=\"text-align: right;\">\n      <th></th>\n      <th>Id</th>\n      <th>Name</th>\n      <th>LastName</th>\n      <th>FirstName</th>\n      <th>Gender</th>\n      <th>RankName</th>\n      <th>Department</th>\n      <th>TotalArticleCount</th>\n      <th>TotalConfProcCount</th>\n      <th>TotalGrantCount</th>\n      <th>TotalPatentCount</th>\n      <th>TotalCourseCount</th>\n    </tr>\n  </thead>\n  <tbody>\n    <tr>\n      <th>0</th>\n      <td>1485</td>\n      <td>BALAKRISHNAN, HAMSA</td>\n      <td>BALAKRISHNAN</td>\n      <td>HAMSA</td>\n      <td>Male</td>\n      <td>Professor</td>\n      <td>Aeronautics and Astronautics</td>\n      <td>46</td>\n      <td>63</td>\n      <td>15</td>\n      <td>1</td>\n      <td>2</td>\n    </tr>\n    <tr>\n      <th>1</th>\n      <td>2030</td>\n      <td>BARRETT, STEVEN R. H</td>\n      <td>BARRETT</td>\n      <td>STEVEN</td>\n      <td>Male</td>\n      <td>Associate</td>\n      <td>Aeronautics and Astronautics</td>\n      <td>87</td>\n      <td>7</td>\n      <td>11</td>\n      <td>1</td>\n      <td>2</td>\n    </tr>\n  </tbody>\n</table>\n</div>"
     },
     "execution_count": 479,
     "metadata": {},
     "output_type": "execute_result"
    }
   ],
   "source": [
    "gender = pd.read_csv(\"./data/faculties_with_gender.csv\")\n",
    "print(gender.shape)\n",
    "gender.head(2)"
   ],
   "metadata": {
    "collapsed": false,
    "pycharm": {
     "name": "#%%\n"
    }
   }
  },
  {
   "cell_type": "code",
   "execution_count": 480,
   "outputs": [
    {
     "name": "stdout",
     "output_type": "stream",
     "text": [
      "(749, 13)\n"
     ]
    },
    {
     "data": {
      "text/plain": "Id                    0\nName                  0\nLastName              0\nFirstName             0\nGender                0\nRankName              0\nDepartment            0\nTotalArticleCount     0\nTotalConfProcCount    0\nTotalGrantCount       0\nTotalPatentCount      0\nTotalCourseCount      0\nRace                  0\ndtype: int64"
     },
     "execution_count": 480,
     "metadata": {},
     "output_type": "execute_result"
    }
   ],
   "source": [
    "gender_race = gender.merge(faculties_with_race, on=['Id', 'LastName'], how='left')\n",
    "print(gender_race.shape)\n",
    "gender_race.isnull().sum()"
   ],
   "metadata": {
    "collapsed": false,
    "pycharm": {
     "name": "#%%\n"
    }
   }
  },
  {
   "cell_type": "code",
   "execution_count": 482,
   "outputs": [
    {
     "data": {
      "text/plain": "     Id                  Name      LastName FirstName Gender   RankName  \\\n0  1485   BALAKRISHNAN, HAMSA  BALAKRISHNAN     HAMSA   Male  Professor   \n1  2030  BARRETT, STEVEN R. H       BARRETT    STEVEN   Male  Associate   \n\n                     Department  TotalArticleCount  TotalConfProcCount  \\\n0  Aeronautics and Astronautics                 46                  63   \n1  Aeronautics and Astronautics                 87                   7   \n\n   TotalGrantCount  TotalPatentCount  TotalCourseCount      Race  \n0               15                 1                 2    PCTAPI  \n1               11                 1                 2  PCTWHITE  ",
      "text/html": "<div>\n<style scoped>\n    .dataframe tbody tr th:only-of-type {\n        vertical-align: middle;\n    }\n\n    .dataframe tbody tr th {\n        vertical-align: top;\n    }\n\n    .dataframe thead th {\n        text-align: right;\n    }\n</style>\n<table border=\"1\" class=\"dataframe\">\n  <thead>\n    <tr style=\"text-align: right;\">\n      <th></th>\n      <th>Id</th>\n      <th>Name</th>\n      <th>LastName</th>\n      <th>FirstName</th>\n      <th>Gender</th>\n      <th>RankName</th>\n      <th>Department</th>\n      <th>TotalArticleCount</th>\n      <th>TotalConfProcCount</th>\n      <th>TotalGrantCount</th>\n      <th>TotalPatentCount</th>\n      <th>TotalCourseCount</th>\n      <th>Race</th>\n    </tr>\n  </thead>\n  <tbody>\n    <tr>\n      <th>0</th>\n      <td>1485</td>\n      <td>BALAKRISHNAN, HAMSA</td>\n      <td>BALAKRISHNAN</td>\n      <td>HAMSA</td>\n      <td>Male</td>\n      <td>Professor</td>\n      <td>Aeronautics and Astronautics</td>\n      <td>46</td>\n      <td>63</td>\n      <td>15</td>\n      <td>1</td>\n      <td>2</td>\n      <td>PCTAPI</td>\n    </tr>\n    <tr>\n      <th>1</th>\n      <td>2030</td>\n      <td>BARRETT, STEVEN R. H</td>\n      <td>BARRETT</td>\n      <td>STEVEN</td>\n      <td>Male</td>\n      <td>Associate</td>\n      <td>Aeronautics and Astronautics</td>\n      <td>87</td>\n      <td>7</td>\n      <td>11</td>\n      <td>1</td>\n      <td>2</td>\n      <td>PCTWHITE</td>\n    </tr>\n  </tbody>\n</table>\n</div>"
     },
     "execution_count": 482,
     "metadata": {},
     "output_type": "execute_result"
    }
   ],
   "source": [
    "gender_race.head(2)"
   ],
   "metadata": {
    "collapsed": false,
    "pycharm": {
     "name": "#%%\n"
    }
   }
  },
  {
   "cell_type": "code",
   "execution_count": 483,
   "outputs": [],
   "source": [
    "gender_race.to_csv(\"./data/faculties_gender_race.csv\", index=False)"
   ],
   "metadata": {
    "collapsed": false,
    "pycharm": {
     "name": "#%%\n"
    }
   }
  },
  {
   "cell_type": "code",
   "execution_count": null,
   "outputs": [],
   "source": [],
   "metadata": {
    "collapsed": false,
    "pycharm": {
     "name": "#%%\n"
    }
   }
  }
 ],
 "metadata": {
  "kernelspec": {
   "display_name": "Python 3",
   "language": "python",
   "name": "python3"
  },
  "language_info": {
   "codemirror_mode": {
    "name": "ipython",
    "version": 2
   },
   "file_extension": ".py",
   "mimetype": "text/x-python",
   "name": "python",
   "nbconvert_exporter": "python",
   "pygments_lexer": "ipython2",
   "version": "2.7.6"
  }
 },
 "nbformat": 4,
 "nbformat_minor": 0
}