{
 "cells": [
  {
   "cell_type": "code",
   "execution_count": 1,
   "metadata": {},
   "outputs": [],
   "source": [
    "import numpy as np\n",
    "import pandas as pd\n",
    "import seaborn as sns\n",
    "from matplotlib import pyplot as plt\n",
    "\n",
    "from sklearn.feature_extraction.text import CountVectorizer\n",
    "from sklearn.feature_extraction.text import TfidfTransformer\n",
    "\n",
    "from sklearn.model_selection import train_test_split\n",
    "\n",
    "from sklearn.naive_bayes import  MultinomialNB\n",
    "from sklearn.naive_bayes import BernoulliNB\n",
    "from sklearn.ensemble import RandomForestClassifier\n",
    "from sklearn.linear_model import SGDClassifier\n",
    "\n",
    "from sklearn.metrics import confusion_matrix, mean_squared_error\n"
   ]
  },
  {
   "cell_type": "markdown",
   "metadata": {},
   "source": [
    "# Training Set Exploration"
   ]
  },
  {
   "cell_type": "code",
   "execution_count": 2,
   "metadata": {
    "pycharm": {
     "name": "#%%\n"
    }
   },
   "outputs": [
    {
     "name": "stdout",
     "output_type": "stream",
     "text": [
      "(147269, 4)\n"
     ]
    },
    {
     "data": {
      "text/html": [
       "<div>\n",
       "<style scoped>\n",
       "    .dataframe tbody tr th:only-of-type {\n",
       "        vertical-align: middle;\n",
       "    }\n",
       "\n",
       "    .dataframe tbody tr th {\n",
       "        vertical-align: top;\n",
       "    }\n",
       "\n",
       "    .dataframe thead th {\n",
       "        text-align: right;\n",
       "    }\n",
       "</style>\n",
       "<table border=\"1\" class=\"dataframe\">\n",
       "  <thead>\n",
       "    <tr style=\"text-align: right;\">\n",
       "      <th></th>\n",
       "      <th>Name</th>\n",
       "      <th>Gender</th>\n",
       "      <th>Count</th>\n",
       "      <th>Probability</th>\n",
       "    </tr>\n",
       "  </thead>\n",
       "  <tbody>\n",
       "    <tr>\n",
       "      <th>0</th>\n",
       "      <td>James</td>\n",
       "      <td>M</td>\n",
       "      <td>5304407</td>\n",
       "      <td>0.014517</td>\n",
       "    </tr>\n",
       "    <tr>\n",
       "      <th>1</th>\n",
       "      <td>John</td>\n",
       "      <td>M</td>\n",
       "      <td>5260831</td>\n",
       "      <td>0.014398</td>\n",
       "    </tr>\n",
       "    <tr>\n",
       "      <th>2</th>\n",
       "      <td>Robert</td>\n",
       "      <td>M</td>\n",
       "      <td>4970386</td>\n",
       "      <td>0.013603</td>\n",
       "    </tr>\n",
       "    <tr>\n",
       "      <th>3</th>\n",
       "      <td>Michael</td>\n",
       "      <td>M</td>\n",
       "      <td>4579950</td>\n",
       "      <td>0.012534</td>\n",
       "    </tr>\n",
       "    <tr>\n",
       "      <th>4</th>\n",
       "      <td>William</td>\n",
       "      <td>M</td>\n",
       "      <td>4226608</td>\n",
       "      <td>0.011567</td>\n",
       "    </tr>\n",
       "  </tbody>\n",
       "</table>\n",
       "</div>"
      ],
      "text/plain": [
       "      Name Gender    Count  Probability\n",
       "0    James      M  5304407     0.014517\n",
       "1     John      M  5260831     0.014398\n",
       "2   Robert      M  4970386     0.013603\n",
       "3  Michael      M  4579950     0.012534\n",
       "4  William      M  4226608     0.011567"
      ]
     },
     "execution_count": 2,
     "metadata": {},
     "output_type": "execute_result"
    }
   ],
   "source": [
    "train = pd.read_csv(\"name_gender_dataset.csv\")\n",
    "print(train.shape)\n",
    "train.head()\n"
   ]
  },
  {
   "cell_type": "code",
   "execution_count": 3,
   "metadata": {},
   "outputs": [
    {
     "data": {
      "text/html": [
       "<div>\n",
       "<style scoped>\n",
       "    .dataframe tbody tr th:only-of-type {\n",
       "        vertical-align: middle;\n",
       "    }\n",
       "\n",
       "    .dataframe tbody tr th {\n",
       "        vertical-align: top;\n",
       "    }\n",
       "\n",
       "    .dataframe thead th {\n",
       "        text-align: right;\n",
       "    }\n",
       "</style>\n",
       "<table border=\"1\" class=\"dataframe\">\n",
       "  <thead>\n",
       "    <tr style=\"text-align: right;\">\n",
       "      <th></th>\n",
       "      <th>Name</th>\n",
       "      <th>Count</th>\n",
       "      <th>Probability</th>\n",
       "    </tr>\n",
       "    <tr>\n",
       "      <th>Gender</th>\n",
       "      <th></th>\n",
       "      <th></th>\n",
       "      <th></th>\n",
       "    </tr>\n",
       "  </thead>\n",
       "  <tbody>\n",
       "    <tr>\n",
       "      <th>F</th>\n",
       "      <td>89749</td>\n",
       "      <td>89749</td>\n",
       "      <td>89749</td>\n",
       "    </tr>\n",
       "    <tr>\n",
       "      <th>M</th>\n",
       "      <td>57520</td>\n",
       "      <td>57520</td>\n",
       "      <td>57520</td>\n",
       "    </tr>\n",
       "  </tbody>\n",
       "</table>\n",
       "</div>"
      ],
      "text/plain": [
       "         Name  Count  Probability\n",
       "Gender                           \n",
       "F       89749  89749        89749\n",
       "M       57520  57520        57520"
      ]
     },
     "execution_count": 3,
     "metadata": {},
     "output_type": "execute_result"
    }
   ],
   "source": [
    "train_count = train.groupby(by='Gender').count()\n",
    "train_count"
   ]
  },
  {
   "cell_type": "code",
   "execution_count": 4,
   "metadata": {},
   "outputs": [
    {
     "name": "stdout",
     "output_type": "stream",
     "text": [
      "(147269, 2)\n"
     ]
    },
    {
     "name": "stderr",
     "output_type": "stream",
     "text": [
      "/Library/Frameworks/Python.framework/Versions/3.8/lib/python3.8/site-packages/pandas/core/generic.py:5159: SettingWithCopyWarning: \n",
      "A value is trying to be set on a copy of a slice from a DataFrame.\n",
      "Try using .loc[row_indexer,col_indexer] = value instead\n",
      "\n",
      "See the caveats in the documentation: https://pandas.pydata.org/pandas-docs/stable/user_guide/indexing.html#returning-a-view-versus-a-copy\n",
      "  self[name] = value\n"
     ]
    },
    {
     "data": {
      "text/html": [
       "<div>\n",
       "<style scoped>\n",
       "    .dataframe tbody tr th:only-of-type {\n",
       "        vertical-align: middle;\n",
       "    }\n",
       "\n",
       "    .dataframe tbody tr th {\n",
       "        vertical-align: top;\n",
       "    }\n",
       "\n",
       "    .dataframe thead th {\n",
       "        text-align: right;\n",
       "    }\n",
       "</style>\n",
       "<table border=\"1\" class=\"dataframe\">\n",
       "  <thead>\n",
       "    <tr style=\"text-align: right;\">\n",
       "      <th></th>\n",
       "      <th>Name</th>\n",
       "      <th>Gender</th>\n",
       "    </tr>\n",
       "  </thead>\n",
       "  <tbody>\n",
       "    <tr>\n",
       "      <th>0</th>\n",
       "      <td>james</td>\n",
       "      <td>1</td>\n",
       "    </tr>\n",
       "    <tr>\n",
       "      <th>1</th>\n",
       "      <td>john</td>\n",
       "      <td>1</td>\n",
       "    </tr>\n",
       "    <tr>\n",
       "      <th>2</th>\n",
       "      <td>robert</td>\n",
       "      <td>1</td>\n",
       "    </tr>\n",
       "    <tr>\n",
       "      <th>3</th>\n",
       "      <td>michael</td>\n",
       "      <td>1</td>\n",
       "    </tr>\n",
       "    <tr>\n",
       "      <th>4</th>\n",
       "      <td>william</td>\n",
       "      <td>1</td>\n",
       "    </tr>\n",
       "  </tbody>\n",
       "</table>\n",
       "</div>"
      ],
      "text/plain": [
       "      Name  Gender\n",
       "0    james       1\n",
       "1     john       1\n",
       "2   robert       1\n",
       "3  michael       1\n",
       "4  william       1"
      ]
     },
     "execution_count": 4,
     "metadata": {},
     "output_type": "execute_result"
    }
   ],
   "source": [
    "# Male: 1 Female: 0\n",
    "train_use = train[['Name', 'Gender']]\n",
    "train_use.Gender = train_use.Gender.apply(lambda x: 1 if x == \"M\" else 0)\n",
    "train_use.Name = train_use.Name.str.lower()\n",
    "print(train_use.shape)\n",
    "train_use.head()"
   ]
  },
  {
   "cell_type": "code",
   "execution_count": 5,
   "metadata": {},
   "outputs": [
    {
     "data": {
      "text/plain": [
       "Name      0\n",
       "Gender    0\n",
       "dtype: int64"
      ]
     },
     "execution_count": 5,
     "metadata": {},
     "output_type": "execute_result"
    }
   ],
   "source": [
    "# Check missing values\n",
    "\n",
    "train_use.isnull().sum()"
   ]
  },
  {
   "cell_type": "code",
   "execution_count": 6,
   "metadata": {},
   "outputs": [
    {
     "data": {
      "text/plain": [
       "array([1, 0])"
      ]
     },
     "execution_count": 6,
     "metadata": {},
     "output_type": "execute_result"
    }
   ],
   "source": [
    "train_use.Gender.unique()"
   ]
  },
  {
   "cell_type": "code",
   "execution_count": 7,
   "metadata": {},
   "outputs": [
    {
     "data": {
      "text/plain": [
       "0           james\n",
       "1            john\n",
       "2          robert\n",
       "3         michael\n",
       "4         william\n",
       "           ...   \n",
       "147264     zylenn\n",
       "147265     zymeon\n",
       "147266     zyndel\n",
       "147267     zyshan\n",
       "147268      zyton\n",
       "Name: Name, Length: 147269, dtype: object"
      ]
     },
     "execution_count": 7,
     "metadata": {},
     "output_type": "execute_result"
    }
   ],
   "source": [
    "X_feature = train_use.Name\n",
    "X_feature"
   ]
  },
  {
   "cell_type": "code",
   "execution_count": 8,
   "metadata": {},
   "outputs": [
    {
     "data": {
      "text/plain": [
       "0         1\n",
       "1         1\n",
       "2         1\n",
       "3         1\n",
       "4         1\n",
       "         ..\n",
       "147264    1\n",
       "147265    1\n",
       "147266    1\n",
       "147267    1\n",
       "147268    1\n",
       "Name: Gender, Length: 147269, dtype: int64"
      ]
     },
     "execution_count": 8,
     "metadata": {},
     "output_type": "execute_result"
    }
   ],
   "source": [
    "y_label = train_use.Gender\n",
    "y_label"
   ]
  },
  {
   "cell_type": "markdown",
   "metadata": {},
   "source": [
    "# Feature Extraction"
   ]
  },
  {
   "cell_type": "code",
   "execution_count": 9,
   "metadata": {},
   "outputs": [
    {
     "data": {
      "text/plain": [
       "<147269x126918 sparse matrix of type '<class 'numpy.int64'>'\n",
       "\twith 154775 stored elements in Compressed Sparse Row format>"
      ]
     },
     "execution_count": 9,
     "metadata": {},
     "output_type": "execute_result"
    }
   ],
   "source": [
    "cv = CountVectorizer()\n",
    "X_matrix = cv.fit_transform(X_feature)\n",
    "\n",
    "X_matrix"
   ]
  },
  {
   "cell_type": "code",
   "execution_count": 10,
   "metadata": {},
   "outputs": [],
   "source": [
    "# tfidf = TfidfTransformer()\n",
    "# X_matrix_tfidf = tfidf.fit_transform(X_matrix)\n",
    "# X_matrix_tfidf"
   ]
  },
  {
   "cell_type": "markdown",
   "metadata": {},
   "source": [
    "# Train Test Split"
   ]
  },
  {
   "cell_type": "code",
   "execution_count": 11,
   "metadata": {},
   "outputs": [],
   "source": [
    "X_train, X_test, y_train, y_test = train_test_split(X_matrix, y_label, test_size=0.5, random_state=10)\n"
   ]
  },
  {
   "cell_type": "code",
   "execution_count": 12,
   "metadata": {},
   "outputs": [
    {
     "data": {
      "text/plain": [
       "<73634x126918 sparse matrix of type '<class 'numpy.int64'>'\n",
       "\twith 77360 stored elements in Compressed Sparse Row format>"
      ]
     },
     "execution_count": 12,
     "metadata": {},
     "output_type": "execute_result"
    }
   ],
   "source": [
    "X_train"
   ]
  },
  {
   "cell_type": "code",
   "execution_count": 13,
   "metadata": {},
   "outputs": [
    {
     "data": {
      "text/plain": [
       "<73635x126918 sparse matrix of type '<class 'numpy.int64'>'\n",
       "\twith 77415 stored elements in Compressed Sparse Row format>"
      ]
     },
     "execution_count": 13,
     "metadata": {},
     "output_type": "execute_result"
    }
   ],
   "source": [
    "X_test"
   ]
  },
  {
   "cell_type": "code",
   "execution_count": 14,
   "metadata": {},
   "outputs": [
    {
     "data": {
      "text/plain": [
       "51709     1\n",
       "4226      0\n",
       "71132     0\n",
       "15726     0\n",
       "18440     1\n",
       "         ..\n",
       "9372      0\n",
       "105595    1\n",
       "93553     0\n",
       "94735     1\n",
       "83209     1\n",
       "Name: Gender, Length: 73634, dtype: int64"
      ]
     },
     "execution_count": 14,
     "metadata": {},
     "output_type": "execute_result"
    }
   ],
   "source": [
    "y_train"
   ]
  },
  {
   "cell_type": "code",
   "execution_count": 15,
   "metadata": {
    "scrolled": false
   },
   "outputs": [
    {
     "data": {
      "text/plain": [
       "94055     0\n",
       "96922     0\n",
       "21172     1\n",
       "83469     1\n",
       "91171     0\n",
       "         ..\n",
       "6931      1\n",
       "104064    0\n",
       "105074    0\n",
       "17545     0\n",
       "52976     0\n",
       "Name: Gender, Length: 73635, dtype: int64"
      ]
     },
     "execution_count": 15,
     "metadata": {},
     "output_type": "execute_result"
    }
   ],
   "source": [
    "y_test"
   ]
  },
  {
   "cell_type": "markdown",
   "metadata": {},
   "source": [
    "# Model Training"
   ]
  },
  {
   "cell_type": "markdown",
   "metadata": {},
   "source": [
    "**Multinomial NB**"
   ]
  },
  {
   "cell_type": "code",
   "execution_count": 16,
   "metadata": {},
   "outputs": [
    {
     "data": {
      "text/plain": [
       "MultinomialNB()"
      ]
     },
     "execution_count": 16,
     "metadata": {},
     "output_type": "execute_result"
    }
   ],
   "source": [
    "clf1 = MultinomialNB()\n",
    "clf1.fit(X_train, y_train)"
   ]
  },
  {
   "cell_type": "code",
   "execution_count": 17,
   "metadata": {},
   "outputs": [],
   "source": [
    "y_pred1 = clf1.predict(X_test)"
   ]
  },
  {
   "cell_type": "code",
   "execution_count": 18,
   "metadata": {},
   "outputs": [
    {
     "name": "stdout",
     "output_type": "stream",
     "text": [
      "Accuracy of Model on training sets:  94.71847244479451 %\n",
      "Accuracy of Model on testing sets:  58.00638283425001 %\n",
      "RMSE on testing set = 0.41993617165749986\n"
     ]
    }
   ],
   "source": [
    "# Accuracy of model\n",
    "print(\"Accuracy of Model on training sets: \", clf1.score(X_train, y_train)*100, \"%\")\n",
    "print(\"Accuracy of Model on testing sets: \", clf1.score(X_test, y_test)*100, \"%\")\n",
    "print(\"RMSE on testing set =\", mean_squared_error(y_test, y_pred1))"
   ]
  },
  {
   "cell_type": "markdown",
   "metadata": {},
   "source": [
    "**Bernoulli NB**"
   ]
  },
  {
   "cell_type": "code",
   "execution_count": 19,
   "metadata": {},
   "outputs": [
    {
     "data": {
      "text/plain": [
       "BernoulliNB()"
      ]
     },
     "execution_count": 19,
     "metadata": {},
     "output_type": "execute_result"
    }
   ],
   "source": [
    "clf2 = BernoulliNB()\n",
    "clf2.fit(X_train, y_train)"
   ]
  },
  {
   "cell_type": "code",
   "execution_count": 20,
   "metadata": {},
   "outputs": [],
   "source": [
    "y_pred2 = clf2.predict(X_test)"
   ]
  },
  {
   "cell_type": "code",
   "execution_count": 21,
   "metadata": {},
   "outputs": [
    {
     "name": "stdout",
     "output_type": "stream",
     "text": [
      "Accuracy of Model on training sets:  61.817910204525084 %\n",
      "Accuracy of Model on testing sets:  61.64324030691927 %\n",
      "RMSE on testing set = 0.3835675969308074\n"
     ]
    }
   ],
   "source": [
    "# Accuracy of model\n",
    "print(\"Accuracy of Model on training sets: \", clf2.score(X_train, y_train)*100, \"%\")\n",
    "print(\"Accuracy of Model on testing sets: \", clf2.score(X_test, y_test)*100, \"%\")\n",
    "print(\"RMSE on testing set =\", mean_squared_error(y_test, y_pred2))"
   ]
  },
  {
   "cell_type": "markdown",
   "metadata": {},
   "source": [
    "**Random Forest**"
   ]
  },
  {
   "cell_type": "code",
   "execution_count": 22,
   "metadata": {},
   "outputs": [
    {
     "data": {
      "text/plain": [
       "SGDClassifier()"
      ]
     },
     "execution_count": 22,
     "metadata": {},
     "output_type": "execute_result"
    }
   ],
   "source": [
    "clf3 = SGDClassifier()\n",
    "clf3.fit(X_train, y_train)"
   ]
  },
  {
   "cell_type": "code",
   "execution_count": 23,
   "metadata": {},
   "outputs": [],
   "source": [
    "y_pred3 = clf3.predict(X_test)"
   ]
  },
  {
   "cell_type": "code",
   "execution_count": 24,
   "metadata": {},
   "outputs": [
    {
     "name": "stdout",
     "output_type": "stream",
     "text": [
      "Accuracy of Model on training sets:  61.3643153977782 %\n",
      "Accuracy of Model on testing sets:  61.43817478101447 %\n",
      "RMSE on testing set = 0.38561825218985535\n"
     ]
    }
   ],
   "source": [
    "# Accuracy of model\n",
    "print(\"Accuracy of Model on training sets: \", clf3.score(X_train, y_train)*100, \"%\")\n",
    "print(\"Accuracy of Model on testing sets: \", clf3.score(X_test, y_test)*100, \"%\")\n",
    "print(\"RMSE on testing set =\", mean_squared_error(y_test, y_pred3))"
   ]
  },
  {
   "cell_type": "markdown",
   "metadata": {},
   "source": [
    "# Sample Prediction"
   ]
  },
  {
   "cell_type": "code",
   "execution_count": 25,
   "metadata": {},
   "outputs": [
    {
     "data": {
      "text/plain": [
       "array([0, 1, 1, 1, 0, 1, 1, 1, 1, 1])"
      ]
     },
     "execution_count": 25,
     "metadata": {},
     "output_type": "execute_result"
    }
   ],
   "source": [
    "sample1 = [\"HAMSA\", \"STEVEN\", \"PETER\", \"RICHARD\", \"KERRI\", \"LUCA\", \"ZACHARY\", \"EDWARD\", \"DAVID\", \"OLIVIER\"]\n",
    "gender1 = np.array([0, 1, 1, 1, 0, 1, 1, 1, 1, 1])\n",
    "gender1"
   ]
  },
  {
   "cell_type": "code",
   "execution_count": 26,
   "metadata": {},
   "outputs": [
    {
     "name": "stdout",
     "output_type": "stream",
     "text": [
      "true: [0 1 1 1 0 1 1 1 1 1]\n",
      "-----------------\n",
      "clf1: [1 1 1 1 0 1 1 1 1 1]\n",
      "clf2: [0 0 1 0 0 0 0 1 1 0]\n",
      "clf3: [0 0 1 0 0 0 0 0 1 0]\n"
     ]
    }
   ],
   "source": [
    "vect1 = cv.transform(sample1).toarray()\n",
    "print(\"true:\", gender1)\n",
    "print(\"-----------------\")\n",
    "print(\"clf1:\", clf1.predict(vect1))\n",
    "print(\"clf2:\", clf2.predict(vect1))\n",
    "print(\"clf3:\", clf3.predict(vect1))"
   ]
  },
  {
   "cell_type": "code",
   "execution_count": 27,
   "metadata": {},
   "outputs": [
    {
     "data": {
      "text/plain": [
       "array([1, 0, 1, 0, 1, 1, 1, 1, 1, 1])"
      ]
     },
     "execution_count": 27,
     "metadata": {},
     "output_type": "execute_result"
    }
   ],
   "source": [
    "sample2 = [\"MARK\", \"CHUCHU\", \"EDWARD\", \"CARMEN\", \"ROBERT\", \"ROBERT\", \"WESLEY\", \"DANIEL\", \"JEFFREY\", \"JONATHAN\"]\n",
    "gender2 = np.array([1, 0, 1, 0, 1, 1, 1, 1, 1, 1])\n",
    "gender2"
   ]
  },
  {
   "cell_type": "code",
   "execution_count": 28,
   "metadata": {},
   "outputs": [
    {
     "name": "stdout",
     "output_type": "stream",
     "text": [
      "true: [1 0 1 0 1 1 1 1 1 1]\n",
      "-----------------\n",
      "clf1: [1 0 1 0 1 1 1 1 1 1]\n",
      "clf2: [1 0 1 0 0 0 0 1 0 0]\n",
      "clf3: [1 0 0 0 1 1 0 1 0 0]\n"
     ]
    }
   ],
   "source": [
    "vect2 = cv.transform(sample2).toarray()\n",
    "print(\"true:\", gender2)\n",
    "print(\"-----------------\")\n",
    "print(\"clf1:\", clf1.predict(vect2))\n",
    "print(\"clf2:\", clf2.predict(vect2))\n",
    "print(\"clf3:\", clf3.predict(vect2))"
   ]
  },
  {
   "cell_type": "markdown",
   "metadata": {},
   "source": [
    "As a result of looking at scores and RMSE, also performing 2 sample predictions, we fould that clf1 has the best performance."
   ]
  },
  {
   "cell_type": "markdown",
   "metadata": {},
   "source": [
    "# Prediction on DataSet"
   ]
  },
  {
   "cell_type": "code",
   "execution_count": 35,
   "metadata": {},
   "outputs": [
    {
     "name": "stdout",
     "output_type": "stream",
     "text": [
      "(749, 11)\n"
     ]
    },
    {
     "data": {
      "text/html": [
       "<div>\n",
       "<style scoped>\n",
       "    .dataframe tbody tr th:only-of-type {\n",
       "        vertical-align: middle;\n",
       "    }\n",
       "\n",
       "    .dataframe tbody tr th {\n",
       "        vertical-align: top;\n",
       "    }\n",
       "\n",
       "    .dataframe thead th {\n",
       "        text-align: right;\n",
       "    }\n",
       "</style>\n",
       "<table border=\"1\" class=\"dataframe\">\n",
       "  <thead>\n",
       "    <tr style=\"text-align: right;\">\n",
       "      <th></th>\n",
       "      <th>Id</th>\n",
       "      <th>Name</th>\n",
       "      <th>LastName</th>\n",
       "      <th>FirstName</th>\n",
       "      <th>RankName</th>\n",
       "      <th>Department</th>\n",
       "      <th>TotalArticleCount</th>\n",
       "      <th>TotalConfProcCount</th>\n",
       "      <th>TotalGrantCount</th>\n",
       "      <th>TotalPatentCount</th>\n",
       "      <th>TotalCourseCount</th>\n",
       "    </tr>\n",
       "  </thead>\n",
       "  <tbody>\n",
       "    <tr>\n",
       "      <th>0</th>\n",
       "      <td>1485</td>\n",
       "      <td>BALAKRISHNAN, HAMSA</td>\n",
       "      <td>BALAKRISHNAN</td>\n",
       "      <td>HAMSA</td>\n",
       "      <td>Professor</td>\n",
       "      <td>Aeronautics and Astronautics</td>\n",
       "      <td>46</td>\n",
       "      <td>63</td>\n",
       "      <td>15</td>\n",
       "      <td>1</td>\n",
       "      <td>2</td>\n",
       "    </tr>\n",
       "    <tr>\n",
       "      <th>1</th>\n",
       "      <td>2030</td>\n",
       "      <td>BARRETT, STEVEN R. H</td>\n",
       "      <td>BARRETT</td>\n",
       "      <td>STEVEN</td>\n",
       "      <td>Associate</td>\n",
       "      <td>Aeronautics and Astronautics</td>\n",
       "      <td>87</td>\n",
       "      <td>7</td>\n",
       "      <td>11</td>\n",
       "      <td>1</td>\n",
       "      <td>2</td>\n",
       "    </tr>\n",
       "    <tr>\n",
       "      <th>2</th>\n",
       "      <td>2190</td>\n",
       "      <td>BELOBABA, PETER P</td>\n",
       "      <td>BELOBABA</td>\n",
       "      <td>PETER</td>\n",
       "      <td>Other</td>\n",
       "      <td>Aeronautics and Astronautics</td>\n",
       "      <td>24</td>\n",
       "      <td>2</td>\n",
       "      <td>0</td>\n",
       "      <td>0</td>\n",
       "      <td>2</td>\n",
       "    </tr>\n",
       "    <tr>\n",
       "      <th>3</th>\n",
       "      <td>2695</td>\n",
       "      <td>BINZEL, RICHARD P</td>\n",
       "      <td>BINZEL</td>\n",
       "      <td>RICHARD</td>\n",
       "      <td>Professor</td>\n",
       "      <td>Aeronautics and Astronautics</td>\n",
       "      <td>163</td>\n",
       "      <td>13</td>\n",
       "      <td>23</td>\n",
       "      <td>0</td>\n",
       "      <td>2</td>\n",
       "    </tr>\n",
       "    <tr>\n",
       "      <th>4</th>\n",
       "      <td>4030</td>\n",
       "      <td>CAHOY, KERRI</td>\n",
       "      <td>CAHOY</td>\n",
       "      <td>KERRI</td>\n",
       "      <td>Associate</td>\n",
       "      <td>Aeronautics and Astronautics</td>\n",
       "      <td>47</td>\n",
       "      <td>72</td>\n",
       "      <td>45</td>\n",
       "      <td>8</td>\n",
       "      <td>3</td>\n",
       "    </tr>\n",
       "  </tbody>\n",
       "</table>\n",
       "</div>"
      ],
      "text/plain": [
       "     Id                  Name      LastName FirstName   RankName  \\\n",
       "0  1485   BALAKRISHNAN, HAMSA  BALAKRISHNAN     HAMSA  Professor   \n",
       "1  2030  BARRETT, STEVEN R. H       BARRETT    STEVEN  Associate   \n",
       "2  2190     BELOBABA, PETER P      BELOBABA     PETER      Other   \n",
       "3  2695     BINZEL, RICHARD P        BINZEL   RICHARD  Professor   \n",
       "4  4030          CAHOY, KERRI         CAHOY     KERRI  Associate   \n",
       "\n",
       "                     Department  TotalArticleCount  TotalConfProcCount  \\\n",
       "0  Aeronautics and Astronautics                 46                  63   \n",
       "1  Aeronautics and Astronautics                 87                   7   \n",
       "2  Aeronautics and Astronautics                 24                   2   \n",
       "3  Aeronautics and Astronautics                163                  13   \n",
       "4  Aeronautics and Astronautics                 47                  72   \n",
       "\n",
       "   TotalGrantCount  TotalPatentCount  TotalCourseCount  \n",
       "0               15                 1                 2  \n",
       "1               11                 1                 2  \n",
       "2                0                 0                 2  \n",
       "3               23                 0                 2  \n",
       "4               45                 8                 3  "
      ]
     },
     "execution_count": 35,
     "metadata": {},
     "output_type": "execute_result"
    }
   ],
   "source": [
    "faculties = pd.read_csv(\"merged.csv\")\n",
    "print(faculties.shape)\n",
    "faculties.head()"
   ]
  },
  {
   "cell_type": "code",
   "execution_count": 30,
   "metadata": {},
   "outputs": [
    {
     "data": {
      "text/html": [
       "<div>\n",
       "<style scoped>\n",
       "    .dataframe tbody tr th:only-of-type {\n",
       "        vertical-align: middle;\n",
       "    }\n",
       "\n",
       "    .dataframe tbody tr th {\n",
       "        vertical-align: top;\n",
       "    }\n",
       "\n",
       "    .dataframe thead th {\n",
       "        text-align: right;\n",
       "    }\n",
       "</style>\n",
       "<table border=\"1\" class=\"dataframe\">\n",
       "  <thead>\n",
       "    <tr style=\"text-align: right;\">\n",
       "      <th></th>\n",
       "      <th>FirstName</th>\n",
       "    </tr>\n",
       "  </thead>\n",
       "  <tbody>\n",
       "    <tr>\n",
       "      <th>0</th>\n",
       "      <td>HAMSA</td>\n",
       "    </tr>\n",
       "    <tr>\n",
       "      <th>1</th>\n",
       "      <td>STEVEN</td>\n",
       "    </tr>\n",
       "  </tbody>\n",
       "</table>\n",
       "</div>"
      ],
      "text/plain": [
       "  FirstName\n",
       "0     HAMSA\n",
       "1    STEVEN"
      ]
     },
     "execution_count": 30,
     "metadata": {},
     "output_type": "execute_result"
    }
   ],
   "source": [
    "first_name = faculties[['FirstName']]\n",
    "first_name.head(2)"
   ]
  },
  {
   "cell_type": "code",
   "execution_count": 31,
   "metadata": {},
   "outputs": [
    {
     "data": {
      "text/html": [
       "<div>\n",
       "<style scoped>\n",
       "    .dataframe tbody tr th:only-of-type {\n",
       "        vertical-align: middle;\n",
       "    }\n",
       "\n",
       "    .dataframe tbody tr th {\n",
       "        vertical-align: top;\n",
       "    }\n",
       "\n",
       "    .dataframe thead th {\n",
       "        text-align: right;\n",
       "    }\n",
       "</style>\n",
       "<table border=\"1\" class=\"dataframe\">\n",
       "  <thead>\n",
       "    <tr style=\"text-align: right;\">\n",
       "      <th></th>\n",
       "      <th>Gender_idx</th>\n",
       "      <th>Gender</th>\n",
       "    </tr>\n",
       "  </thead>\n",
       "  <tbody>\n",
       "    <tr>\n",
       "      <th>0</th>\n",
       "      <td>1</td>\n",
       "      <td>Male</td>\n",
       "    </tr>\n",
       "    <tr>\n",
       "      <th>1</th>\n",
       "      <td>1</td>\n",
       "      <td>Male</td>\n",
       "    </tr>\n",
       "    <tr>\n",
       "      <th>2</th>\n",
       "      <td>1</td>\n",
       "      <td>Male</td>\n",
       "    </tr>\n",
       "    <tr>\n",
       "      <th>3</th>\n",
       "      <td>1</td>\n",
       "      <td>Male</td>\n",
       "    </tr>\n",
       "    <tr>\n",
       "      <th>4</th>\n",
       "      <td>0</td>\n",
       "      <td>Female</td>\n",
       "    </tr>\n",
       "  </tbody>\n",
       "</table>\n",
       "</div>"
      ],
      "text/plain": [
       "   Gender_idx  Gender\n",
       "0           1    Male\n",
       "1           1    Male\n",
       "2           1    Male\n",
       "3           1    Male\n",
       "4           0  Female"
      ]
     },
     "execution_count": 31,
     "metadata": {},
     "output_type": "execute_result"
    }
   ],
   "source": [
    "vect = cv.transform(first_name.FirstName).toarray()\n",
    "\n",
    "predict = pd.DataFrame(data=clf1.predict(vect), columns=['Gender_idx'])\n",
    "predict['Gender'] = predict.Gender_idx.apply(lambda x: \"Female\" if x == 0 else \"Male\")\n",
    "predict.head()"
   ]
  },
  {
   "cell_type": "code",
   "execution_count": 32,
   "metadata": {},
   "outputs": [
    {
     "name": "stdout",
     "output_type": "stream",
     "text": [
      "(749, 2)\n"
     ]
    },
    {
     "name": "stderr",
     "output_type": "stream",
     "text": [
      "<ipython-input-32-7b7903d2f781>:1: SettingWithCopyWarning: \n",
      "A value is trying to be set on a copy of a slice from a DataFrame.\n",
      "Try using .loc[row_indexer,col_indexer] = value instead\n",
      "\n",
      "See the caveats in the documentation: https://pandas.pydata.org/pandas-docs/stable/user_guide/indexing.html#returning-a-view-versus-a-copy\n",
      "  first_name['Gender'] = predict.Gender\n"
     ]
    },
    {
     "data": {
      "text/html": [
       "<div>\n",
       "<style scoped>\n",
       "    .dataframe tbody tr th:only-of-type {\n",
       "        vertical-align: middle;\n",
       "    }\n",
       "\n",
       "    .dataframe tbody tr th {\n",
       "        vertical-align: top;\n",
       "    }\n",
       "\n",
       "    .dataframe thead th {\n",
       "        text-align: right;\n",
       "    }\n",
       "</style>\n",
       "<table border=\"1\" class=\"dataframe\">\n",
       "  <thead>\n",
       "    <tr style=\"text-align: right;\">\n",
       "      <th></th>\n",
       "      <th>FirstName</th>\n",
       "      <th>Gender</th>\n",
       "    </tr>\n",
       "  </thead>\n",
       "  <tbody>\n",
       "    <tr>\n",
       "      <th>0</th>\n",
       "      <td>HAMSA</td>\n",
       "      <td>Male</td>\n",
       "    </tr>\n",
       "    <tr>\n",
       "      <th>1</th>\n",
       "      <td>STEVEN</td>\n",
       "      <td>Male</td>\n",
       "    </tr>\n",
       "    <tr>\n",
       "      <th>2</th>\n",
       "      <td>PETER</td>\n",
       "      <td>Male</td>\n",
       "    </tr>\n",
       "    <tr>\n",
       "      <th>3</th>\n",
       "      <td>RICHARD</td>\n",
       "      <td>Male</td>\n",
       "    </tr>\n",
       "    <tr>\n",
       "      <th>4</th>\n",
       "      <td>KERRI</td>\n",
       "      <td>Female</td>\n",
       "    </tr>\n",
       "  </tbody>\n",
       "</table>\n",
       "</div>"
      ],
      "text/plain": [
       "  FirstName  Gender\n",
       "0     HAMSA    Male\n",
       "1    STEVEN    Male\n",
       "2     PETER    Male\n",
       "3   RICHARD    Male\n",
       "4     KERRI  Female"
      ]
     },
     "execution_count": 32,
     "metadata": {},
     "output_type": "execute_result"
    }
   ],
   "source": [
    "first_name['Gender'] = predict.Gender\n",
    "print(first_name.shape)\n",
    "first_name.head()"
   ]
  },
  {
   "cell_type": "code",
   "execution_count": 36,
   "metadata": {},
   "outputs": [
    {
     "data": {
      "text/html": [
       "<div>\n",
       "<style scoped>\n",
       "    .dataframe tbody tr th:only-of-type {\n",
       "        vertical-align: middle;\n",
       "    }\n",
       "\n",
       "    .dataframe tbody tr th {\n",
       "        vertical-align: top;\n",
       "    }\n",
       "\n",
       "    .dataframe thead th {\n",
       "        text-align: right;\n",
       "    }\n",
       "</style>\n",
       "<table border=\"1\" class=\"dataframe\">\n",
       "  <thead>\n",
       "    <tr style=\"text-align: right;\">\n",
       "      <th></th>\n",
       "      <th>Id</th>\n",
       "      <th>Name</th>\n",
       "      <th>LastName</th>\n",
       "      <th>FirstName</th>\n",
       "      <th>Gender</th>\n",
       "      <th>RankName</th>\n",
       "      <th>Department</th>\n",
       "      <th>TotalArticleCount</th>\n",
       "      <th>TotalConfProcCount</th>\n",
       "      <th>TotalGrantCount</th>\n",
       "      <th>TotalPatentCount</th>\n",
       "      <th>TotalCourseCount</th>\n",
       "    </tr>\n",
       "  </thead>\n",
       "  <tbody>\n",
       "    <tr>\n",
       "      <th>0</th>\n",
       "      <td>1485</td>\n",
       "      <td>BALAKRISHNAN, HAMSA</td>\n",
       "      <td>BALAKRISHNAN</td>\n",
       "      <td>HAMSA</td>\n",
       "      <td>Male</td>\n",
       "      <td>Professor</td>\n",
       "      <td>Aeronautics and Astronautics</td>\n",
       "      <td>46</td>\n",
       "      <td>63</td>\n",
       "      <td>15</td>\n",
       "      <td>1</td>\n",
       "      <td>2</td>\n",
       "    </tr>\n",
       "    <tr>\n",
       "      <th>1</th>\n",
       "      <td>2030</td>\n",
       "      <td>BARRETT, STEVEN R. H</td>\n",
       "      <td>BARRETT</td>\n",
       "      <td>STEVEN</td>\n",
       "      <td>Male</td>\n",
       "      <td>Associate</td>\n",
       "      <td>Aeronautics and Astronautics</td>\n",
       "      <td>87</td>\n",
       "      <td>7</td>\n",
       "      <td>11</td>\n",
       "      <td>1</td>\n",
       "      <td>2</td>\n",
       "    </tr>\n",
       "    <tr>\n",
       "      <th>2</th>\n",
       "      <td>2190</td>\n",
       "      <td>BELOBABA, PETER P</td>\n",
       "      <td>BELOBABA</td>\n",
       "      <td>PETER</td>\n",
       "      <td>Male</td>\n",
       "      <td>Other</td>\n",
       "      <td>Aeronautics and Astronautics</td>\n",
       "      <td>24</td>\n",
       "      <td>2</td>\n",
       "      <td>0</td>\n",
       "      <td>0</td>\n",
       "      <td>2</td>\n",
       "    </tr>\n",
       "    <tr>\n",
       "      <th>3</th>\n",
       "      <td>2695</td>\n",
       "      <td>BINZEL, RICHARD P</td>\n",
       "      <td>BINZEL</td>\n",
       "      <td>RICHARD</td>\n",
       "      <td>Male</td>\n",
       "      <td>Professor</td>\n",
       "      <td>Aeronautics and Astronautics</td>\n",
       "      <td>163</td>\n",
       "      <td>13</td>\n",
       "      <td>23</td>\n",
       "      <td>0</td>\n",
       "      <td>2</td>\n",
       "    </tr>\n",
       "    <tr>\n",
       "      <th>4</th>\n",
       "      <td>4030</td>\n",
       "      <td>CAHOY, KERRI</td>\n",
       "      <td>CAHOY</td>\n",
       "      <td>KERRI</td>\n",
       "      <td>Female</td>\n",
       "      <td>Associate</td>\n",
       "      <td>Aeronautics and Astronautics</td>\n",
       "      <td>47</td>\n",
       "      <td>72</td>\n",
       "      <td>45</td>\n",
       "      <td>8</td>\n",
       "      <td>3</td>\n",
       "    </tr>\n",
       "  </tbody>\n",
       "</table>\n",
       "</div>"
      ],
      "text/plain": [
       "     Id                  Name      LastName FirstName  Gender   RankName  \\\n",
       "0  1485   BALAKRISHNAN, HAMSA  BALAKRISHNAN     HAMSA    Male  Professor   \n",
       "1  2030  BARRETT, STEVEN R. H       BARRETT    STEVEN    Male  Associate   \n",
       "2  2190     BELOBABA, PETER P      BELOBABA     PETER    Male      Other   \n",
       "3  2695     BINZEL, RICHARD P        BINZEL   RICHARD    Male  Professor   \n",
       "4  4030          CAHOY, KERRI         CAHOY     KERRI  Female  Associate   \n",
       "\n",
       "                     Department  TotalArticleCount  TotalConfProcCount  \\\n",
       "0  Aeronautics and Astronautics                 46                  63   \n",
       "1  Aeronautics and Astronautics                 87                   7   \n",
       "2  Aeronautics and Astronautics                 24                   2   \n",
       "3  Aeronautics and Astronautics                163                  13   \n",
       "4  Aeronautics and Astronautics                 47                  72   \n",
       "\n",
       "   TotalGrantCount  TotalPatentCount  TotalCourseCount  \n",
       "0               15                 1                 2  \n",
       "1               11                 1                 2  \n",
       "2                0                 0                 2  \n",
       "3               23                 0                 2  \n",
       "4               45                 8                 3  "
      ]
     },
     "execution_count": 36,
     "metadata": {},
     "output_type": "execute_result"
    }
   ],
   "source": [
    "faculties.insert(4, \"Gender\", first_name.Gender)\n",
    "faculties.head()"
   ]
  },
  {
   "cell_type": "code",
   "execution_count": 37,
   "metadata": {},
   "outputs": [],
   "source": [
    "faculties.to_csv(\"faculties_with_gender.csv\", index=False)"
   ]
  },
  {
   "cell_type": "code",
   "execution_count": null,
   "metadata": {},
   "outputs": [],
   "source": []
  }
 ],
 "metadata": {
  "kernelspec": {
   "display_name": "Python 3",
   "language": "python",
   "name": "python3"
  },
  "language_info": {
   "codemirror_mode": {
    "name": "ipython",
    "version": 3
   },
   "file_extension": ".py",
   "mimetype": "text/x-python",
   "name": "python",
   "nbconvert_exporter": "python",
   "pygments_lexer": "ipython3",
   "version": "3.8.4"
  }
 },
 "nbformat": 4,
 "nbformat_minor": 1
}
