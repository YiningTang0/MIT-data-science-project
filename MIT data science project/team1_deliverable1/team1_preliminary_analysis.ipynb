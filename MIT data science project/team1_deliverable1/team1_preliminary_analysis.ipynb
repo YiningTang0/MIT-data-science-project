{
 "cells": [
  {
   "attachments": {},
   "cell_type": "markdown",
   "metadata": {},
   "source": [
    "# Introduction\n",
    "In this preliminary analysis, we are going to explore the data, and get the shape of the data by different groups, and finally briefly answer the first analysis question.\n",
    "\n",
    "We are going to first explore the dataset that we have, get an initial idea of how our dataset looks like. For the **Initial Exploration** part, we plan to see data in 3 ways:\n",
    "\n",
    "1. Data visualization of all faculties we have in number of articles, conference proceedings, grants, and patents by gender;\n",
    "2. Data visualization of number of articles, conference proceedings, grants, and patents between departments;\n",
    "3. Data visualization of faculties in number of articles, conference proceedings, grants, and patents from different departments by gender."
   ]
  },
  {
   "cell_type": "markdown",
   "metadata": {},
   "source": [
    "**Data & Package Loading**"
   ]
  },
  {
   "cell_type": "code",
   "execution_count": 20,
   "metadata": {},
   "outputs": [],
   "source": [
    "import pandas as pd\n",
    "import seaborn as sns\n",
    "import matplotlib.pyplot as plt\n",
    "%matplotlib inline\n",
    "import re\n",
    "import string\n",
    "from nltk import word_tokenize\n",
    "from nltk.stem import WordNetLemmatizer\n",
    "from sklearn.feature_extraction.text import TfidfVectorizer\n",
    "from sklearn.feature_extraction.text import CountVectorizer\n",
    "from collections import Counter\n",
    "from pylab import *\n",
    "import nltk\n",
    "import warnings\n",
    "warnings.filterwarnings(\"ignore\")"
   ]
  },
  {
   "cell_type": "code",
   "execution_count": 5,
   "metadata": {},
   "outputs": [],
   "source": [
    "data = pd.read_csv(\"./data/faculties_with_gender.csv\")"
   ]
  },
  {
   "cell_type": "markdown",
   "metadata": {},
   "source": [
    "# Initial Exploration"
   ]
  },
  {
   "cell_type": "markdown",
   "metadata": {},
   "source": [
    "### 1. By gender"
   ]
  },
  {
   "cell_type": "markdown",
   "metadata": {},
   "source": [
    "**Dataset Gender Check**"
   ]
  },
  {
   "cell_type": "code",
   "execution_count": 22,
   "metadata": {},
   "outputs": [
    {
     "data": {
      "text/plain": [
       "array(['Male', 'Female'], dtype=object)"
      ]
     },
     "execution_count": 22,
     "metadata": {},
     "output_type": "execute_result"
    }
   ],
   "source": [
    "type = data['Gender'].unique()\n",
    "\n",
    "type"
   ]
  },
  {
   "cell_type": "code",
   "execution_count": 68,
   "metadata": {},
   "outputs": [
    {
     "data": {
      "text/plain": [
       "Text(0.5, 1.0, 'Gender distribution of whole dataset')"
      ]
     },
     "execution_count": 68,
     "metadata": {},
     "output_type": "execute_result"
    },
    {
     "data": {
      "image/png": "[encoded data removed]",
      "text/plain": [
       "<Figure size 432x288 with 1 Axes>"
      ]
     },
     "metadata": {
      "needs_background": "light"
     },
     "output_type": "display_data"
    }
   ],
   "source": [
    "x= data['Gender'].value_counts()\n",
    "sns.barplot(x.index,x).set_title(\"Gender distribution of whole dataset\")"
   ]
  },
  {
   "cell_type": "code",
   "execution_count": 26,
   "metadata": {},
   "outputs": [
    {
     "data": {
      "text/plain": [
       "Professor    428\n",
       "Other        123\n",
       "Associate    115\n",
       "Assistant     83\n",
       "Name: RankName, dtype: int64"
      ]
     },
     "execution_count": 26,
     "metadata": {},
     "output_type": "execute_result"
    }
   ],
   "source": [
    "y= data['RankName'].value_counts()\n",
    "y"
   ]
  },
  {
   "cell_type": "code",
   "execution_count": 69,
   "metadata": {},
   "outputs": [
    {
     "data": {
      "text/plain": [
       "Text(0.5, 1.0, 'Rank distribution of whole dataset')"
      ]
     },
     "execution_count": 69,
     "metadata": {},
     "output_type": "execute_result"
    },
    {
     "data": {
      "image/png": "[encoded data removed]",
      "text/plain": [
       "<Figure size 432x288 with 1 Axes>"
      ]
     },
     "metadata": {
      "needs_background": "light"
     },
     "output_type": "display_data"
    }
   ],
   "source": [
    "sns.barplot(y.index,y).set_title(\"Rank distribution of whole dataset\")"
   ]
  },
  {
   "cell_type": "code",
   "execution_count": 29,
   "metadata": {},
   "outputs": [
    {
     "data": {
      "text/html": [
       "<div>\n",
       "<style scoped>\n",
       "    .dataframe tbody tr th:only-of-type {\n",
       "        vertical-align: middle;\n",
       "    }\n",
       "\n",
       "    .dataframe tbody tr th {\n",
       "        vertical-align: top;\n",
       "    }\n",
       "\n",
       "    .dataframe thead tr th {\n",
       "        text-align: left;\n",
       "    }\n",
       "\n",
       "    .dataframe thead tr:last-of-type th {\n",
       "        text-align: right;\n",
       "    }\n",
       "</style>\n",
       "<table border=\"1\" class=\"dataframe\">\n",
       "  <thead>\n",
       "    <tr>\n",
       "      <th></th>\n",
       "      <th colspan=\"8\" halign=\"left\">Id</th>\n",
       "      <th colspan=\"2\" halign=\"left\">TotalArticleCount</th>\n",
       "      <th>...</th>\n",
       "      <th colspan=\"2\" halign=\"left\">TotalPatentCount</th>\n",
       "      <th colspan=\"8\" halign=\"left\">TotalCourseCount</th>\n",
       "    </tr>\n",
       "    <tr>\n",
       "      <th></th>\n",
       "      <th>count</th>\n",
       "      <th>mean</th>\n",
       "      <th>std</th>\n",
       "      <th>min</th>\n",
       "      <th>25%</th>\n",
       "      <th>50%</th>\n",
       "      <th>75%</th>\n",
       "      <th>max</th>\n",
       "      <th>count</th>\n",
       "      <th>mean</th>\n",
       "      <th>...</th>\n",
       "      <th>75%</th>\n",
       "      <th>max</th>\n",
       "      <th>count</th>\n",
       "      <th>mean</th>\n",
       "      <th>std</th>\n",
       "      <th>min</th>\n",
       "      <th>25%</th>\n",
       "      <th>50%</th>\n",
       "      <th>75%</th>\n",
       "      <th>max</th>\n",
       "    </tr>\n",
       "    <tr>\n",
       "      <th>Gender</th>\n",
       "      <th></th>\n",
       "      <th></th>\n",
       "      <th></th>\n",
       "      <th></th>\n",
       "      <th></th>\n",
       "      <th></th>\n",
       "      <th></th>\n",
       "      <th></th>\n",
       "      <th></th>\n",
       "      <th></th>\n",
       "      <th></th>\n",
       "      <th></th>\n",
       "      <th></th>\n",
       "      <th></th>\n",
       "      <th></th>\n",
       "      <th></th>\n",
       "      <th></th>\n",
       "      <th></th>\n",
       "      <th></th>\n",
       "      <th></th>\n",
       "      <th></th>\n",
       "    </tr>\n",
       "  </thead>\n",
       "  <tbody>\n",
       "    <tr>\n",
       "      <th>Female</th>\n",
       "      <td>356.0</td>\n",
       "      <td>7667.570225</td>\n",
       "      <td>7013.276378</td>\n",
       "      <td>1015.0</td>\n",
       "      <td>2706.25</td>\n",
       "      <td>4805.0</td>\n",
       "      <td>9682.5</td>\n",
       "      <td>24180.0</td>\n",
       "      <td>356.0</td>\n",
       "      <td>119.320225</td>\n",
       "      <td>...</td>\n",
       "      <td>8.0</td>\n",
       "      <td>181.0</td>\n",
       "      <td>356.0</td>\n",
       "      <td>1.564607</td>\n",
       "      <td>1.275461</td>\n",
       "      <td>0.0</td>\n",
       "      <td>0.0</td>\n",
       "      <td>2.0</td>\n",
       "      <td>2.0</td>\n",
       "      <td>6.0</td>\n",
       "    </tr>\n",
       "    <tr>\n",
       "      <th>Male</th>\n",
       "      <td>393.0</td>\n",
       "      <td>6464.134860</td>\n",
       "      <td>6426.345231</td>\n",
       "      <td>1010.0</td>\n",
       "      <td>2220.00</td>\n",
       "      <td>3945.0</td>\n",
       "      <td>7110.0</td>\n",
       "      <td>24205.0</td>\n",
       "      <td>393.0</td>\n",
       "      <td>125.664122</td>\n",
       "      <td>...</td>\n",
       "      <td>10.0</td>\n",
       "      <td>332.0</td>\n",
       "      <td>393.0</td>\n",
       "      <td>1.664122</td>\n",
       "      <td>1.561384</td>\n",
       "      <td>0.0</td>\n",
       "      <td>0.0</td>\n",
       "      <td>2.0</td>\n",
       "      <td>2.0</td>\n",
       "      <td>13.0</td>\n",
       "    </tr>\n",
       "  </tbody>\n",
       "</table>\n",
       "<p>2 rows × 48 columns</p>\n",
       "</div>"
      ],
      "text/plain": [
       "           Id                                                             \\\n",
       "        count         mean          std     min      25%     50%     75%   \n",
       "Gender                                                                     \n",
       "Female  356.0  7667.570225  7013.276378  1015.0  2706.25  4805.0  9682.5   \n",
       "Male    393.0  6464.134860  6426.345231  1010.0  2220.00  3945.0  7110.0   \n",
       "\n",
       "                TotalArticleCount              ... TotalPatentCount         \\\n",
       "            max             count        mean  ...              75%    max   \n",
       "Gender                                         ...                           \n",
       "Female  24180.0             356.0  119.320225  ...              8.0  181.0   \n",
       "Male    24205.0             393.0  125.664122  ...             10.0  332.0   \n",
       "\n",
       "       TotalCourseCount                                                \n",
       "                  count      mean       std  min  25%  50%  75%   max  \n",
       "Gender                                                                 \n",
       "Female            356.0  1.564607  1.275461  0.0  0.0  2.0  2.0   6.0  \n",
       "Male              393.0  1.664122  1.561384  0.0  0.0  2.0  2.0  13.0  \n",
       "\n",
       "[2 rows x 48 columns]"
      ]
     },
     "execution_count": 29,
     "metadata": {},
     "output_type": "execute_result"
    }
   ],
   "source": [
    "data.groupby('Gender').describe()"
   ]
  },
  {
   "cell_type": "markdown",
   "metadata": {},
   "source": [
    "**Patent Distribution**"
   ]
  },
  {
   "cell_type": "code",
   "execution_count": 30,
   "metadata": {},
   "outputs": [
    {
     "data": {
      "text/plain": [
       "Gender\n",
       "Female    3086\n",
       "Male      5019\n",
       "Name: TotalPatentCount, dtype: int64"
      ]
     },
     "execution_count": 30,
     "metadata": {},
     "output_type": "execute_result"
    }
   ],
   "source": [
    "df_Patent_count = data.groupby('Gender')['TotalPatentCount'].sum()\n",
    "df_Patent_count"
   ]
  },
  {
   "cell_type": "code",
   "execution_count": 70,
   "metadata": {},
   "outputs": [
    {
     "data": {
      "text/plain": [
       "Text(0.5, 1.0, 'Gender Distribution of Patent')"
      ]
     },
     "execution_count": 70,
     "metadata": {},
     "output_type": "execute_result"
    },
    {
     "data": {
      "image/png": "[encoded data removed]",
      "text/plain": [
       "<Figure size 432x288 with 1 Axes>"
      ]
     },
     "metadata": {
      "needs_background": "light"
     },
     "output_type": "display_data"
    }
   ],
   "source": [
    "sns.barplot(df_Patent_count.index,df_Patent_count).set_title(\"Gender Distribution of Patent\")"
   ]
  },
  {
   "cell_type": "markdown",
   "metadata": {},
   "source": [
    "**Article Distribution**"
   ]
  },
  {
   "cell_type": "code",
   "execution_count": 32,
   "metadata": {},
   "outputs": [
    {
     "data": {
      "text/plain": [
       "Gender\n",
       "Female    42478\n",
       "Male      49386\n",
       "Name: TotalArticleCount, dtype: int64"
      ]
     },
     "execution_count": 32,
     "metadata": {},
     "output_type": "execute_result"
    }
   ],
   "source": [
    "df_Article_count = data.groupby('Gender')['TotalArticleCount'].sum()\n",
    "df_Article_count"
   ]
  },
  {
   "cell_type": "code",
   "execution_count": 71,
   "metadata": {
    "scrolled": true
   },
   "outputs": [
    {
     "data": {
      "text/plain": [
       "Text(0.5, 1.0, 'Gender Distribution of Article')"
      ]
     },
     "execution_count": 71,
     "metadata": {},
     "output_type": "execute_result"
    },
    {
     "data": {
      "image/png": "[encoded data removed]",
      "text/plain": [
       "<Figure size 432x288 with 1 Axes>"
      ]
     },
     "metadata": {
      "needs_background": "light"
     },
     "output_type": "display_data"
    }
   ],
   "source": [
    "sns.barplot(df_Article_count.index,df_Article_count).set_title(\"Gender Distribution of Article\")"
   ]
  },
  {
   "cell_type": "markdown",
   "metadata": {},
   "source": [
    "**Conference Proceeding Distribution**"
   ]
  },
  {
   "cell_type": "code",
   "execution_count": 34,
   "metadata": {},
   "outputs": [
    {
     "data": {
      "text/plain": [
       "Gender\n",
       "Female     9086\n",
       "Male      10999\n",
       "Name: TotalConfProcCount, dtype: int64"
      ]
     },
     "execution_count": 34,
     "metadata": {},
     "output_type": "execute_result"
    }
   ],
   "source": [
    "df_Conf_count = data.groupby('Gender')['TotalConfProcCount'].sum()\n",
    "df_Conf_count"
   ]
  },
  {
   "cell_type": "code",
   "execution_count": 72,
   "metadata": {},
   "outputs": [
    {
     "data": {
      "text/plain": [
       "Text(0.5, 1.0, 'Gender Distribution of Conference Proceeding')"
      ]
     },
     "execution_count": 72,
     "metadata": {},
     "output_type": "execute_result"
    },
    {
     "data": {
      "image/png": "[encoded data removed]",
      "text/plain": [
       "<Figure size 432x288 with 1 Axes>"
      ]
     },
     "metadata": {
      "needs_background": "light"
     },
     "output_type": "display_data"
    }
   ],
   "source": [
    "sns.barplot(df_Conf_count.index,df_Conf_count).set_title(\"Gender Distribution of Conference Proceeding\")"
   ]
  },
  {
   "cell_type": "markdown",
   "metadata": {},
   "source": [
    "**Grant Distribution**"
   ]
  },
  {
   "cell_type": "code",
   "execution_count": 36,
   "metadata": {},
   "outputs": [
    {
     "data": {
      "text/plain": [
       "Gender\n",
       "Female    4676\n",
       "Male      6102\n",
       "Name: TotalGrantCount, dtype: int64"
      ]
     },
     "execution_count": 36,
     "metadata": {},
     "output_type": "execute_result"
    }
   ],
   "source": [
    "df_Grant_count = data.groupby('Gender')['TotalGrantCount'].sum()\n",
    "df_Grant_count"
   ]
  },
  {
   "cell_type": "code",
   "execution_count": 73,
   "metadata": {},
   "outputs": [
    {
     "data": {
      "text/plain": [
       "Text(0.5, 1.0, 'Gender Distribution on Grant')"
      ]
     },
     "execution_count": 73,
     "metadata": {},
     "output_type": "execute_result"
    },
    {
     "data": {
      "image/png": "[encoded data removed]",
      "text/plain": [
       "<Figure size 432x288 with 1 Axes>"
      ]
     },
     "metadata": {
      "needs_background": "light"
     },
     "output_type": "display_data"
    }
   ],
   "source": [
    "sns.barplot(df_Grant_count.index,df_Grant_count).set_title(\"Gender Distribution on Grant\")"
   ]
  },
  {
   "cell_type": "code",
   "execution_count": 39,
   "metadata": {},
   "outputs": [
    {
     "data": {
      "text/html": [
       "<div>\n",
       "<style scoped>\n",
       "    .dataframe tbody tr th:only-of-type {\n",
       "        vertical-align: middle;\n",
       "    }\n",
       "\n",
       "    .dataframe tbody tr th {\n",
       "        vertical-align: top;\n",
       "    }\n",
       "\n",
       "    .dataframe thead th {\n",
       "        text-align: right;\n",
       "    }\n",
       "</style>\n",
       "<table border=\"1\" class=\"dataframe\">\n",
       "  <thead>\n",
       "    <tr style=\"text-align: right;\">\n",
       "      <th></th>\n",
       "      <th>Gender</th>\n",
       "      <th>Patent_amount</th>\n",
       "    </tr>\n",
       "  </thead>\n",
       "  <tbody>\n",
       "    <tr>\n",
       "      <th>0</th>\n",
       "      <td>Female</td>\n",
       "      <td>3086</td>\n",
       "    </tr>\n",
       "    <tr>\n",
       "      <th>1</th>\n",
       "      <td>Male</td>\n",
       "      <td>5019</td>\n",
       "    </tr>\n",
       "  </tbody>\n",
       "</table>\n",
       "</div>"
      ],
      "text/plain": [
       "   Gender  Patent_amount\n",
       "0  Female           3086\n",
       "1    Male           5019"
      ]
     },
     "execution_count": 39,
     "metadata": {},
     "output_type": "execute_result"
    }
   ],
   "source": [
    "gender_patent=data.groupby(\"Gender\").agg({\"TotalPatentCount\":\"sum\"}).reset_index().rename(columns={\"TotalPatentCount\":\"Patent_amount\"})\n",
    "gender_patent"
   ]
  },
  {
   "cell_type": "code",
   "execution_count": 41,
   "metadata": {},
   "outputs": [
    {
     "data": {
      "text/html": [
       "<div>\n",
       "<style scoped>\n",
       "    .dataframe tbody tr th:only-of-type {\n",
       "        vertical-align: middle;\n",
       "    }\n",
       "\n",
       "    .dataframe tbody tr th {\n",
       "        vertical-align: top;\n",
       "    }\n",
       "\n",
       "    .dataframe thead tr th {\n",
       "        text-align: left;\n",
       "    }\n",
       "\n",
       "    .dataframe thead tr:last-of-type th {\n",
       "        text-align: right;\n",
       "    }\n",
       "</style>\n",
       "<table border=\"1\" class=\"dataframe\">\n",
       "  <thead>\n",
       "    <tr>\n",
       "      <th></th>\n",
       "      <th></th>\n",
       "      <th colspan=\"3\" halign=\"left\">TotalArticleCount</th>\n",
       "      <th colspan=\"3\" halign=\"left\">TotalConfProcCount</th>\n",
       "      <th colspan=\"3\" halign=\"left\">TotalGrantCount</th>\n",
       "      <th colspan=\"3\" halign=\"left\">TotalCourseCount</th>\n",
       "    </tr>\n",
       "    <tr>\n",
       "      <th></th>\n",
       "      <th></th>\n",
       "      <th>sum</th>\n",
       "      <th>mean</th>\n",
       "      <th>std</th>\n",
       "      <th>sum</th>\n",
       "      <th>mean</th>\n",
       "      <th>std</th>\n",
       "      <th>sum</th>\n",
       "      <th>mean</th>\n",
       "      <th>std</th>\n",
       "      <th>sum</th>\n",
       "      <th>mean</th>\n",
       "      <th>std</th>\n",
       "    </tr>\n",
       "    <tr>\n",
       "      <th>Gender</th>\n",
       "      <th>TotalPatentCount</th>\n",
       "      <th></th>\n",
       "      <th></th>\n",
       "      <th></th>\n",
       "      <th></th>\n",
       "      <th></th>\n",
       "      <th></th>\n",
       "      <th></th>\n",
       "      <th></th>\n",
       "      <th></th>\n",
       "      <th></th>\n",
       "      <th></th>\n",
       "      <th></th>\n",
       "    </tr>\n",
       "  </thead>\n",
       "  <tbody>\n",
       "    <tr>\n",
       "      <th rowspan=\"5\" valign=\"top\">Female</th>\n",
       "      <th>0</th>\n",
       "      <td>16935</td>\n",
       "      <td>120.964286</td>\n",
       "      <td>202.488170</td>\n",
       "      <td>1522</td>\n",
       "      <td>10.871429</td>\n",
       "      <td>17.503070</td>\n",
       "      <td>1226</td>\n",
       "      <td>8.757143</td>\n",
       "      <td>10.799595</td>\n",
       "      <td>185</td>\n",
       "      <td>1.321429</td>\n",
       "      <td>1.145952</td>\n",
       "    </tr>\n",
       "    <tr>\n",
       "      <th>1</th>\n",
       "      <td>3596</td>\n",
       "      <td>92.205128</td>\n",
       "      <td>72.986365</td>\n",
       "      <td>718</td>\n",
       "      <td>18.410256</td>\n",
       "      <td>22.707196</td>\n",
       "      <td>601</td>\n",
       "      <td>15.410256</td>\n",
       "      <td>12.912087</td>\n",
       "      <td>61</td>\n",
       "      <td>1.564103</td>\n",
       "      <td>1.410391</td>\n",
       "    </tr>\n",
       "    <tr>\n",
       "      <th>2</th>\n",
       "      <td>1481</td>\n",
       "      <td>52.892857</td>\n",
       "      <td>39.606714</td>\n",
       "      <td>487</td>\n",
       "      <td>17.392857</td>\n",
       "      <td>32.579634</td>\n",
       "      <td>258</td>\n",
       "      <td>9.214286</td>\n",
       "      <td>7.955232</td>\n",
       "      <td>39</td>\n",
       "      <td>1.392857</td>\n",
       "      <td>1.474205</td>\n",
       "    </tr>\n",
       "    <tr>\n",
       "      <th>3</th>\n",
       "      <td>974</td>\n",
       "      <td>88.545455</td>\n",
       "      <td>43.644848</td>\n",
       "      <td>210</td>\n",
       "      <td>19.090909</td>\n",
       "      <td>27.057179</td>\n",
       "      <td>156</td>\n",
       "      <td>14.181818</td>\n",
       "      <td>9.357544</td>\n",
       "      <td>19</td>\n",
       "      <td>1.727273</td>\n",
       "      <td>1.348400</td>\n",
       "    </tr>\n",
       "    <tr>\n",
       "      <th>4</th>\n",
       "      <td>564</td>\n",
       "      <td>62.666667</td>\n",
       "      <td>23.510636</td>\n",
       "      <td>117</td>\n",
       "      <td>13.000000</td>\n",
       "      <td>28.683619</td>\n",
       "      <td>94</td>\n",
       "      <td>10.444444</td>\n",
       "      <td>8.917835</td>\n",
       "      <td>16</td>\n",
       "      <td>1.777778</td>\n",
       "      <td>1.201850</td>\n",
       "    </tr>\n",
       "    <tr>\n",
       "      <th>...</th>\n",
       "      <th>...</th>\n",
       "      <td>...</td>\n",
       "      <td>...</td>\n",
       "      <td>...</td>\n",
       "      <td>...</td>\n",
       "      <td>...</td>\n",
       "      <td>...</td>\n",
       "      <td>...</td>\n",
       "      <td>...</td>\n",
       "      <td>...</td>\n",
       "      <td>...</td>\n",
       "      <td>...</td>\n",
       "      <td>...</td>\n",
       "    </tr>\n",
       "    <tr>\n",
       "      <th rowspan=\"5\" valign=\"top\">Male</th>\n",
       "      <th>105</th>\n",
       "      <td>527</td>\n",
       "      <td>527.000000</td>\n",
       "      <td>NaN</td>\n",
       "      <td>3</td>\n",
       "      <td>3.000000</td>\n",
       "      <td>NaN</td>\n",
       "      <td>10</td>\n",
       "      <td>10.000000</td>\n",
       "      <td>NaN</td>\n",
       "      <td>4</td>\n",
       "      <td>4.000000</td>\n",
       "      <td>NaN</td>\n",
       "    </tr>\n",
       "    <tr>\n",
       "      <th>125</th>\n",
       "      <td>171</td>\n",
       "      <td>171.000000</td>\n",
       "      <td>NaN</td>\n",
       "      <td>55</td>\n",
       "      <td>55.000000</td>\n",
       "      <td>NaN</td>\n",
       "      <td>29</td>\n",
       "      <td>29.000000</td>\n",
       "      <td>NaN</td>\n",
       "      <td>2</td>\n",
       "      <td>2.000000</td>\n",
       "      <td>NaN</td>\n",
       "    </tr>\n",
       "    <tr>\n",
       "      <th>153</th>\n",
       "      <td>609</td>\n",
       "      <td>609.000000</td>\n",
       "      <td>NaN</td>\n",
       "      <td>21</td>\n",
       "      <td>21.000000</td>\n",
       "      <td>NaN</td>\n",
       "      <td>0</td>\n",
       "      <td>0.000000</td>\n",
       "      <td>NaN</td>\n",
       "      <td>1</td>\n",
       "      <td>1.000000</td>\n",
       "      <td>NaN</td>\n",
       "    </tr>\n",
       "    <tr>\n",
       "      <th>165</th>\n",
       "      <td>114</td>\n",
       "      <td>114.000000</td>\n",
       "      <td>NaN</td>\n",
       "      <td>5</td>\n",
       "      <td>5.000000</td>\n",
       "      <td>NaN</td>\n",
       "      <td>11</td>\n",
       "      <td>11.000000</td>\n",
       "      <td>NaN</td>\n",
       "      <td>2</td>\n",
       "      <td>2.000000</td>\n",
       "      <td>NaN</td>\n",
       "    </tr>\n",
       "    <tr>\n",
       "      <th>332</th>\n",
       "      <td>2925</td>\n",
       "      <td>975.000000</td>\n",
       "      <td>0.000000</td>\n",
       "      <td>78</td>\n",
       "      <td>26.000000</td>\n",
       "      <td>0.000000</td>\n",
       "      <td>276</td>\n",
       "      <td>92.000000</td>\n",
       "      <td>0.000000</td>\n",
       "      <td>6</td>\n",
       "      <td>2.000000</td>\n",
       "      <td>0.000000</td>\n",
       "    </tr>\n",
       "  </tbody>\n",
       "</table>\n",
       "<p>110 rows × 12 columns</p>\n",
       "</div>"
      ],
      "text/plain": [
       "                        TotalArticleCount                          \\\n",
       "                                      sum        mean         std   \n",
       "Gender TotalPatentCount                                             \n",
       "Female 0                            16935  120.964286  202.488170   \n",
       "       1                             3596   92.205128   72.986365   \n",
       "       2                             1481   52.892857   39.606714   \n",
       "       3                              974   88.545455   43.644848   \n",
       "       4                              564   62.666667   23.510636   \n",
       "...                                   ...         ...         ...   \n",
       "Male   105                            527  527.000000         NaN   \n",
       "       125                            171  171.000000         NaN   \n",
       "       153                            609  609.000000         NaN   \n",
       "       165                            114  114.000000         NaN   \n",
       "       332                           2925  975.000000    0.000000   \n",
       "\n",
       "                        TotalConfProcCount                        \\\n",
       "                                       sum       mean        std   \n",
       "Gender TotalPatentCount                                            \n",
       "Female 0                              1522  10.871429  17.503070   \n",
       "       1                               718  18.410256  22.707196   \n",
       "       2                               487  17.392857  32.579634   \n",
       "       3                               210  19.090909  27.057179   \n",
       "       4                               117  13.000000  28.683619   \n",
       "...                                    ...        ...        ...   \n",
       "Male   105                               3   3.000000        NaN   \n",
       "       125                              55  55.000000        NaN   \n",
       "       153                              21  21.000000        NaN   \n",
       "       165                               5   5.000000        NaN   \n",
       "       332                              78  26.000000   0.000000   \n",
       "\n",
       "                        TotalGrantCount                        \\\n",
       "                                    sum       mean        std   \n",
       "Gender TotalPatentCount                                         \n",
       "Female 0                           1226   8.757143  10.799595   \n",
       "       1                            601  15.410256  12.912087   \n",
       "       2                            258   9.214286   7.955232   \n",
       "       3                            156  14.181818   9.357544   \n",
       "       4                             94  10.444444   8.917835   \n",
       "...                                 ...        ...        ...   \n",
       "Male   105                           10  10.000000        NaN   \n",
       "       125                           29  29.000000        NaN   \n",
       "       153                            0   0.000000        NaN   \n",
       "       165                           11  11.000000        NaN   \n",
       "       332                          276  92.000000   0.000000   \n",
       "\n",
       "                        TotalCourseCount                      \n",
       "                                     sum      mean       std  \n",
       "Gender TotalPatentCount                                       \n",
       "Female 0                             185  1.321429  1.145952  \n",
       "       1                              61  1.564103  1.410391  \n",
       "       2                              39  1.392857  1.474205  \n",
       "       3                              19  1.727273  1.348400  \n",
       "       4                              16  1.777778  1.201850  \n",
       "...                                  ...       ...       ...  \n",
       "Male   105                             4  4.000000       NaN  \n",
       "       125                             2  2.000000       NaN  \n",
       "       153                             1  1.000000       NaN  \n",
       "       165                             2  2.000000       NaN  \n",
       "       332                             6  2.000000  0.000000  \n",
       "\n",
       "[110 rows x 12 columns]"
      ]
     },
     "execution_count": 41,
     "metadata": {},
     "output_type": "execute_result"
    }
   ],
   "source": [
    "l = data\n",
    "l = l.drop(columns = [\"Id\"])\n",
    "l.groupby( [\"Gender\",\"TotalPatentCount\"]).agg([np.sum, np.mean, np.std])"
   ]
  },
  {
   "cell_type": "markdown",
   "metadata": {},
   "source": [
    "This part we group the data we have by gender and the number of patents. We can check if there are certain connections between the number of patent and the number of other attributes (e.g. article number, course number, etc)"
   ]
  },
  {
   "cell_type": "code",
   "execution_count": 75,
   "metadata": {},
   "outputs": [
    {
     "data": {
      "text/html": [
       "<div>\n",
       "<style scoped>\n",
       "    .dataframe tbody tr th:only-of-type {\n",
       "        vertical-align: middle;\n",
       "    }\n",
       "\n",
       "    .dataframe tbody tr th {\n",
       "        vertical-align: top;\n",
       "    }\n",
       "\n",
       "    .dataframe thead th {\n",
       "        text-align: right;\n",
       "    }\n",
       "</style>\n",
       "<table border=\"1\" class=\"dataframe\">\n",
       "  <thead>\n",
       "    <tr style=\"text-align: right;\">\n",
       "      <th></th>\n",
       "      <th></th>\n",
       "      <th>Department</th>\n",
       "      <th>TotalArticleCount</th>\n",
       "      <th>TotalConfProcCount</th>\n",
       "      <th>TotalGrantCount</th>\n",
       "      <th>TotalPatentCount</th>\n",
       "      <th>TotalCourseCount</th>\n",
       "    </tr>\n",
       "    <tr>\n",
       "      <th>Gender</th>\n",
       "      <th>RankName</th>\n",
       "      <th></th>\n",
       "      <th></th>\n",
       "      <th></th>\n",
       "      <th></th>\n",
       "      <th></th>\n",
       "      <th></th>\n",
       "    </tr>\n",
       "  </thead>\n",
       "  <tbody>\n",
       "    <tr>\n",
       "      <th rowspan=\"4\" valign=\"top\">Female</th>\n",
       "      <th>Assistant</th>\n",
       "      <td>49</td>\n",
       "      <td>49</td>\n",
       "      <td>49</td>\n",
       "      <td>49</td>\n",
       "      <td>49</td>\n",
       "      <td>49</td>\n",
       "    </tr>\n",
       "    <tr>\n",
       "      <th>Associate</th>\n",
       "      <td>56</td>\n",
       "      <td>56</td>\n",
       "      <td>56</td>\n",
       "      <td>56</td>\n",
       "      <td>56</td>\n",
       "      <td>56</td>\n",
       "    </tr>\n",
       "    <tr>\n",
       "      <th>Other</th>\n",
       "      <td>53</td>\n",
       "      <td>53</td>\n",
       "      <td>53</td>\n",
       "      <td>53</td>\n",
       "      <td>53</td>\n",
       "      <td>53</td>\n",
       "    </tr>\n",
       "    <tr>\n",
       "      <th>Professor</th>\n",
       "      <td>198</td>\n",
       "      <td>198</td>\n",
       "      <td>198</td>\n",
       "      <td>198</td>\n",
       "      <td>198</td>\n",
       "      <td>198</td>\n",
       "    </tr>\n",
       "    <tr>\n",
       "      <th rowspan=\"4\" valign=\"top\">Male</th>\n",
       "      <th>Assistant</th>\n",
       "      <td>34</td>\n",
       "      <td>34</td>\n",
       "      <td>34</td>\n",
       "      <td>34</td>\n",
       "      <td>34</td>\n",
       "      <td>34</td>\n",
       "    </tr>\n",
       "    <tr>\n",
       "      <th>Associate</th>\n",
       "      <td>59</td>\n",
       "      <td>59</td>\n",
       "      <td>59</td>\n",
       "      <td>59</td>\n",
       "      <td>59</td>\n",
       "      <td>59</td>\n",
       "    </tr>\n",
       "    <tr>\n",
       "      <th>Other</th>\n",
       "      <td>70</td>\n",
       "      <td>70</td>\n",
       "      <td>70</td>\n",
       "      <td>70</td>\n",
       "      <td>70</td>\n",
       "      <td>70</td>\n",
       "    </tr>\n",
       "    <tr>\n",
       "      <th>Professor</th>\n",
       "      <td>230</td>\n",
       "      <td>230</td>\n",
       "      <td>230</td>\n",
       "      <td>230</td>\n",
       "      <td>230</td>\n",
       "      <td>230</td>\n",
       "    </tr>\n",
       "  </tbody>\n",
       "</table>\n",
       "</div>"
      ],
      "text/plain": [
       "                  Department  TotalArticleCount  TotalConfProcCount  \\\n",
       "Gender RankName                                                       \n",
       "Female Assistant          49                 49                  49   \n",
       "       Associate          56                 56                  56   \n",
       "       Other              53                 53                  53   \n",
       "       Professor         198                198                 198   \n",
       "Male   Assistant          34                 34                  34   \n",
       "       Associate          59                 59                  59   \n",
       "       Other              70                 70                  70   \n",
       "       Professor         230                230                 230   \n",
       "\n",
       "                  TotalGrantCount  TotalPatentCount  TotalCourseCount  \n",
       "Gender RankName                                                        \n",
       "Female Assistant               49                49                49  \n",
       "       Associate               56                56                56  \n",
       "       Other                   53                53                53  \n",
       "       Professor              198               198               198  \n",
       "Male   Assistant               34                34                34  \n",
       "       Associate               59                59                59  \n",
       "       Other                   70                70                70  \n",
       "       Professor              230               230               230  "
      ]
     },
     "execution_count": 75,
     "metadata": {},
     "output_type": "execute_result"
    }
   ],
   "source": [
    "z = data\n",
    "z = z.drop(columns = [\"Id\",\"Name\",\"FirstName\",\"LastName\"])\n",
    "z= z.groupby(['Gender','RankName']).count()\n",
    "z"
   ]
  },
  {
   "cell_type": "markdown",
   "metadata": {},
   "source": [
    "Based on different genders, we check if rankname affect the number of total patents, articles, courses, conferences those staff have."
   ]
  },
  {
   "cell_type": "markdown",
   "metadata": {},
   "source": [
    "### 2. Between departments"
   ]
  },
  {
   "cell_type": "markdown",
   "metadata": {},
   "source": [
    "**All departments**"
   ]
  },
  {
   "cell_type": "code",
   "execution_count": 8,
   "metadata": {},
   "outputs": [
    {
     "name": "stdout",
     "output_type": "stream",
     "text": [
      "All the departments (faculties with gender) in the data:\n",
      "Aeronautics and Astronautics\n",
      "Physics\n",
      "Media Arts and Sciences\n",
      "Biological Engineering\n",
      "Mechanical Engineering\n",
      "Materials Science and Engineering\n",
      "Biology\n",
      "Chemical Engineering\n",
      "Chemistry\n",
      "Electrical Engineering and Computer Sciences\n",
      "Nuclear Science and Engineering\n",
      "Civil and Environmental Engineering\n",
      "Brain and Cognitive Sciences\n",
      "There are 13 departments in total in our dataset.\n"
     ]
    }
   ],
   "source": [
    "dlist = data['Department'].unique()\n",
    "print(\"All the departments (faculties with gender) in the data:\")\n",
    "for a in dlist:\n",
    "    print(a)\n",
    "print(\"There are\", len(dlist), \"departments in total in our dataset.\")"
   ]
  },
  {
   "cell_type": "markdown",
   "metadata": {},
   "source": [
    "**Number of departments in data**"
   ]
  },
  {
   "cell_type": "code",
   "execution_count": 10,
   "metadata": {},
   "outputs": [
    {
     "name": "stdout",
     "output_type": "stream",
     "text": [
      "Number of professors in each department:\n",
      "Physics                                         100\n",
      "Electrical Engineering and Computer Sciences    100\n",
      "Mechanical Engineering                           99\n",
      "Biology                                          71\n",
      "Brain and Cognitive Sciences                     53\n",
      "Aeronautics and Astronautics                     51\n",
      "Materials Science and Engineering                47\n",
      "Chemistry                                        42\n",
      "Biological Engineering                           42\n",
      "Chemical Engineering                             41\n",
      "Civil and Environmental Engineering              39\n",
      "Nuclear Science and Engineering                  35\n",
      "Media Arts and Sciences                          29\n",
      "Name: Department, dtype: int64\n"
     ]
    }
   ],
   "source": [
    "dinfo = data['Department'].value_counts()\n",
    "print(\"Number of professors in each department:\")\n",
    "print(dinfo)"
   ]
  },
  {
   "cell_type": "markdown",
   "metadata": {},
   "source": [
    "Professors in \"Science\" fields appear more frequenltly in the dataset."
   ]
  },
  {
   "cell_type": "markdown",
   "metadata": {},
   "source": [
    "**Article Count**"
   ]
  },
  {
   "cell_type": "code",
   "execution_count": 16,
   "metadata": {},
   "outputs": [
    {
     "name": "stdout",
     "output_type": "stream",
     "text": [
      "Department\n",
      "Aeronautics and Astronautics                     2790\n",
      "Biological Engineering                           6487\n",
      "Biology                                          8891\n",
      "Brain and Cognitive Sciences                     5372\n",
      "Chemical Engineering                             7205\n",
      "Chemistry                                        6208\n",
      "Civil and Environmental Engineering              3346\n",
      "Electrical Engineering and Computer Sciences     8808\n",
      "Materials Science and Engineering                6590\n",
      "Mechanical Engineering                          10632\n",
      "Media Arts and Sciences                          1218\n",
      "Nuclear Science and Engineering                  2892\n",
      "Physics                                         21425\n",
      "Name: TotalArticleCount, dtype: int64\n",
      "\n",
      "\n",
      "Mean:\n",
      "Department\n",
      "Aeronautics and Astronautics                     54.705882\n",
      "Biological Engineering                          154.452381\n",
      "Biology                                         125.225352\n",
      "Brain and Cognitive Sciences                    101.358491\n",
      "Chemical Engineering                            175.731707\n",
      "Chemistry                                       147.809524\n",
      "Civil and Environmental Engineering              85.794872\n",
      "Electrical Engineering and Computer Sciences     88.080000\n",
      "Materials Science and Engineering               140.212766\n",
      "Mechanical Engineering                          107.393939\n",
      "Media Arts and Sciences                          42.000000\n",
      "Nuclear Science and Engineering                  82.628571\n",
      "Physics                                         214.250000\n",
      "Name: TotalArticleCount, dtype: float64\n",
      "\n",
      "\n"
     ]
    },
    {
     "data": {
      "text/plain": [
       "Text(0, 0.5, 'Average Number of Articles')"
      ]
     },
     "execution_count": 16,
     "metadata": {},
     "output_type": "execute_result"
    },
    {
     "data": {
      "image/png": "[encoded data removed]",
      "text/plain": [
       "<Figure size 1080x432 with 1 Axes>"
      ]
     },
     "metadata": {
      "needs_background": "light"
     },
     "output_type": "display_data"
    }
   ],
   "source": [
    "Tacs = data.groupby('Department')['TotalArticleCount'].sum()\n",
    "print(Tacs)\n",
    "\n",
    "print('\\n')\n",
    "\n",
    "print(\"Mean:\")\n",
    "\n",
    "Tacm = data.groupby('Department')['TotalArticleCount'].mean()\n",
    "print(Tacm)\n",
    "\n",
    "print('\\n')\n",
    "\n",
    "Tacm.plot.bar(figsize=(15,6), title=\"TotalArticleCount mean for each department\").set_ylabel(\"Average Number of Articles\")"
   ]
  },
  {
   "cell_type": "markdown",
   "metadata": {},
   "source": [
    "\"Physics\" department has the highest TotalArticleCount and the highest AverageTotalArticleCount;\n",
    "\n",
    "\"Media Arts and Sciences\" department has the lowest TotalArticleCount and the lowest AverageTotalArticleCount."
   ]
  },
  {
   "cell_type": "markdown",
   "metadata": {},
   "source": [
    "**Conference Proceeding Count**"
   ]
  },
  {
   "cell_type": "code",
   "execution_count": 17,
   "metadata": {},
   "outputs": [
    {
     "name": "stdout",
     "output_type": "stream",
     "text": [
      "Department\n",
      "Aeronautics and Astronautics                    2481\n",
      "Biological Engineering                           251\n",
      "Biology                                          181\n",
      "Brain and Cognitive Sciences                     610\n",
      "Chemical Engineering                             188\n",
      "Chemistry                                        382\n",
      "Civil and Environmental Engineering              778\n",
      "Electrical Engineering and Computer Sciences    6917\n",
      "Materials Science and Engineering               1140\n",
      "Mechanical Engineering                          3296\n",
      "Media Arts and Sciences                         1449\n",
      "Nuclear Science and Engineering                  306\n",
      "Physics                                         2106\n",
      "Name: TotalConfProcCount, dtype: int64\n",
      "\n",
      "\n",
      "Mean:\n",
      "Department\n",
      "Aeronautics and Astronautics                    48.647059\n",
      "Biological Engineering                           5.976190\n",
      "Biology                                          2.549296\n",
      "Brain and Cognitive Sciences                    11.509434\n",
      "Chemical Engineering                             4.585366\n",
      "Chemistry                                        9.095238\n",
      "Civil and Environmental Engineering             19.948718\n",
      "Electrical Engineering and Computer Sciences    69.170000\n",
      "Materials Science and Engineering               24.255319\n",
      "Mechanical Engineering                          33.292929\n",
      "Media Arts and Sciences                         49.965517\n",
      "Nuclear Science and Engineering                  8.742857\n",
      "Physics                                         21.060000\n",
      "Name: TotalConfProcCount, dtype: float64\n",
      "\n",
      "\n"
     ]
    },
    {
     "data": {
      "text/plain": [
       "Text(0, 0.5, 'Average Number of Conference Proceedings')"
      ]
     },
     "execution_count": 17,
     "metadata": {},
     "output_type": "execute_result"
    },
    {
     "data": {
      "image/png": "[encoded data removed]",
      "text/plain": [
       "<Figure size 1080x432 with 1 Axes>"
      ]
     },
     "metadata": {
      "needs_background": "light"
     },
     "output_type": "display_data"
    }
   ],
   "source": [
    "Tcpcs = data.groupby('Department')['TotalConfProcCount'].sum()\n",
    "print(Tcpcs)\n",
    "\n",
    "print('\\n')\n",
    "\n",
    "print(\"Mean:\")\n",
    "\n",
    "Tcpcm = data.groupby('Department')['TotalConfProcCount'].mean()\n",
    "print(Tcpcm)\n",
    "\n",
    "print('\\n')\n",
    "\n",
    "Tcpcm.plot.bar(figsize=(15,6), title=\"TotalConfProcCount mean for each department\").set_ylabel(\"Average Number of Conference Proceedings\")"
   ]
  },
  {
   "cell_type": "markdown",
   "metadata": {},
   "source": [
    "\"Electrical Engineering and Computer Sciences\" department has the highest TotalConfProcCount and the highest AverageTotalConfProcCount;\n",
    "\n",
    "\"Biology\" department has the lowest TotalConfProcCount and the lowest AverageTotalConfProcCount.\n"
   ]
  },
  {
   "cell_type": "markdown",
   "metadata": {},
   "source": [
    "**Patent Count**"
   ]
  },
  {
   "cell_type": "code",
   "execution_count": 18,
   "metadata": {},
   "outputs": [
    {
     "name": "stdout",
     "output_type": "stream",
     "text": [
      "Department\n",
      "Aeronautics and Astronautics                     179\n",
      "Biological Engineering                           936\n",
      "Biology                                          328\n",
      "Brain and Cognitive Sciences                     358\n",
      "Chemical Engineering                             991\n",
      "Chemistry                                        579\n",
      "Civil and Environmental Engineering               61\n",
      "Electrical Engineering and Computer Sciences    1252\n",
      "Materials Science and Engineering                869\n",
      "Mechanical Engineering                          1732\n",
      "Media Arts and Sciences                          443\n",
      "Nuclear Science and Engineering                   68\n",
      "Physics                                          309\n",
      "Name: TotalPatentCount, dtype: int64\n",
      "\n",
      "\n",
      "Mean:\n",
      "Department\n",
      "Aeronautics and Astronautics                     3.509804\n",
      "Biological Engineering                          22.285714\n",
      "Biology                                          4.619718\n",
      "Brain and Cognitive Sciences                     6.754717\n",
      "Chemical Engineering                            24.170732\n",
      "Chemistry                                       13.785714\n",
      "Civil and Environmental Engineering              1.564103\n",
      "Electrical Engineering and Computer Sciences    12.520000\n",
      "Materials Science and Engineering               18.489362\n",
      "Mechanical Engineering                          17.494949\n",
      "Media Arts and Sciences                         15.275862\n",
      "Nuclear Science and Engineering                  1.942857\n",
      "Physics                                          3.090000\n",
      "Name: TotalPatentCount, dtype: float64\n",
      "\n",
      "\n"
     ]
    },
    {
     "data": {
      "text/plain": [
       "Text(0, 0.5, 'Average Number of Patents')"
      ]
     },
     "execution_count": 18,
     "metadata": {},
     "output_type": "execute_result"
    },
    {
     "data": {
      "image/png": "[encoded data removed]",
      "text/plain": [
       "<Figure size 1080x432 with 1 Axes>"
      ]
     },
     "metadata": {
      "needs_background": "light"
     },
     "output_type": "display_data"
    }
   ],
   "source": [
    "Tpcs = data.groupby('Department')['TotalPatentCount'].sum()\n",
    "print(Tpcs)\n",
    "\n",
    "print('\\n')\n",
    "\n",
    "print(\"Mean:\")\n",
    "\n",
    "Tpcm = data.groupby('Department')['TotalPatentCount'].mean()\n",
    "print(Tpcm)\n",
    "\n",
    "print('\\n')\n",
    "\n",
    "Tpcm.plot.bar(figsize=(15,6), title=\"TotalPatentCount mean for each department\").set_ylabel(\"Average Number of Patents\")"
   ]
  },
  {
   "cell_type": "markdown",
   "metadata": {},
   "source": [
    "\"Mechanical Engineering\" department has the highest TotalPatentCount BUT \"Biological Engineering\" has the highest AverageTotalPatentCount;\n",
    "\n",
    "\"Civil and Environmental Engineering\" department has the lowest TotalPatentCount and the lowest AverageTotalPatentCount."
   ]
  },
  {
   "cell_type": "markdown",
   "metadata": {},
   "source": [
    "**Grant Count**"
   ]
  },
  {
   "cell_type": "code",
   "execution_count": 19,
   "metadata": {},
   "outputs": [
    {
     "name": "stdout",
     "output_type": "stream",
     "text": [
      "Department\n",
      "Aeronautics and Astronautics                    1073\n",
      "Biological Engineering                           967\n",
      "Biology                                          689\n",
      "Brain and Cognitive Sciences                     602\n",
      "Chemical Engineering                             611\n",
      "Chemistry                                        619\n",
      "Civil and Environmental Engineering              420\n",
      "Electrical Engineering and Computer Sciences    1811\n",
      "Materials Science and Engineering                552\n",
      "Mechanical Engineering                          1400\n",
      "Media Arts and Sciences                          302\n",
      "Nuclear Science and Engineering                  286\n",
      "Physics                                         1446\n",
      "Name: TotalGrantCount, dtype: int64\n",
      "\n",
      "\n",
      "Mean:\n",
      "Department\n",
      "Aeronautics and Astronautics                    21.039216\n",
      "Biological Engineering                          23.023810\n",
      "Biology                                          9.704225\n",
      "Brain and Cognitive Sciences                    11.358491\n",
      "Chemical Engineering                            14.902439\n",
      "Chemistry                                       14.738095\n",
      "Civil and Environmental Engineering             10.769231\n",
      "Electrical Engineering and Computer Sciences    18.110000\n",
      "Materials Science and Engineering               11.744681\n",
      "Mechanical Engineering                          14.141414\n",
      "Media Arts and Sciences                         10.413793\n",
      "Nuclear Science and Engineering                  8.171429\n",
      "Physics                                         14.460000\n",
      "Name: TotalGrantCount, dtype: float64\n",
      "\n",
      "\n"
     ]
    },
    {
     "data": {
      "text/plain": [
       "Text(0, 0.5, 'Average Number of Grants')"
      ]
     },
     "execution_count": 19,
     "metadata": {},
     "output_type": "execute_result"
    },
    {
     "data": {
      "image/png": "[encoded data removed]",
      "text/plain": [
       "<Figure size 1080x432 with 1 Axes>"
      ]
     },
     "metadata": {
      "needs_background": "light"
     },
     "output_type": "display_data"
    }
   ],
   "source": [
    "Tgcs = data.groupby('Department')['TotalGrantCount'].sum()\n",
    "print(Tgcs)\n",
    "\n",
    "print('\\n')\n",
    "\n",
    "print(\"Mean:\")\n",
    "\n",
    "Tgcm = data.groupby('Department')['TotalGrantCount'].mean()\n",
    "print(Tgcm)\n",
    "\n",
    "print('\\n')\n",
    "\n",
    "Tgcm.plot.bar(figsize=(15,6), title=\"TotalGrantCount mean for each department\").set_ylabel(\"Average Number of Grants\")"
   ]
  },
  {
   "cell_type": "markdown",
   "metadata": {},
   "source": [
    "\"Electrical Engineering and Computer Sciences\" department has the highest TotalGrantCount BUT \"Biological Engineering\" has the highest AverageTotalGrantCount;\n",
    "\n",
    "\"Nuclear Science and Engineering\" department has the lowest TotalGrantCount and the lowest AverageTotalGrantCount.\n",
    "\n",
    "In general, for [TotalConfProcCount] and [TotalArticleCount] the highest, lowest, Averagehighest and Averagelowest is the same department;\n",
    "\n",
    "BUT for [TotalPatentCount] and [TotalGrantCount] the highest and Averagehighest are different, for lowest and Averagelowest are still the same."
   ]
  },
  {
   "cell_type": "markdown",
   "metadata": {},
   "source": [
    "### 3. Gender difference in each department"
   ]
  },
  {
   "cell_type": "code",
   "execution_count": 65,
   "metadata": {},
   "outputs": [
    {
     "data": {
      "text/plain": [
       "Department                                    Gender\n",
       "Aeronautics and Astronautics                  Female    20\n",
       "                                              Male      31\n",
       "Biological Engineering                        Female    16\n",
       "                                              Male      26\n",
       "Biology                                       Female    32\n",
       "                                              Male      39\n",
       "Brain and Cognitive Sciences                  Female    27\n",
       "                                              Male      26\n",
       "Chemical Engineering                          Female    18\n",
       "                                              Male      23\n",
       "Chemistry                                     Female    21\n",
       "                                              Male      21\n",
       "Civil and Environmental Engineering           Female    22\n",
       "                                              Male      17\n",
       "Electrical Engineering and Computer Sciences  Female    44\n",
       "                                              Male      56\n",
       "Materials Science and Engineering             Female    31\n",
       "                                              Male      16\n",
       "Mechanical Engineering                        Female    46\n",
       "                                              Male      53\n",
       "Media Arts and Sciences                       Female    16\n",
       "                                              Male      13\n",
       "Nuclear Science and Engineering               Female    19\n",
       "                                              Male      16\n",
       "Physics                                       Female    44\n",
       "                                              Male      56\n",
       "dtype: int64"
      ]
     },
     "execution_count": 65,
     "metadata": {},
     "output_type": "execute_result"
    }
   ],
   "source": [
    "dg = data.groupby(['Department', 'Gender']).size()\n",
    "dg"
   ]
  },
  {
   "cell_type": "code",
   "execution_count": 66,
   "metadata": {},
   "outputs": [
    {
     "data": {
      "text/plain": [
       "[Text(0, 0, 'Aeronautics and Astronautics'),\n",
       " Text(1, 0, 'Biological Engineering '),\n",
       " Text(2, 0, 'Biology '),\n",
       " Text(3, 0, 'Brain and Cognitive Sciences '),\n",
       " Text(4, 0, 'Chemical Engineering '),\n",
       " Text(5, 0, 'Chemistry'),\n",
       " Text(6, 0, 'Civil and Environmental Engineering '),\n",
       " Text(7, 0, 'Electrical Engineering and Computer Sciences'),\n",
       " Text(8, 0, 'Materials Science and Engineering  '),\n",
       " Text(9, 0, 'Mechanical Engineering'),\n",
       " Text(10, 0, 'Media Arts and Sciences '),\n",
       " Text(11, 0, 'Nuclear Science and Engineering '),\n",
       " Text(12, 0, 'Physics ')]"
      ]
     },
     "execution_count": 66,
     "metadata": {},
     "output_type": "execute_result"
    },
    {
     "data": {
      "image/png": "[encoded data removed]",
      "text/plain": [
       "<Figure size 2160x1080 with 1 Axes>"
      ]
     },
     "metadata": {
      "needs_background": "light"
     },
     "output_type": "display_data"
    }
   ],
   "source": [
    "ax = dk.plot.bar(rot=0, figsize=(30, 15), fontsize= 16)\n",
    "ax.set_xticklabels(dk.index,rotation=90)"
   ]
  },
  {
   "cell_type": "markdown",
   "metadata": {},
   "source": [
    "# Conclusion"
   ]
  },
  {
   "cell_type": "markdown",
   "metadata": {},
   "source": [
    "Based on the graphical analysis based on whole dataset by gender, by department, and by gender per department, we found out that there's an apparently comparison between the female and male results in all 4 categories, article, patent, grant, and conference proceeding, that we have looked at.\n",
    "\n",
    "On an overall basis, male has a comparatively larger number of people than female, but the difference in each department varies, as the graph right above shows."
   ]
  },
  {
   "cell_type": "code",
   "execution_count": null,
   "metadata": {},
   "outputs": [],
   "source": []
  }
 ],
 "metadata": {
  "kernelspec": {
   "display_name": "Python 3",
   "language": "python",
   "name": "python3"
  },
  "language_info": {
   "codemirror_mode": {
    "name": "ipython",
    "version": 3
   },
   "file_extension": ".py",
   "mimetype": "text/x-python",
   "name": "python",
   "nbconvert_exporter": "python",
   "pygments_lexer": "ipython3",
   "version": "3.8.4"
  }
 },
 "nbformat": 4,
 "nbformat_minor": 4
}
